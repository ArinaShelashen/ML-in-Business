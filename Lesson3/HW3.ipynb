{
 "cells": [
  {
   "cell_type": "markdown",
   "id": "6b349541",
   "metadata": {},
   "source": [
    "## HW3"
   ]
  },
  {
   "cell_type": "markdown",
   "id": "1173898e",
   "metadata": {},
   "source": [
    "1. обучить несколько разных моделей на наборе данных ССЗ (train_case2.csv): логрег, бустинг, лес и т.д - на ваш выбор 2-3 варианта\n",
    "2. при обучении моделей обязательно использовать кроссвалидацию"
   ]
  },
  {
   "cell_type": "code",
   "execution_count": 101,
   "id": "381ab5c4",
   "metadata": {},
   "outputs": [],
   "source": [
    "import pandas as pd\n",
    "import numpy as np\n",
    "from sklearn.model_selection import cross_val_score, train_test_split\n",
    "from sklearn.preprocessing import StandardScaler\n",
    "from sklearn.pipeline import Pipeline, make_pipeline, FeatureUnion\n",
    "\n",
    "from sklearn.metrics import precision_recall_curve, roc_curve, roc_auc_score\n",
    "from sklearn.base import BaseEstimator, TransformerMixin\n",
    "from sklearn.linear_model import LogisticRegression\n",
    "\n",
    "from sklearn.ensemble import RandomForestClassifier, GradientBoostingClassifier"
   ]
  },
  {
   "cell_type": "code",
   "execution_count": 102,
   "id": "0268fdf8",
   "metadata": {},
   "outputs": [
    {
     "name": "stderr",
     "output_type": "stream",
     "text": [
      "C:\\Users\\ASUS\\AppData\\Local\\Temp\\ipykernel_16308\\2324205212.py:1: FutureWarning: In a future version of pandas all arguments of read_csv except for the argument 'filepath_or_buffer' will be keyword-only.\n",
      "  df = pd.read_csv('train_case2.csv', ';')\n"
     ]
    },
    {
     "data": {
      "text/html": [
       "<div>\n",
       "<style scoped>\n",
       "    .dataframe tbody tr th:only-of-type {\n",
       "        vertical-align: middle;\n",
       "    }\n",
       "\n",
       "    .dataframe tbody tr th {\n",
       "        vertical-align: top;\n",
       "    }\n",
       "\n",
       "    .dataframe thead th {\n",
       "        text-align: right;\n",
       "    }\n",
       "</style>\n",
       "<table border=\"1\" class=\"dataframe\">\n",
       "  <thead>\n",
       "    <tr style=\"text-align: right;\">\n",
       "      <th></th>\n",
       "      <th>id</th>\n",
       "      <th>age</th>\n",
       "      <th>gender</th>\n",
       "      <th>height</th>\n",
       "      <th>weight</th>\n",
       "      <th>ap_hi</th>\n",
       "      <th>ap_lo</th>\n",
       "      <th>cholesterol</th>\n",
       "      <th>gluc</th>\n",
       "      <th>smoke</th>\n",
       "      <th>alco</th>\n",
       "      <th>active</th>\n",
       "      <th>cardio</th>\n",
       "    </tr>\n",
       "  </thead>\n",
       "  <tbody>\n",
       "    <tr>\n",
       "      <th>0</th>\n",
       "      <td>0</td>\n",
       "      <td>18393</td>\n",
       "      <td>2</td>\n",
       "      <td>168</td>\n",
       "      <td>62.0</td>\n",
       "      <td>110</td>\n",
       "      <td>80</td>\n",
       "      <td>1</td>\n",
       "      <td>1</td>\n",
       "      <td>0</td>\n",
       "      <td>0</td>\n",
       "      <td>1</td>\n",
       "      <td>0</td>\n",
       "    </tr>\n",
       "    <tr>\n",
       "      <th>1</th>\n",
       "      <td>1</td>\n",
       "      <td>20228</td>\n",
       "      <td>1</td>\n",
       "      <td>156</td>\n",
       "      <td>85.0</td>\n",
       "      <td>140</td>\n",
       "      <td>90</td>\n",
       "      <td>3</td>\n",
       "      <td>1</td>\n",
       "      <td>0</td>\n",
       "      <td>0</td>\n",
       "      <td>1</td>\n",
       "      <td>1</td>\n",
       "    </tr>\n",
       "    <tr>\n",
       "      <th>2</th>\n",
       "      <td>2</td>\n",
       "      <td>18857</td>\n",
       "      <td>1</td>\n",
       "      <td>165</td>\n",
       "      <td>64.0</td>\n",
       "      <td>130</td>\n",
       "      <td>70</td>\n",
       "      <td>3</td>\n",
       "      <td>1</td>\n",
       "      <td>0</td>\n",
       "      <td>0</td>\n",
       "      <td>0</td>\n",
       "      <td>1</td>\n",
       "    </tr>\n",
       "  </tbody>\n",
       "</table>\n",
       "</div>"
      ],
      "text/plain": [
       "   id    age  gender  height  weight  ap_hi  ap_lo  cholesterol  gluc  smoke  \\\n",
       "0   0  18393       2     168    62.0    110     80            1     1      0   \n",
       "1   1  20228       1     156    85.0    140     90            3     1      0   \n",
       "2   2  18857       1     165    64.0    130     70            3     1      0   \n",
       "\n",
       "   alco  active  cardio  \n",
       "0     0       1       0  \n",
       "1     0       1       1  \n",
       "2     0       0       1  "
      ]
     },
     "execution_count": 102,
     "metadata": {},
     "output_type": "execute_result"
    }
   ],
   "source": [
    "df = pd.read_csv('train_case2.csv', ';')\n",
    "df.head(3)"
   ]
  },
  {
   "cell_type": "code",
   "execution_count": 103,
   "id": "77c93bad",
   "metadata": {},
   "outputs": [],
   "source": [
    "X_train, X_test, y_train, y_test = train_test_split(df.drop(columns='cardio'), df['cardio'], random_state = 26)"
   ]
  },
  {
   "cell_type": "code",
   "execution_count": 104,
   "id": "df9602e3",
   "metadata": {},
   "outputs": [],
   "source": [
    "class ColumnSelector(BaseEstimator, TransformerMixin):\n",
    "    \"\"\"\n",
    "    Transformer to select a single column from the data frame to perform additional transformations on\n",
    "    \"\"\"\n",
    "    def __init__(self, key):\n",
    "        self.key = key\n",
    "    \n",
    "    def fit(self, X, y=None):\n",
    "        return self\n",
    "    \n",
    "    def transform(self, X):\n",
    "        return X[self.key]\n",
    "    \n",
    "class NumberSelector(BaseEstimator, TransformerMixin):\n",
    "    \"\"\"\n",
    "    Transformer to select a single column from the data frame to perform additional transformations on\n",
    "    Use on numeric columns in the data\n",
    "    \"\"\"\n",
    "    def __init__(self, key):\n",
    "        self.key = key\n",
    "    \n",
    "    def fit(self, X, y=None):\n",
    "        return self\n",
    "    \n",
    "    def transform(self, X):\n",
    "        return X[[self.key]]\n",
    "\n",
    "class OHEEncoder(BaseEstimator, TransformerMixin):\n",
    "    def __init__(self, key):\n",
    "        self.key = key\n",
    "        self.columns = []\n",
    "        \n",
    "    def fit(self, X, y=None):\n",
    "        self.columns = [col for col in pd.get_dummies(X, prefix=self.key).columns]\n",
    "        return self\n",
    "    \n",
    "    def transform(self, X):\n",
    "        X = pd.get_dummies(X, prefix=self.key)\n",
    "        test_columns = [col for col in X.columns]\n",
    "        for col_ in test_columns:\n",
    "            if col_ not in self.columns:\n",
    "                X[col_] = 0\n",
    "        return X[self.columns]"
   ]
  },
  {
   "cell_type": "markdown",
   "id": "ce325f61",
   "metadata": {},
   "source": [
    "**Обнаружилось, что показатель 'gluc' состоит из 3 категорий. Так что в отличие от ноутбука с урока я отнесла этот показатель к категорийным**"
   ]
  },
  {
   "cell_type": "code",
   "execution_count": 105,
   "id": "02636748",
   "metadata": {},
   "outputs": [],
   "source": [
    "continuos_cols = ['age', 'height', 'weight', 'ap_hi', 'ap_lo']\n",
    "cat_cols = ['gender', 'cholesterol', 'gluc']\n",
    "base_cols = ['smoke', 'alco', 'active']\n",
    "\n",
    "continuos_transformers = []\n",
    "cat_transformers = []\n",
    "base_transformers = []"
   ]
  },
  {
   "cell_type": "code",
   "execution_count": 106,
   "id": "eb3a82b4",
   "metadata": {},
   "outputs": [],
   "source": [
    "for cont_col in continuos_cols:\n",
    "    transformer = Pipeline([\n",
    "        ('selector', NumberSelector(key=cont_col)),\n",
    "        ('standart', StandardScaler())\n",
    "    ])\n",
    "    continuos_transformers.append((cont_col, transformer))\n",
    "\n",
    "for cat_col in cat_cols:\n",
    "    cat_transformer = Pipeline([\n",
    "        ('selector', ColumnSelector(key=cat_col)),\n",
    "        ('ohe', OHEEncoder(key=cat_col))\n",
    "    ])\n",
    "    cat_transformers.append((cat_col, cat_transformer))\n",
    "    \n",
    "for base_col in base_cols:\n",
    "    base_transformer = Pipeline([\n",
    "        ('selector', NumberSelector(key=cont_col))\n",
    "    ])\n",
    "    base_transformers.append((base_col, base_transformer))"
   ]
  },
  {
   "cell_type": "code",
   "execution_count": 107,
   "id": "e0569ef1",
   "metadata": {},
   "outputs": [
    {
     "data": {
      "text/plain": [
       "array([[ 1.53098947e+00, -1.64178219e-01, -1.48714440e-02, ...,\n",
       "         9.00000000e+01,  9.00000000e+01,  9.00000000e+01],\n",
       "       [-1.40325068e-01,  2.03249163e-01, -5.70561522e-01, ...,\n",
       "         8.00000000e+01,  8.00000000e+01,  8.00000000e+01],\n",
       "       [-1.74673419e+00,  6.93152339e-01, -6.40022781e-01, ...,\n",
       "         8.00000000e+01,  8.00000000e+01,  8.00000000e+01],\n",
       "       ...,\n",
       "       [-1.44857492e+00, -1.02150878e+00, -3.62177742e-01, ...,\n",
       "         8.00000000e+01,  8.00000000e+01,  8.00000000e+01],\n",
       "       [-2.13343664e-01,  1.30553131e+00,  8.18663672e-01, ...,\n",
       "         8.00000000e+01,  8.00000000e+01,  8.00000000e+01],\n",
       "       [-4.49437126e-01, -1.64178219e-01, -5.70561522e-01, ...,\n",
       "         9.00000000e+01,  9.00000000e+01,  9.00000000e+01]])"
      ]
     },
     "execution_count": 107,
     "metadata": {},
     "output_type": "execute_result"
    }
   ],
   "source": [
    "feats = FeatureUnion(continuos_transformers+cat_transformers+base_transformers)\n",
    "feature_processing = Pipeline([('feats', feats)])\n",
    "feature_processing.fit_transform(X_train)"
   ]
  },
  {
   "cell_type": "code",
   "execution_count": 108,
   "id": "d0e8430c",
   "metadata": {},
   "outputs": [],
   "source": [
    "classifier_LogReg = Pipeline([\n",
    "    ('features', feats),\n",
    "    ('classifier', LogisticRegression(random_state=26, max_iter = 500)),\n",
    "])\n",
    "\n",
    "classifier_RandFor = Pipeline([\n",
    "    ('features', feats),\n",
    "    ('classifier', RandomForestClassifier(random_state=26, min_samples_leaf=5)),\n",
    "])\n",
    "\n",
    "classifier_GradBoost = Pipeline([\n",
    "    ('features', feats),\n",
    "    ('classifier', GradientBoostingClassifier(random_state=26, min_samples_leaf=5)),\n",
    "])"
   ]
  },
  {
   "cell_type": "markdown",
   "id": "70f1a209",
   "metadata": {},
   "source": [
    "**Т.к. классы несбалансированы и мы оцениваем все-таки наличие заболеваний, будем оценивать по полноте (лучше мы посчитаем здорового человека за больного, чем упустим больного)**"
   ]
  },
  {
   "cell_type": "code",
   "execution_count": 109,
   "id": "f5b04481",
   "metadata": {},
   "outputs": [
    {
     "name": "stdout",
     "output_type": "stream",
     "text": [
      "LogReg CV score is 0.6721258601982729+-0.008670662556912795\n"
     ]
    }
   ],
   "source": [
    "# Cross-validation\n",
    "cv_scores_LogReg = cross_val_score(classifier_LogReg, X_train, y_train, cv=16, scoring='recall')\n",
    "cv_score_LogReg = np.mean(cv_scores_LogReg)\n",
    "cv_score_std_LogReg = np.std(cv_scores_LogReg)\n",
    "print(f'LogReg CV score is {cv_score_LogReg}+-{cv_score_std_LogReg}')"
   ]
  },
  {
   "cell_type": "code",
   "execution_count": 110,
   "id": "2cf81e6c",
   "metadata": {},
   "outputs": [
    {
     "name": "stdout",
     "output_type": "stream",
     "text": [
      "RandFor CV score is 0.6918183625392013+-0.010371420154928673\n"
     ]
    }
   ],
   "source": [
    "cv_scores_RandFor = cross_val_score(classifier_RandFor, X_train, y_train, cv=16, scoring='recall')\n",
    "cv_score_RandFor = np.mean(cv_scores_RandFor)\n",
    "cv_score_std_RandFor = np.std(cv_scores_RandFor)\n",
    "print(f'RandFor CV score is {cv_score_RandFor}+-{cv_score_std_RandFor}')"
   ]
  },
  {
   "cell_type": "code",
   "execution_count": 111,
   "id": "590e421d",
   "metadata": {},
   "outputs": [
    {
     "name": "stdout",
     "output_type": "stream",
     "text": [
      "GradBoostCV score is 0.6969602766754358+-0.010319119467121773\n"
     ]
    }
   ],
   "source": [
    "cv_scores_GradBoost = cross_val_score(classifier_GradBoost, X_train, y_train, cv=16, scoring='recall')\n",
    "cv_score_GradBoost = np.mean(cv_scores_GradBoost)\n",
    "cv_score_std_GradBoost = np.std(cv_scores_GradBoost)\n",
    "print(f'GradBoostCV score is {cv_score_GradBoost}+-{cv_score_std_GradBoost}')"
   ]
  },
  {
   "cell_type": "code",
   "execution_count": 112,
   "id": "b286cffb",
   "metadata": {},
   "outputs": [],
   "source": [
    "# classifier_LogReg.fit(X_train, y_train)\n",
    "# y_pred_LogReg = classifier_LogReg.predict_proba(X_test)[:,1]\n",
    "\n",
    "classifier_RandFor.fit(X_train, y_train)\n",
    "y_pred_RandFor = classifier_RandFor.predict_proba(X_test)[:,1]\n",
    "\n",
    "# classifier_GradBoost.fit(X_train, y_train)\n",
    "# y_pred_GradBoost = classifier_GradBoost.predict_proba(X_test)[:,1]"
   ]
  },
  {
   "cell_type": "markdown",
   "id": "9f34a35a",
   "metadata": {},
   "source": [
    "**По причине, указанной выше, придадим больше веса полноте и поставим b = 2**"
   ]
  },
  {
   "cell_type": "code",
   "execution_count": 113,
   "id": "7d7f8701",
   "metadata": {},
   "outputs": [
    {
     "name": "stdout",
     "output_type": "stream",
     "text": [
      "Best Threshold=0.234498, F-Score=0.838, Precision=0.544, Recall=0.969\n"
     ]
    }
   ],
   "source": [
    "b=2\n",
    "prec_LogReg, rec_LogReg, thre_LogReg = precision_recall_curve(y_test.values, y_pred_LogReg)\n",
    "f_LogReg = (1+b**2)*(prec_LogReg * rec_LogReg) / (b**2*prec_LogReg + rec_LogReg)\n",
    "ix_lr = np.argmax(f_LogReg)\n",
    "rocauc_LogReg =  round(roc_auc_score(y_test.values, y_pred_LogReg),3)\n",
    "print('Best Threshold=%f, F-Score=%.3f, Precision=%.3f, Recall=%.3f' % (thre_LogReg[ix_lr], \n",
    "                                                                        f_LogReg[ix_lr],\n",
    "                                                                        prec_LogReg[ix_lr],\n",
    "                                                                        rec_LogReg[ix_lr]))"
   ]
  },
  {
   "cell_type": "code",
   "execution_count": 114,
   "id": "a66a7138",
   "metadata": {},
   "outputs": [
    {
     "name": "stdout",
     "output_type": "stream",
     "text": [
      "Best Threshold=0.154893, F-Score=0.841, Precision=0.536, Recall=0.979\n"
     ]
    }
   ],
   "source": [
    "b=2\n",
    "prec_RandFor, rec_RandFor, thre_RandFor = precision_recall_curve(y_test.values, y_pred_RandFor)\n",
    "f_RandFor = (1+b**2)*(prec_RandFor * rec_RandFor) / (b**2*prec_RandFor + rec_RandFor)\n",
    "ix_rf = np.argmax(f_RandFor)\n",
    "rocauc_RandFor =  round(roc_auc_score(y_test.values, y_pred_RandFor),3)\n",
    "print('Best Threshold=%f, F-Score=%.3f, Precision=%.3f, Recall=%.3f' % (thre_RandFor[ix_rf], \n",
    "                                                                        f_RandFor[ix_rf],\n",
    "                                                                        prec_RandFor[ix_rf],\n",
    "                                                                        rec_RandFor[ix_rf]))"
   ]
  },
  {
   "cell_type": "code",
   "execution_count": 115,
   "id": "a004230a",
   "metadata": {},
   "outputs": [
    {
     "data": {
      "text/plain": [
       "1567"
      ]
     },
     "execution_count": 115,
     "metadata": {},
     "output_type": "execute_result"
    }
   ],
   "source": [
    "ix_rf"
   ]
  },
  {
   "cell_type": "code",
   "execution_count": 116,
   "id": "b5f5568d",
   "metadata": {},
   "outputs": [
    {
     "name": "stdout",
     "output_type": "stream",
     "text": [
      "Best Threshold=0.153012, F-Score=0.840, Precision=0.543, Recall=0.973\n"
     ]
    }
   ],
   "source": [
    "b=2\n",
    "prec_GradBoost, rec_GradBoost, thre_GradBoost = precision_recall_curve(y_test.values, y_pred_GradBoost)\n",
    "f_GradBoost = (1+b**2)*(prec_GradBoost * rec_GradBoost) / (b**2*prec_GradBoost + rec_GradBoost)\n",
    "ix_gb = np.argmax(f_GradBoost)\n",
    "rocauc_GradBoost =  round(roc_auc_score(y_test.values, y_pred_GradBoost),3)\n",
    "print('Best Threshold=%f, F-Score=%.3f, Precision=%.3f, Recall=%.3f' % (thre_GradBoost[ix_gb], \n",
    "                                                                        f_GradBoost[ix_gb],\n",
    "                                                                        prec_GradBoost[ix_gb],\n",
    "                                                                        rec_GradBoost[ix_gb]))"
   ]
  },
  {
   "cell_type": "code",
   "execution_count": 117,
   "id": "b6fe8772",
   "metadata": {},
   "outputs": [],
   "source": [
    "table = {'Metrics':['F-Score', 'Precision', 'Recall', 'Roc Auc'],\\\n",
    "         'LogReg':[f_LogReg[ix_lr], prec_LogReg[ix_lr], rec_LogReg[ix_lr], rocauc_LogReg],\\\n",
    "        'RandFor':[f_RandFor[ix_rf], prec_RandFor[ix_rf], rec_RandFor[ix_rf], rocauc_RandFor],\\\n",
    "        'GradBoost':[f_GradBoost[ix_gb], prec_GradBoost[ix_gb], rec_GradBoost[ix_gb],rocauc_RandFor]}"
   ]
  },
  {
   "cell_type": "code",
   "execution_count": 118,
   "id": "5ccca972",
   "metadata": {},
   "outputs": [
    {
     "data": {
      "text/html": [
       "<div>\n",
       "<style scoped>\n",
       "    .dataframe tbody tr th:only-of-type {\n",
       "        vertical-align: middle;\n",
       "    }\n",
       "\n",
       "    .dataframe tbody tr th {\n",
       "        vertical-align: top;\n",
       "    }\n",
       "\n",
       "    .dataframe thead th {\n",
       "        text-align: right;\n",
       "    }\n",
       "</style>\n",
       "<table border=\"1\" class=\"dataframe\">\n",
       "  <thead>\n",
       "    <tr style=\"text-align: right;\">\n",
       "      <th></th>\n",
       "      <th>GradBoost</th>\n",
       "      <th>LogReg</th>\n",
       "      <th>RandFor</th>\n",
       "    </tr>\n",
       "    <tr>\n",
       "      <th>Metrics</th>\n",
       "      <th></th>\n",
       "      <th></th>\n",
       "      <th></th>\n",
       "    </tr>\n",
       "  </thead>\n",
       "  <tbody>\n",
       "    <tr>\n",
       "      <th>F-Score</th>\n",
       "      <td>0.840276</td>\n",
       "      <td>0.838175</td>\n",
       "      <td>0.840547</td>\n",
       "    </tr>\n",
       "    <tr>\n",
       "      <th>Precision</th>\n",
       "      <td>0.543279</td>\n",
       "      <td>0.544331</td>\n",
       "      <td>0.536409</td>\n",
       "    </tr>\n",
       "    <tr>\n",
       "      <th>Recall</th>\n",
       "      <td>0.973295</td>\n",
       "      <td>0.968940</td>\n",
       "      <td>0.979370</td>\n",
       "    </tr>\n",
       "    <tr>\n",
       "      <th>Roc Auc</th>\n",
       "      <td>0.797000</td>\n",
       "      <td>0.785000</td>\n",
       "      <td>0.797000</td>\n",
       "    </tr>\n",
       "  </tbody>\n",
       "</table>\n",
       "</div>"
      ],
      "text/plain": [
       "           GradBoost    LogReg   RandFor\n",
       "Metrics                                 \n",
       "F-Score     0.840276  0.838175  0.840547\n",
       "Precision   0.543279  0.544331  0.536409\n",
       "Recall      0.973295  0.968940  0.979370\n",
       "Roc Auc     0.797000  0.785000  0.797000"
      ]
     },
     "execution_count": 118,
     "metadata": {},
     "output_type": "execute_result"
    }
   ],
   "source": [
    "pd.pivot_table(pd.DataFrame(table),\n",
    "               index=[\"Metrics\"])"
   ]
  },
  {
   "cell_type": "markdown",
   "id": "b928af3c",
   "metadata": {},
   "source": [
    "Поскольку стояла задача определения наличия заболевания, то будем оценивать по полноте (более подробно выбор описан в комментарии выше)<br><br>\n",
    "По всем метрикам все модели похожи. В среднем градиентный бустинг показал результат лучше, чем ЛогРег, но немного хуже, чем Лес (можно подрегулировать эти модели подбором гиперпараметров для достижения лучших результатов).<br><br>\n",
    "Для анализа датасетов с дисбалансом лучше использовать PR-curve, чем ROC-curve. (Но хорошего объяснения я не нашла, буду признательна за доп материалы на эту тему)"
   ]
  }
 ],
 "metadata": {
  "kernelspec": {
   "display_name": "gpu2",
   "language": "python",
   "name": "gpu2"
  },
  "language_info": {
   "codemirror_mode": {
    "name": "ipython",
    "version": 3
   },
   "file_extension": ".py",
   "mimetype": "text/x-python",
   "name": "python",
   "nbconvert_exporter": "python",
   "pygments_lexer": "ipython3",
   "version": "3.9.15"
  }
 },
 "nbformat": 4,
 "nbformat_minor": 5
}
