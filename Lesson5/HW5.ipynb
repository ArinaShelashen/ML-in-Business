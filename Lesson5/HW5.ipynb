{
 "cells": [
  {
   "cell_type": "markdown",
   "id": "99556542",
   "metadata": {},
   "source": [
    "1. Для нашего пайплайна (Case1) поэкспериментировать с разными моделями: 1 - бустинг, 2 - логистическая регрессия (не забудьте здесь добавить в cont_transformer стандартизацию - нормирование вещественных признаков)\n"
   ]
  },
  {
   "cell_type": "code",
   "execution_count": 143,
   "id": "1dc3629a",
   "metadata": {},
   "outputs": [],
   "source": [
    "import pandas as pd\n",
    "import numpy as np\n",
    "from sklearn.model_selection import train_test_split\n",
    "from sklearn.base import BaseEstimator, TransformerMixin\n",
    "from sklearn.pipeline import Pipeline, FeatureUnion\n",
    "from sklearn.ensemble import RandomForestClassifier, GradientBoostingClassifier\n",
    "from sklearn.linear_model import LogisticRegression\n",
    "from sklearn.preprocessing import MinMaxScaler\n",
    "from sklearn.metrics import f1_score, roc_auc_score, precision_score, classification_report, precision_recall_curve, confusion_matrix\n",
    "\n",
    "import matplotlib.pyplot as plt\n",
    "\n",
    "%matplotlib inline"
   ]
  },
  {
   "cell_type": "code",
   "execution_count": 144,
   "id": "b8ef3e1d",
   "metadata": {},
   "outputs": [
    {
     "data": {
      "text/html": [
       "<div>\n",
       "<style scoped>\n",
       "    .dataframe tbody tr th:only-of-type {\n",
       "        vertical-align: middle;\n",
       "    }\n",
       "\n",
       "    .dataframe tbody tr th {\n",
       "        vertical-align: top;\n",
       "    }\n",
       "\n",
       "    .dataframe thead th {\n",
       "        text-align: right;\n",
       "    }\n",
       "</style>\n",
       "<table border=\"1\" class=\"dataframe\">\n",
       "  <thead>\n",
       "    <tr style=\"text-align: right;\">\n",
       "      <th></th>\n",
       "      <th>RowNumber</th>\n",
       "      <th>CustomerId</th>\n",
       "      <th>Surname</th>\n",
       "      <th>CreditScore</th>\n",
       "      <th>Geography</th>\n",
       "      <th>Gender</th>\n",
       "      <th>Age</th>\n",
       "      <th>Tenure</th>\n",
       "      <th>Balance</th>\n",
       "      <th>NumOfProducts</th>\n",
       "      <th>HasCrCard</th>\n",
       "      <th>IsActiveMember</th>\n",
       "      <th>EstimatedSalary</th>\n",
       "      <th>Exited</th>\n",
       "    </tr>\n",
       "  </thead>\n",
       "  <tbody>\n",
       "    <tr>\n",
       "      <th>0</th>\n",
       "      <td>1</td>\n",
       "      <td>15634602</td>\n",
       "      <td>Hargrave</td>\n",
       "      <td>619</td>\n",
       "      <td>France</td>\n",
       "      <td>Female</td>\n",
       "      <td>42</td>\n",
       "      <td>2</td>\n",
       "      <td>0.00</td>\n",
       "      <td>1</td>\n",
       "      <td>1</td>\n",
       "      <td>1</td>\n",
       "      <td>101348.88</td>\n",
       "      <td>1</td>\n",
       "    </tr>\n",
       "    <tr>\n",
       "      <th>1</th>\n",
       "      <td>2</td>\n",
       "      <td>15647311</td>\n",
       "      <td>Hill</td>\n",
       "      <td>608</td>\n",
       "      <td>Spain</td>\n",
       "      <td>Female</td>\n",
       "      <td>41</td>\n",
       "      <td>1</td>\n",
       "      <td>83807.86</td>\n",
       "      <td>1</td>\n",
       "      <td>0</td>\n",
       "      <td>1</td>\n",
       "      <td>112542.58</td>\n",
       "      <td>0</td>\n",
       "    </tr>\n",
       "    <tr>\n",
       "      <th>2</th>\n",
       "      <td>3</td>\n",
       "      <td>15619304</td>\n",
       "      <td>Onio</td>\n",
       "      <td>502</td>\n",
       "      <td>France</td>\n",
       "      <td>Female</td>\n",
       "      <td>42</td>\n",
       "      <td>8</td>\n",
       "      <td>159660.80</td>\n",
       "      <td>3</td>\n",
       "      <td>1</td>\n",
       "      <td>0</td>\n",
       "      <td>113931.57</td>\n",
       "      <td>1</td>\n",
       "    </tr>\n",
       "  </tbody>\n",
       "</table>\n",
       "</div>"
      ],
      "text/plain": [
       "   RowNumber  CustomerId   Surname  CreditScore Geography  Gender  Age  \\\n",
       "0          1    15634602  Hargrave          619    France  Female   42   \n",
       "1          2    15647311      Hill          608     Spain  Female   41   \n",
       "2          3    15619304      Onio          502    France  Female   42   \n",
       "\n",
       "   Tenure    Balance  NumOfProducts  HasCrCard  IsActiveMember  \\\n",
       "0       2       0.00              1          1               1   \n",
       "1       1   83807.86              1          0               1   \n",
       "2       8  159660.80              3          1               0   \n",
       "\n",
       "   EstimatedSalary  Exited  \n",
       "0        101348.88       1  \n",
       "1        112542.58       0  \n",
       "2        113931.57       1  "
      ]
     },
     "execution_count": 144,
     "metadata": {},
     "output_type": "execute_result"
    }
   ],
   "source": [
    "df = pd.read_csv(\"churn_data.csv\")\n",
    "df.head(3)"
   ]
  },
  {
   "cell_type": "code",
   "execution_count": 145,
   "id": "c2d48b98",
   "metadata": {},
   "outputs": [],
   "source": [
    "#разделим данные на train/test\n",
    "X_train, X_test, y_train, y_test = train_test_split(df, df['Exited'], random_state=26)"
   ]
  },
  {
   "cell_type": "code",
   "execution_count": 146,
   "id": "d39caac4",
   "metadata": {},
   "outputs": [],
   "source": [
    "class FeatureSelector(BaseEstimator, TransformerMixin):\n",
    "    def __init__(self, column):\n",
    "        self.column = column\n",
    "\n",
    "    def fit(self, X, y=None):\n",
    "        return self\n",
    "\n",
    "    def transform(self, X, y=None):\n",
    "        return X[self.column]\n",
    "    \n",
    "class NumberSelector(BaseEstimator, TransformerMixin):\n",
    "    \"\"\"\n",
    "    Transformer to select a single column from the data frame to perform additional transformations on\n",
    "    Use on numeric columns in the data\n",
    "    \"\"\"\n",
    "    def __init__(self, key):\n",
    "        self.key = key\n",
    "\n",
    "    def fit(self, X, y=None):\n",
    "        return self\n",
    "\n",
    "    def transform(self, X):\n",
    "        return X[[self.key]]\n",
    "    \n",
    "class OHEEncoder(BaseEstimator, TransformerMixin):\n",
    "    def __init__(self, key):\n",
    "        self.key = key\n",
    "        self.columns = []\n",
    "\n",
    "    def fit(self, X, y=None):\n",
    "        self.columns = [col for col in pd.get_dummies(X, prefix=self.key).columns]\n",
    "        return self\n",
    "\n",
    "    def transform(self, X):\n",
    "        X = pd.get_dummies(X, prefix=self.key)\n",
    "        test_columns = [col for col in X.columns]\n",
    "        for col_ in self.columns:\n",
    "            if col_ not in test_columns:\n",
    "                X[col_] = 0\n",
    "        return X[self.columns]"
   ]
  },
  {
   "cell_type": "code",
   "execution_count": 147,
   "id": "8b40d9e6",
   "metadata": {},
   "outputs": [],
   "source": [
    "categorical_columns = ['Geography', 'Gender', 'Tenure', 'HasCrCard', 'IsActiveMember']\n",
    "continuous_columns = ['CreditScore', 'Age', 'Balance', 'NumOfProducts', 'EstimatedSalary']"
   ]
  },
  {
   "cell_type": "code",
   "execution_count": 148,
   "id": "44d8fe02",
   "metadata": {},
   "outputs": [],
   "source": [
    "scaler = MinMaxScaler()"
   ]
  },
  {
   "cell_type": "code",
   "execution_count": 149,
   "id": "b6faf946",
   "metadata": {},
   "outputs": [],
   "source": [
    "# scaler.fit(np.vstack((X_train[continuous_columns], X_test[continuous_columns])))"
   ]
  },
  {
   "cell_type": "code",
   "execution_count": 150,
   "id": "d716283f",
   "metadata": {},
   "outputs": [],
   "source": [
    "final_transformers = list()\n",
    "# scaler = MinMaxScaler()\n",
    "\n",
    "for cat_col in categorical_columns:\n",
    "    cat_transformer = Pipeline([\n",
    "                ('selector', FeatureSelector(column=cat_col)),\n",
    "                ('ohe', OHEEncoder(key=cat_col))\n",
    "            ])\n",
    "    final_transformers.append((cat_col, cat_transformer))\n",
    "    \n",
    "for cont_col in continuous_columns:\n",
    "    cont_transformer = Pipeline([\n",
    "                ('selector', NumberSelector(key=cont_col))\n",
    "            ])\n",
    "    final_transformers.append((cont_col, cont_transformer))"
   ]
  },
  {
   "cell_type": "code",
   "execution_count": 151,
   "id": "b7a722d0",
   "metadata": {},
   "outputs": [],
   "source": [
    "feats = FeatureUnion(final_transformers)\n",
    "\n",
    "feature_processing = Pipeline([('feats', feats)])"
   ]
  },
  {
   "cell_type": "code",
   "execution_count": 152,
   "id": "8ec4dc7c",
   "metadata": {},
   "outputs": [],
   "source": [
    "pipelineRF = Pipeline([\n",
    "    ('features',feats),\n",
    "    ('classifier', RandomForestClassifier(random_state = 26))\n",
    "    \n",
    "])\n",
    "pipelineRF.fit(X_train, y_train)\n",
    "preds = pipelineRF.predict_proba(X_test)[:, 1]"
   ]
  },
  {
   "cell_type": "code",
   "execution_count": 153,
   "id": "c9f6231b",
   "metadata": {},
   "outputs": [
    {
     "name": "stdout",
     "output_type": "stream",
     "text": [
      "Best Threshold=0.35, F-Score=0.630, Precision=0.610, Recall=0.651\n"
     ]
    }
   ],
   "source": [
    "precisionRF, recallRF, thresholdsRF = precision_recall_curve(y_test, preds)\n",
    "\n",
    "fscoreRF = (2 * precisionRF * recallRF) / (precisionRF + recallRF)\n",
    "ix = np.argmax(fscoreRF)\n",
    "print(f'Best Threshold={thresholdsRF[ix]}, F-Score={fscoreRF[ix]:.3f}, Precision={precisionRF[ix]:.3f}, Recall={recallRF[ix]:.3f}')"
   ]
  },
  {
   "cell_type": "code",
   "execution_count": 154,
   "id": "07ae8176",
   "metadata": {},
   "outputs": [],
   "source": [
    "pipelineGB = Pipeline([\n",
    "    ('features',feats),\n",
    "    ('classifier', GradientBoostingClassifier(random_state = 26)),\n",
    "])\n",
    "pipelineGB.fit(X_train, y_train)\n",
    "preds = pipelineGB.predict_proba(X_test)[:, 1]"
   ]
  },
  {
   "cell_type": "code",
   "execution_count": 155,
   "id": "2ca408a4",
   "metadata": {},
   "outputs": [
    {
     "name": "stdout",
     "output_type": "stream",
     "text": [
      "Best Threshold=0.2923309979838839, F-Score=0.645, Precision=0.607, Recall=0.687\n"
     ]
    }
   ],
   "source": [
    "precisionGB, recallGB, thresholdsGB = precision_recall_curve(y_test, preds)\n",
    "\n",
    "fscoreGB = (2 * precisionGB * recallGB) / (precisionGB + recallGB)\n",
    "ix = np.argmax(fscoreGB)\n",
    "print(f'Best Threshold={thresholdsGB[ix]}, F-Score={fscoreGB[ix]:.3f}, Precision={precisionGB[ix]:.3f}, Recall={recallGB[ix]:.3f}')"
   ]
  },
  {
   "cell_type": "code",
   "execution_count": 194,
   "id": "da9a93b2",
   "metadata": {},
   "outputs": [],
   "source": [
    "pipelineLR = Pipeline([\n",
    "    ('features',feats),\n",
    "    ('scaler', scaler),\n",
    "    ('classifier', LogisticRegression(random_state = 26)),\n",
    "])\n",
    "pipelineLR.fit(X_train, y_train)\n",
    "preds = pipelineLR.predict_proba(X_test)[:, 1]"
   ]
  },
  {
   "cell_type": "code",
   "execution_count": 195,
   "id": "66acc688",
   "metadata": {},
   "outputs": [
    {
     "name": "stdout",
     "output_type": "stream",
     "text": [
      "Best Threshold=0.19827086071182923, F-Score=0.480, Precision=0.357, Recall=0.732\n"
     ]
    },
    {
     "name": "stderr",
     "output_type": "stream",
     "text": [
      "C:\\Users\\ASUS\\AppData\\Local\\Temp\\ipykernel_1900\\1728934764.py:3: RuntimeWarning: invalid value encountered in true_divide\n",
      "  fscoreLR = (2 * precisionLR * recallLR) / (precisionLR + recallLR)\n"
     ]
    }
   ],
   "source": [
    "precisionLR, recallLR, thresholdsLR = precision_recall_curve(y_test, preds)\n",
    "\n",
    "fscoreLR = (2 * precisionLR * recallLR) / (precisionLR + recallLR)\n",
    "fscoreLR = np.nan_to_num(fscoreLR)\n",
    "ix = np.argmax(fscoreLR)\n",
    "print(f'Best Threshold={thresholdsLR[ix]}, F-Score={fscoreLR[ix]:.3f}, Precision={precisionLR[ix]:.3f}, Recall={recallLR[ix]:.3f}')"
   ]
  },
  {
   "cell_type": "markdown",
   "id": "7c1cb2a0",
   "metadata": {},
   "source": [
    "2.Отобрать лучшую модель по метрикам (кстати, какая по вашему мнению здесь наиболее подходящая DS-метрика)"
   ]
  },
  {
   "cell_type": "markdown",
   "id": "d5ea8fa9",
   "metadata": {},
   "source": [
    "*По метрикам сильно отстает LogReg, лучшая модель - GradBoost. Тут лучше смотреть на fscore. С одной стороны нам важнее полнота: лучше мы позвоним клиентам, которые не собираются уходить, но точно охватим всех, кого надо переубедить. С другой стороны, мы можем лишний раз побеспокоить тех, кто не собирался уходить, и они передумают.<br>\n",
    "Но если рассуждать с экономической точки зрения, наверное нам важнее точность, чтобы не тратить деньги на тех, кто и так остаётся.*"
   ]
  },
  {
   "cell_type": "markdown",
   "id": "f570e24a",
   "metadata": {},
   "source": [
    "3.Для отобранной модели (на отложенной выборке) сделать оценку экономической эффективности при тех же вводных, как в вопросе 2 (1 доллар на привлечение, 2 доллара - с каждого правильно классифицированного (True Positive) удержанного). (подсказка) нужно посчитать FP/TP/FN/TN для выбранного оптимального порога вероятности и посчитать выручку и траты."
   ]
  },
  {
   "cell_type": "code",
   "execution_count": 221,
   "id": "552ba104",
   "metadata": {},
   "outputs": [
    {
     "name": "stdout",
     "output_type": "stream",
     "text": [
      "Best Threshold=0.2923309979838839, F-Score=0.645, Precision=0.607, Recall=0.687\n"
     ]
    }
   ],
   "source": [
    "pipelineGB.fit(X_train, y_train)\n",
    "preds = pipelineGB.predict_proba(X_test)[:, 1]\n",
    "\n",
    "precisionGB, recallGB, thresholdsGB = precision_recall_curve(y_test, preds)\n",
    "\n",
    "fscoreGB = (2 * precisionGB * recallGB) / (precisionGB + recallGB)\n",
    "ix = np.argmax(fscoreGB)\n",
    "print(f'Best Threshold={thresholdsGB[ix]}, F-Score={fscoreGB[ix]:.3f}, Precision={precisionGB[ix]:.3f}, Recall={recallGB[ix]:.3f}')"
   ]
  },
  {
   "cell_type": "code",
   "execution_count": 222,
   "id": "8230f5d9",
   "metadata": {},
   "outputs": [
    {
     "data": {
      "text/plain": [
       "array([[1805,  213],\n",
       "       [ 152,  330]], dtype=int64)"
      ]
     },
     "execution_count": 222,
     "metadata": {},
     "output_type": "execute_result"
    }
   ],
   "source": [
    "cnf_matrix = confusion_matrix(y_test, preds>thresholdsLR[ix])\n",
    "cnf_matrix"
   ]
  },
  {
   "cell_type": "code",
   "execution_count": 223,
   "id": "f17b9184",
   "metadata": {},
   "outputs": [
    {
     "data": {
      "text/plain": [
       "117"
      ]
     },
     "execution_count": 223,
     "metadata": {},
     "output_type": "execute_result"
    }
   ],
   "source": [
    "savings = 2*cnf_matrix[1,1]-cnf_matrix[0,1]-cnf_matrix[1,1]\n",
    "savings"
   ]
  },
  {
   "cell_type": "markdown",
   "id": "878f72af",
   "metadata": {},
   "source": [
    "По предсказаниям модели выгода составит 117$.<br>\n",
    "Попробуем перебрать отсечки вручную:"
   ]
  },
  {
   "cell_type": "code",
   "execution_count": 224,
   "id": "b851bd5f",
   "metadata": {},
   "outputs": [
    {
     "name": "stdout",
     "output_type": "stream",
     "text": [
      "Best threshold: 0.5859, savings: 182\n"
     ]
    }
   ],
   "source": [
    "thresh = np.linspace(0,1,100)\n",
    "savs = []\n",
    "for i in thresh:\n",
    "    cnf_matrix = confusion_matrix(y_test, preds>i)\n",
    "    savs.append(2*cnf_matrix[1,1]-cnf_matrix[0,1]-cnf_matrix[1,1])\n",
    "ix = np.argmax(savs)\n",
    "best_thr = thresh[ix]\n",
    "tot_sav = savs[ix]\n",
    "print(f'Best threshold: {best_thr:.4f}, savings: {tot_sav}')"
   ]
  },
  {
   "cell_type": "markdown",
   "id": "ef776929",
   "metadata": {},
   "source": [
    "На самом деле, лучшая отсечка с экономической точки зрения выше и выгода при ней составит аж 182$"
   ]
  },
  {
   "cell_type": "markdown",
   "id": "110466be",
   "metadata": {},
   "source": [
    "\n",
    "4. (опционально) Провести подбор гиперпараметров лучшей модели по итогам 2-3\n",
    "5. (опционально) Еще раз провести оценку экономической эффективности"
   ]
  },
  {
   "cell_type": "code",
   "execution_count": null,
   "id": "35d46491",
   "metadata": {},
   "outputs": [],
   "source": []
  }
 ],
 "metadata": {
  "kernelspec": {
   "display_name": "gpu2",
   "language": "python",
   "name": "gpu2"
  },
  "language_info": {
   "codemirror_mode": {
    "name": "ipython",
    "version": 3
   },
   "file_extension": ".py",
   "mimetype": "text/x-python",
   "name": "python",
   "nbconvert_exporter": "python",
   "pygments_lexer": "ipython3",
   "version": "3.9.15"
  }
 },
 "nbformat": 4,
 "nbformat_minor": 5
}
