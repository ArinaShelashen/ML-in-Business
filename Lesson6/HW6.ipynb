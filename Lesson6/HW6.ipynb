{
 "cells": [
  {
   "cell_type": "code",
   "execution_count": 315,
   "id": "87c3dce9",
   "metadata": {},
   "outputs": [],
   "source": [
    "import pandas as pd\n",
    "import random\n",
    "import numpy as np\n",
    "from catboost import CatBoostClassifier\n",
    "from sklearn.model_selection import train_test_split\n",
    "from sklearn.metrics import f1_score, roc_auc_score, precision_score, classification_report, precision_recall_curve, confusion_matrix"
   ]
  },
  {
   "cell_type": "markdown",
   "id": "e7bc4c0c",
   "metadata": {},
   "source": [
    "1. взять любой набор данных для бинарной классификации (можно скачать один из модельных с https://archive.ics.uci.edu/ml/datasets.php)"
   ]
  },
  {
   "cell_type": "code",
   "execution_count": 316,
   "id": "d38a6853",
   "metadata": {},
   "outputs": [
    {
     "name": "stderr",
     "output_type": "stream",
     "text": [
      "C:\\Users\\ASUS\\AppData\\Local\\Temp\\ipykernel_8872\\1633459544.py:1: FutureWarning: In a future version of pandas all arguments of read_csv except for the argument 'filepath_or_buffer' will be keyword-only.\n",
      "  df = pd.read_csv('secondary_data.csv', ';')\n"
     ]
    }
   ],
   "source": [
    "df = pd.read_csv('secondary_data.csv', ';')"
   ]
  },
  {
   "cell_type": "code",
   "execution_count": 317,
   "id": "3c449357",
   "metadata": {},
   "outputs": [
    {
     "data": {
      "text/html": [
       "<div>\n",
       "<style scoped>\n",
       "    .dataframe tbody tr th:only-of-type {\n",
       "        vertical-align: middle;\n",
       "    }\n",
       "\n",
       "    .dataframe tbody tr th {\n",
       "        vertical-align: top;\n",
       "    }\n",
       "\n",
       "    .dataframe thead th {\n",
       "        text-align: right;\n",
       "    }\n",
       "</style>\n",
       "<table border=\"1\" class=\"dataframe\">\n",
       "  <thead>\n",
       "    <tr style=\"text-align: right;\">\n",
       "      <th></th>\n",
       "      <th>class</th>\n",
       "      <th>cap-diameter</th>\n",
       "      <th>cap-shape</th>\n",
       "      <th>cap-surface</th>\n",
       "      <th>cap-color</th>\n",
       "      <th>does-bruise-or-bleed</th>\n",
       "      <th>gill-attachment</th>\n",
       "      <th>gill-spacing</th>\n",
       "      <th>gill-color</th>\n",
       "      <th>stem-height</th>\n",
       "      <th>...</th>\n",
       "      <th>stem-root</th>\n",
       "      <th>stem-surface</th>\n",
       "      <th>stem-color</th>\n",
       "      <th>veil-type</th>\n",
       "      <th>veil-color</th>\n",
       "      <th>has-ring</th>\n",
       "      <th>ring-type</th>\n",
       "      <th>spore-print-color</th>\n",
       "      <th>habitat</th>\n",
       "      <th>season</th>\n",
       "    </tr>\n",
       "  </thead>\n",
       "  <tbody>\n",
       "    <tr>\n",
       "      <th>0</th>\n",
       "      <td>p</td>\n",
       "      <td>15.26</td>\n",
       "      <td>x</td>\n",
       "      <td>g</td>\n",
       "      <td>o</td>\n",
       "      <td>f</td>\n",
       "      <td>e</td>\n",
       "      <td>NaN</td>\n",
       "      <td>w</td>\n",
       "      <td>16.95</td>\n",
       "      <td>...</td>\n",
       "      <td>s</td>\n",
       "      <td>y</td>\n",
       "      <td>w</td>\n",
       "      <td>u</td>\n",
       "      <td>w</td>\n",
       "      <td>t</td>\n",
       "      <td>g</td>\n",
       "      <td>NaN</td>\n",
       "      <td>d</td>\n",
       "      <td>w</td>\n",
       "    </tr>\n",
       "    <tr>\n",
       "      <th>1</th>\n",
       "      <td>p</td>\n",
       "      <td>16.60</td>\n",
       "      <td>x</td>\n",
       "      <td>g</td>\n",
       "      <td>o</td>\n",
       "      <td>f</td>\n",
       "      <td>e</td>\n",
       "      <td>NaN</td>\n",
       "      <td>w</td>\n",
       "      <td>17.99</td>\n",
       "      <td>...</td>\n",
       "      <td>s</td>\n",
       "      <td>y</td>\n",
       "      <td>w</td>\n",
       "      <td>u</td>\n",
       "      <td>w</td>\n",
       "      <td>t</td>\n",
       "      <td>g</td>\n",
       "      <td>NaN</td>\n",
       "      <td>d</td>\n",
       "      <td>u</td>\n",
       "    </tr>\n",
       "    <tr>\n",
       "      <th>2</th>\n",
       "      <td>p</td>\n",
       "      <td>14.07</td>\n",
       "      <td>x</td>\n",
       "      <td>g</td>\n",
       "      <td>o</td>\n",
       "      <td>f</td>\n",
       "      <td>e</td>\n",
       "      <td>NaN</td>\n",
       "      <td>w</td>\n",
       "      <td>17.80</td>\n",
       "      <td>...</td>\n",
       "      <td>s</td>\n",
       "      <td>y</td>\n",
       "      <td>w</td>\n",
       "      <td>u</td>\n",
       "      <td>w</td>\n",
       "      <td>t</td>\n",
       "      <td>g</td>\n",
       "      <td>NaN</td>\n",
       "      <td>d</td>\n",
       "      <td>w</td>\n",
       "    </tr>\n",
       "    <tr>\n",
       "      <th>3</th>\n",
       "      <td>p</td>\n",
       "      <td>14.17</td>\n",
       "      <td>f</td>\n",
       "      <td>h</td>\n",
       "      <td>e</td>\n",
       "      <td>f</td>\n",
       "      <td>e</td>\n",
       "      <td>NaN</td>\n",
       "      <td>w</td>\n",
       "      <td>15.77</td>\n",
       "      <td>...</td>\n",
       "      <td>s</td>\n",
       "      <td>y</td>\n",
       "      <td>w</td>\n",
       "      <td>u</td>\n",
       "      <td>w</td>\n",
       "      <td>t</td>\n",
       "      <td>p</td>\n",
       "      <td>NaN</td>\n",
       "      <td>d</td>\n",
       "      <td>w</td>\n",
       "    </tr>\n",
       "    <tr>\n",
       "      <th>4</th>\n",
       "      <td>p</td>\n",
       "      <td>14.64</td>\n",
       "      <td>x</td>\n",
       "      <td>h</td>\n",
       "      <td>o</td>\n",
       "      <td>f</td>\n",
       "      <td>e</td>\n",
       "      <td>NaN</td>\n",
       "      <td>w</td>\n",
       "      <td>16.53</td>\n",
       "      <td>...</td>\n",
       "      <td>s</td>\n",
       "      <td>y</td>\n",
       "      <td>w</td>\n",
       "      <td>u</td>\n",
       "      <td>w</td>\n",
       "      <td>t</td>\n",
       "      <td>p</td>\n",
       "      <td>NaN</td>\n",
       "      <td>d</td>\n",
       "      <td>w</td>\n",
       "    </tr>\n",
       "  </tbody>\n",
       "</table>\n",
       "<p>5 rows × 21 columns</p>\n",
       "</div>"
      ],
      "text/plain": [
       "  class  cap-diameter cap-shape cap-surface cap-color does-bruise-or-bleed  \\\n",
       "0     p         15.26         x           g         o                    f   \n",
       "1     p         16.60         x           g         o                    f   \n",
       "2     p         14.07         x           g         o                    f   \n",
       "3     p         14.17         f           h         e                    f   \n",
       "4     p         14.64         x           h         o                    f   \n",
       "\n",
       "  gill-attachment gill-spacing gill-color  stem-height  ...  stem-root  \\\n",
       "0               e          NaN          w        16.95  ...          s   \n",
       "1               e          NaN          w        17.99  ...          s   \n",
       "2               e          NaN          w        17.80  ...          s   \n",
       "3               e          NaN          w        15.77  ...          s   \n",
       "4               e          NaN          w        16.53  ...          s   \n",
       "\n",
       "  stem-surface stem-color veil-type veil-color has-ring ring-type  \\\n",
       "0            y          w         u          w        t         g   \n",
       "1            y          w         u          w        t         g   \n",
       "2            y          w         u          w        t         g   \n",
       "3            y          w         u          w        t         p   \n",
       "4            y          w         u          w        t         p   \n",
       "\n",
       "  spore-print-color habitat season  \n",
       "0               NaN       d      w  \n",
       "1               NaN       d      u  \n",
       "2               NaN       d      w  \n",
       "3               NaN       d      w  \n",
       "4               NaN       d      w  \n",
       "\n",
       "[5 rows x 21 columns]"
      ]
     },
     "execution_count": 317,
     "metadata": {},
     "output_type": "execute_result"
    }
   ],
   "source": [
    "df.head()"
   ]
  },
  {
   "cell_type": "code",
   "execution_count": 318,
   "id": "cc9d9866",
   "metadata": {},
   "outputs": [
    {
     "name": "stdout",
     "output_type": "stream",
     "text": [
      "<class 'pandas.core.frame.DataFrame'>\n",
      "RangeIndex: 61069 entries, 0 to 61068\n",
      "Data columns (total 21 columns):\n",
      " #   Column                Non-Null Count  Dtype  \n",
      "---  ------                --------------  -----  \n",
      " 0   class                 61069 non-null  object \n",
      " 1   cap-diameter          61069 non-null  float64\n",
      " 2   cap-shape             61069 non-null  object \n",
      " 3   cap-surface           46949 non-null  object \n",
      " 4   cap-color             61069 non-null  object \n",
      " 5   does-bruise-or-bleed  61069 non-null  object \n",
      " 6   gill-attachment       51185 non-null  object \n",
      " 7   gill-spacing          36006 non-null  object \n",
      " 8   gill-color            61069 non-null  object \n",
      " 9   stem-height           61069 non-null  float64\n",
      " 10  stem-width            61069 non-null  float64\n",
      " 11  stem-root             9531 non-null   object \n",
      " 12  stem-surface          22945 non-null  object \n",
      " 13  stem-color            61069 non-null  object \n",
      " 14  veil-type             3177 non-null   object \n",
      " 15  veil-color            7413 non-null   object \n",
      " 16  has-ring              61069 non-null  object \n",
      " 17  ring-type             58598 non-null  object \n",
      " 18  spore-print-color     6354 non-null   object \n",
      " 19  habitat               61069 non-null  object \n",
      " 20  season                61069 non-null  object \n",
      "dtypes: float64(3), object(18)\n",
      "memory usage: 9.8+ MB\n"
     ]
    }
   ],
   "source": [
    "df.info()"
   ]
  },
  {
   "cell_type": "code",
   "execution_count": 319,
   "id": "d8e1a084",
   "metadata": {},
   "outputs": [
    {
     "data": {
      "text/plain": [
       "p    33888\n",
       "e    27181\n",
       "Name: class, dtype: int64"
      ]
     },
     "execution_count": 319,
     "metadata": {},
     "output_type": "execute_result"
    }
   ],
   "source": [
    "df['class'].value_counts()"
   ]
  },
  {
   "cell_type": "markdown",
   "id": "11a9599c",
   "metadata": {},
   "source": [
    "2. сделать feature engineering"
   ]
  },
  {
   "cell_type": "markdown",
   "id": "dd8afef0",
   "metadata": {},
   "source": [
    "<span style=\"color:#8B0000\"> У некоторых признаков заполняем пропуски рандомными значениями </span>"
   ]
  },
  {
   "cell_type": "code",
   "execution_count": 320,
   "id": "f0875a55",
   "metadata": {},
   "outputs": [],
   "source": [
    "cat_nans = ['cap-surface', 'gill-attachment', 'gill-spacing','ring-type']"
   ]
  },
  {
   "cell_type": "code",
   "execution_count": 321,
   "id": "11151d95",
   "metadata": {},
   "outputs": [],
   "source": [
    "for cat in cat_nans:\n",
    "    \n",
    "    df[cat] = df[cat].fillna(0)\n",
    "    cat_types=list(df[cat].unique())\n",
    "    cat_types.remove(0)\n",
    "    df[cat] = df[cat].apply(lambda x: x if x!=0 else random.choice(cat_types))\n"
   ]
  },
  {
   "cell_type": "markdown",
   "id": "39b5c94f",
   "metadata": {},
   "source": [
    "<span style=\"color:#8B0000\"> Признаки, в которых ОЧЕНЬ много пропусков, в основном удалим (spore-print-color,veil-type,stem-surface,stem-root) кроме:<br>\n",
    "Veil-color (цвет \"вуали\") сделаем равным цвету ножки гриба<br>\n",
    "</span>"
   ]
  },
  {
   "cell_type": "code",
   "execution_count": 322,
   "id": "eff1a23f",
   "metadata": {},
   "outputs": [],
   "source": [
    "feat_to_del = ['spore-print-color','veil-type','stem-surface','stem-root']\n",
    "for f in feat_to_del:\n",
    "    df.drop(f, inplace=True, axis=1)"
   ]
  },
  {
   "cell_type": "code",
   "execution_count": 323,
   "id": "f033badb",
   "metadata": {},
   "outputs": [],
   "source": [
    "df.loc[df['veil-color'].isna(), 'veil-color'] = df['stem-color']"
   ]
  },
  {
   "cell_type": "code",
   "execution_count": 324,
   "id": "bf0d1acd",
   "metadata": {},
   "outputs": [
    {
     "data": {
      "text/plain": [
       "array(['w', 'y', 'n', 'u', 'b', 'l', 'r', 'p', 'e', 'k', 'g', 'o', 'f'],\n",
       "      dtype=object)"
      ]
     },
     "execution_count": 324,
     "metadata": {},
     "output_type": "execute_result"
    }
   ],
   "source": [
    "df['veil-color'].unique()"
   ]
  },
  {
   "cell_type": "code",
   "execution_count": 325,
   "id": "ee2af313",
   "metadata": {},
   "outputs": [
    {
     "data": {
      "text/plain": [
       "0"
      ]
     },
     "execution_count": 325,
     "metadata": {},
     "output_type": "execute_result"
    }
   ],
   "source": [
    "df.isna().sum().sum()"
   ]
  },
  {
   "cell_type": "code",
   "execution_count": 326,
   "id": "d00f3af3",
   "metadata": {},
   "outputs": [],
   "source": [
    "df.loc[df['has-ring']=='t', 'has-ring'] = 1\n",
    "df.loc[df['has-ring']=='f', 'has-ring'] = 0\n",
    "df['has-ring'] = df['has-ring'].astype('int32')"
   ]
  },
  {
   "cell_type": "code",
   "execution_count": 327,
   "id": "6b6d5406",
   "metadata": {},
   "outputs": [
    {
     "data": {
      "text/plain": [
       "0    45890\n",
       "1    15179\n",
       "Name: has-ring, dtype: int64"
      ]
     },
     "execution_count": 327,
     "metadata": {},
     "output_type": "execute_result"
    }
   ],
   "source": [
    "df['has-ring'].value_counts()"
   ]
  },
  {
   "cell_type": "code",
   "execution_count": 328,
   "id": "d644f99f",
   "metadata": {},
   "outputs": [],
   "source": [
    "df.loc[df['does-bruise-or-bleed']=='t', 'does-bruise-or-bleed'] = 1\n",
    "df.loc[df['does-bruise-or-bleed']=='f', 'does-bruise-or-bleed'] = 0\n",
    "df['does-bruise-or-bleed'] = df['does-bruise-or-bleed'].astype('int32')"
   ]
  },
  {
   "cell_type": "code",
   "execution_count": 329,
   "id": "bedd5db7",
   "metadata": {},
   "outputs": [],
   "source": [
    "df.loc[df['class']=='p', 'class'] = 1\n",
    "df.loc[df['class']=='e', 'class'] = 0\n",
    "df['class'] = df['class'].astype('int32')"
   ]
  },
  {
   "cell_type": "code",
   "execution_count": 330,
   "id": "e460b232",
   "metadata": {},
   "outputs": [
    {
     "data": {
      "text/plain": [
       "1    33888\n",
       "0    27181\n",
       "Name: class, dtype: int64"
      ]
     },
     "execution_count": 330,
     "metadata": {},
     "output_type": "execute_result"
    }
   ],
   "source": [
    "df['class'].value_counts()"
   ]
  },
  {
   "cell_type": "markdown",
   "id": "61211bde",
   "metadata": {},
   "source": [
    "3. обучить любой классификатор (какой вам нравится)"
   ]
  },
  {
   "cell_type": "markdown",
   "id": "6c2cce30",
   "metadata": {},
   "source": [
    "<span style=\"color:#8B0000\"> Поскольку практически все признаки тут категориальные, будем обучать CatBoost</span>"
   ]
  },
  {
   "cell_type": "code",
   "execution_count": 331,
   "id": "fd0460d3",
   "metadata": {},
   "outputs": [],
   "source": [
    "#разделим данные на train/test\n",
    "X_train, X_test, y_train, y_test = train_test_split(df.drop(['class'], axis=1), df['class'], random_state=26, shuffle=True)"
   ]
  },
  {
   "cell_type": "markdown",
   "id": "7538dda3",
   "metadata": {},
   "source": [
    "<span style=\"color:#8B0000\"> *отбираем категор. и веществ. признаки*</span>"
   ]
  },
  {
   "cell_type": "code",
   "execution_count": 332,
   "id": "8ec3aba6",
   "metadata": {},
   "outputs": [
    {
     "name": "stdout",
     "output_type": "stream",
     "text": [
      "<class 'pandas.core.frame.DataFrame'>\n",
      "RangeIndex: 61069 entries, 0 to 61068\n",
      "Data columns (total 17 columns):\n",
      " #   Column                Non-Null Count  Dtype  \n",
      "---  ------                --------------  -----  \n",
      " 0   class                 61069 non-null  int32  \n",
      " 1   cap-diameter          61069 non-null  float64\n",
      " 2   cap-shape             61069 non-null  object \n",
      " 3   cap-surface           61069 non-null  object \n",
      " 4   cap-color             61069 non-null  object \n",
      " 5   does-bruise-or-bleed  61069 non-null  int32  \n",
      " 6   gill-attachment       61069 non-null  object \n",
      " 7   gill-spacing          61069 non-null  object \n",
      " 8   gill-color            61069 non-null  object \n",
      " 9   stem-height           61069 non-null  float64\n",
      " 10  stem-width            61069 non-null  float64\n",
      " 11  stem-color            61069 non-null  object \n",
      " 12  veil-color            61069 non-null  object \n",
      " 13  has-ring              61069 non-null  int32  \n",
      " 14  ring-type             61069 non-null  object \n",
      " 15  habitat               61069 non-null  object \n",
      " 16  season                61069 non-null  object \n",
      "dtypes: float64(3), int32(3), object(11)\n",
      "memory usage: 7.2+ MB\n"
     ]
    }
   ],
   "source": [
    "df.info()"
   ]
  },
  {
   "cell_type": "code",
   "execution_count": 333,
   "id": "958beb1b",
   "metadata": {},
   "outputs": [],
   "source": [
    "categorical_columns = ['cap-shape', 'cap-surface', 'cap-color', 'gill-attachment', \\\n",
    "                      'gill-spacing', 'gill-color', 'stem-color', 'veil-color', 'ring-type', 'habitat', 'season']\n",
    "continuous_columns = ['cap-diameter', 'does-bruise-or-bleed', 'stem-height', 'stem-width', 'has-ring']"
   ]
  },
  {
   "cell_type": "markdown",
   "id": "a25a1f6d",
   "metadata": {},
   "source": [
    "<span style=\"color:#8B0000\">*обучаем модель CatBoost*</span>"
   ]
  },
  {
   "cell_type": "code",
   "execution_count": 334,
   "id": "356c7e77",
   "metadata": {},
   "outputs": [],
   "source": [
    "modelCB = CatBoostClassifier(iterations=20, thread_count=2, random_state=26, silent=True)"
   ]
  },
  {
   "cell_type": "code",
   "execution_count": 335,
   "id": "026644c7",
   "metadata": {},
   "outputs": [],
   "source": [
    "modelCB = modelCB.fit(X_train, y_train, cat_features=categorical_columns)"
   ]
  },
  {
   "cell_type": "code",
   "execution_count": 336,
   "id": "72cce89a",
   "metadata": {},
   "outputs": [],
   "source": [
    "preds = modelCB.predict_proba(X_test)[:, 1]"
   ]
  },
  {
   "cell_type": "code",
   "execution_count": 337,
   "id": "4bd5924e",
   "metadata": {},
   "outputs": [
    {
     "name": "stdout",
     "output_type": "stream",
     "text": [
      "Best Threshold=0.5015015549614082, F-Score=0.952, Precision=0.945, Recall=0.960\n"
     ]
    }
   ],
   "source": [
    "precision, recall, thresholds = precision_recall_curve(y_test, preds)\n",
    "\n",
    "fscore = (2 * precision * recall) / (precision + recall)\n",
    "ix = np.argmax(fscore)\n",
    "print(f'Best Threshold={thresholds[ix]}, F-Score={fscore[ix]:.3f}, Precision={precision[ix]:.3f}, Recall={recall[ix]:.3f}')"
   ]
  },
  {
   "cell_type": "code",
   "execution_count": 338,
   "id": "d8b56b14",
   "metadata": {},
   "outputs": [],
   "source": [
    "results = pd.DataFrame({'Step': ['Usual Classification with labeled data'],\n",
    "                        'Fscore': [fscore[ix]],\n",
    "              'precision': [precision[ix]],\n",
    "              'recall': [recall[ix]],\n",
    "              'threshold': [thresholds[ix]]})"
   ]
  },
  {
   "cell_type": "markdown",
   "id": "91e2b653",
   "metadata": {},
   "source": [
    "<span style=\"color:#8B0000\"> *Результаты получились очень даже неплохие*</span>"
   ]
  },
  {
   "cell_type": "markdown",
   "id": "8fd6cda6",
   "metadata": {},
   "source": [
    "4. Далее разделить ваш набор данных на два множества: P (positives) и U (unlabeled). Причем брать нужно не все положительные (класс 1) примеры, а только лишь часть"
   ]
  },
  {
   "cell_type": "code",
   "execution_count": 339,
   "id": "fb26140b",
   "metadata": {},
   "outputs": [
    {
     "name": "stdout",
     "output_type": "stream",
     "text": [
      "Use 8472/33888 as positives\n"
     ]
    }
   ],
   "source": [
    "mod_df = df.copy()\n",
    "pos_ind = np.where(mod_df.iloc[:,0].values == 1)[0] #отбираем индексы только positives\n",
    "np.random.shuffle(pos_ind) #перемешиваем их\n",
    "pos_sample_len = int(0.25*len(pos_ind)) #устанавливаем кол-во новых positives (только 25% от элементов класса 1)\n",
    "print(f'Use {pos_sample_len}/{len(pos_ind)} as positives')\n",
    "pos_sample = pos_ind[:pos_sample_len] #отбираем 25% от элементов класса 1"
   ]
  },
  {
   "cell_type": "code",
   "execution_count": 340,
   "id": "7cad1241",
   "metadata": {},
   "outputs": [
    {
     "name": "stdout",
     "output_type": "stream",
     "text": [
      "Target:\n",
      " -1    52597\n",
      " 1     8472\n",
      "Name: class_test, dtype: int64\n"
     ]
    }
   ],
   "source": [
    "mod_df['class_test'] = -1 #ВСЕ элементы помечаем как unlabeled\n",
    "mod_df.loc[pos_sample, 'class_test'] = 1 #по отобранным ранее индексам 8472 эл-та помечаем как positive\n",
    "print(f'Target:\\n', mod_df.iloc[:,-1].value_counts())"
   ]
  },
  {
   "cell_type": "code",
   "execution_count": 341,
   "id": "e9169ee6",
   "metadata": {},
   "outputs": [
    {
     "data": {
      "text/html": [
       "<div>\n",
       "<style scoped>\n",
       "    .dataframe tbody tr th:only-of-type {\n",
       "        vertical-align: middle;\n",
       "    }\n",
       "\n",
       "    .dataframe tbody tr th {\n",
       "        vertical-align: top;\n",
       "    }\n",
       "\n",
       "    .dataframe thead th {\n",
       "        text-align: right;\n",
       "    }\n",
       "</style>\n",
       "<table border=\"1\" class=\"dataframe\">\n",
       "  <thead>\n",
       "    <tr style=\"text-align: right;\">\n",
       "      <th></th>\n",
       "      <th>class</th>\n",
       "      <th>cap-diameter</th>\n",
       "      <th>cap-shape</th>\n",
       "      <th>cap-surface</th>\n",
       "      <th>cap-color</th>\n",
       "      <th>does-bruise-or-bleed</th>\n",
       "      <th>gill-attachment</th>\n",
       "      <th>gill-spacing</th>\n",
       "      <th>gill-color</th>\n",
       "      <th>stem-height</th>\n",
       "      <th>stem-width</th>\n",
       "      <th>stem-color</th>\n",
       "      <th>veil-color</th>\n",
       "      <th>has-ring</th>\n",
       "      <th>ring-type</th>\n",
       "      <th>habitat</th>\n",
       "      <th>season</th>\n",
       "      <th>class_test</th>\n",
       "    </tr>\n",
       "  </thead>\n",
       "  <tbody>\n",
       "    <tr>\n",
       "      <th>0</th>\n",
       "      <td>1</td>\n",
       "      <td>15.26</td>\n",
       "      <td>x</td>\n",
       "      <td>g</td>\n",
       "      <td>o</td>\n",
       "      <td>0</td>\n",
       "      <td>e</td>\n",
       "      <td>d</td>\n",
       "      <td>w</td>\n",
       "      <td>16.95</td>\n",
       "      <td>17.09</td>\n",
       "      <td>w</td>\n",
       "      <td>w</td>\n",
       "      <td>1</td>\n",
       "      <td>g</td>\n",
       "      <td>d</td>\n",
       "      <td>w</td>\n",
       "      <td>1</td>\n",
       "    </tr>\n",
       "    <tr>\n",
       "      <th>1</th>\n",
       "      <td>1</td>\n",
       "      <td>16.60</td>\n",
       "      <td>x</td>\n",
       "      <td>g</td>\n",
       "      <td>o</td>\n",
       "      <td>0</td>\n",
       "      <td>e</td>\n",
       "      <td>d</td>\n",
       "      <td>w</td>\n",
       "      <td>17.99</td>\n",
       "      <td>18.19</td>\n",
       "      <td>w</td>\n",
       "      <td>w</td>\n",
       "      <td>1</td>\n",
       "      <td>g</td>\n",
       "      <td>d</td>\n",
       "      <td>u</td>\n",
       "      <td>-1</td>\n",
       "    </tr>\n",
       "    <tr>\n",
       "      <th>2</th>\n",
       "      <td>1</td>\n",
       "      <td>14.07</td>\n",
       "      <td>x</td>\n",
       "      <td>g</td>\n",
       "      <td>o</td>\n",
       "      <td>0</td>\n",
       "      <td>e</td>\n",
       "      <td>c</td>\n",
       "      <td>w</td>\n",
       "      <td>17.80</td>\n",
       "      <td>17.74</td>\n",
       "      <td>w</td>\n",
       "      <td>w</td>\n",
       "      <td>1</td>\n",
       "      <td>g</td>\n",
       "      <td>d</td>\n",
       "      <td>w</td>\n",
       "      <td>1</td>\n",
       "    </tr>\n",
       "    <tr>\n",
       "      <th>3</th>\n",
       "      <td>1</td>\n",
       "      <td>14.17</td>\n",
       "      <td>f</td>\n",
       "      <td>h</td>\n",
       "      <td>e</td>\n",
       "      <td>0</td>\n",
       "      <td>e</td>\n",
       "      <td>d</td>\n",
       "      <td>w</td>\n",
       "      <td>15.77</td>\n",
       "      <td>15.98</td>\n",
       "      <td>w</td>\n",
       "      <td>w</td>\n",
       "      <td>1</td>\n",
       "      <td>p</td>\n",
       "      <td>d</td>\n",
       "      <td>w</td>\n",
       "      <td>-1</td>\n",
       "    </tr>\n",
       "    <tr>\n",
       "      <th>4</th>\n",
       "      <td>1</td>\n",
       "      <td>14.64</td>\n",
       "      <td>x</td>\n",
       "      <td>h</td>\n",
       "      <td>o</td>\n",
       "      <td>0</td>\n",
       "      <td>e</td>\n",
       "      <td>d</td>\n",
       "      <td>w</td>\n",
       "      <td>16.53</td>\n",
       "      <td>17.20</td>\n",
       "      <td>w</td>\n",
       "      <td>w</td>\n",
       "      <td>1</td>\n",
       "      <td>p</td>\n",
       "      <td>d</td>\n",
       "      <td>w</td>\n",
       "      <td>-1</td>\n",
       "    </tr>\n",
       "  </tbody>\n",
       "</table>\n",
       "</div>"
      ],
      "text/plain": [
       "   class  cap-diameter cap-shape cap-surface cap-color  does-bruise-or-bleed  \\\n",
       "0      1         15.26         x           g         o                     0   \n",
       "1      1         16.60         x           g         o                     0   \n",
       "2      1         14.07         x           g         o                     0   \n",
       "3      1         14.17         f           h         e                     0   \n",
       "4      1         14.64         x           h         o                     0   \n",
       "\n",
       "  gill-attachment gill-spacing gill-color  stem-height  stem-width stem-color  \\\n",
       "0               e            d          w        16.95       17.09          w   \n",
       "1               e            d          w        17.99       18.19          w   \n",
       "2               e            c          w        17.80       17.74          w   \n",
       "3               e            d          w        15.77       15.98          w   \n",
       "4               e            d          w        16.53       17.20          w   \n",
       "\n",
       "  veil-color  has-ring ring-type habitat season  class_test  \n",
       "0          w         1         g       d      w           1  \n",
       "1          w         1         g       d      u          -1  \n",
       "2          w         1         g       d      w           1  \n",
       "3          w         1         p       d      w          -1  \n",
       "4          w         1         p       d      w          -1  "
      ]
     },
     "execution_count": 341,
     "metadata": {},
     "output_type": "execute_result"
    }
   ],
   "source": [
    "mod_df.head(5)"
   ]
  },
  {
   "cell_type": "code",
   "execution_count": 342,
   "id": "6b3d0cd9",
   "metadata": {},
   "outputs": [],
   "source": [
    "x_data = mod_df.iloc[:,1:-1].values #dataframe без разметки (исходной и новой)\n",
    "y_labeled = mod_df.iloc[:,-1].values #новая разметка по классам 1/-1\n",
    "y_positive = mod_df.iloc[:,0].values #исходная разметка по классам"
   ]
  },
  {
   "cell_type": "code",
   "execution_count": 343,
   "id": "0b33c203",
   "metadata": {},
   "outputs": [],
   "source": [
    "mod_df = mod_df.sample(frac=1) #перемешиваем\n",
    "neg_sample = mod_df[mod_df['class_test']==-1][:len(mod_df[mod_df['class_test']==1])] #sample с unlabeled эл-тами 8472шт\n",
    "sample_test = mod_df[mod_df['class_test']==-1][len(mod_df[mod_df['class_test']==1]):] #sample с остальными unlabeled эл-тами\n",
    "pos_sample = mod_df[mod_df['class_test']==1] #sample с positive эл-тами 8472шт\n",
    "sample_train = pd.concat([neg_sample, pos_sample]).sample(frac=1)"
   ]
  },
  {
   "cell_type": "code",
   "execution_count": 344,
   "id": "d731c362",
   "metadata": {
    "scrolled": false
   },
   "outputs": [
    {
     "data": {
      "text/html": [
       "<div>\n",
       "<style scoped>\n",
       "    .dataframe tbody tr th:only-of-type {\n",
       "        vertical-align: middle;\n",
       "    }\n",
       "\n",
       "    .dataframe tbody tr th {\n",
       "        vertical-align: top;\n",
       "    }\n",
       "\n",
       "    .dataframe thead th {\n",
       "        text-align: right;\n",
       "    }\n",
       "</style>\n",
       "<table border=\"1\" class=\"dataframe\">\n",
       "  <thead>\n",
       "    <tr style=\"text-align: right;\">\n",
       "      <th></th>\n",
       "      <th>class</th>\n",
       "      <th>cap-diameter</th>\n",
       "      <th>cap-shape</th>\n",
       "      <th>cap-surface</th>\n",
       "      <th>cap-color</th>\n",
       "      <th>does-bruise-or-bleed</th>\n",
       "      <th>gill-attachment</th>\n",
       "      <th>gill-spacing</th>\n",
       "      <th>gill-color</th>\n",
       "      <th>stem-height</th>\n",
       "      <th>stem-width</th>\n",
       "      <th>stem-color</th>\n",
       "      <th>veil-color</th>\n",
       "      <th>has-ring</th>\n",
       "      <th>ring-type</th>\n",
       "      <th>habitat</th>\n",
       "      <th>season</th>\n",
       "      <th>class_test</th>\n",
       "    </tr>\n",
       "  </thead>\n",
       "  <tbody>\n",
       "    <tr>\n",
       "      <th>40673</th>\n",
       "      <td>1</td>\n",
       "      <td>3.96</td>\n",
       "      <td>x</td>\n",
       "      <td>t</td>\n",
       "      <td>n</td>\n",
       "      <td>0</td>\n",
       "      <td>s</td>\n",
       "      <td>c</td>\n",
       "      <td>n</td>\n",
       "      <td>5.80</td>\n",
       "      <td>9.52</td>\n",
       "      <td>w</td>\n",
       "      <td>n</td>\n",
       "      <td>1</td>\n",
       "      <td>z</td>\n",
       "      <td>d</td>\n",
       "      <td>a</td>\n",
       "      <td>-1</td>\n",
       "    </tr>\n",
       "    <tr>\n",
       "      <th>45653</th>\n",
       "      <td>0</td>\n",
       "      <td>1.08</td>\n",
       "      <td>p</td>\n",
       "      <td>g</td>\n",
       "      <td>g</td>\n",
       "      <td>0</td>\n",
       "      <td>s</td>\n",
       "      <td>f</td>\n",
       "      <td>g</td>\n",
       "      <td>3.06</td>\n",
       "      <td>1.58</td>\n",
       "      <td>w</td>\n",
       "      <td>w</td>\n",
       "      <td>0</td>\n",
       "      <td>f</td>\n",
       "      <td>d</td>\n",
       "      <td>w</td>\n",
       "      <td>-1</td>\n",
       "    </tr>\n",
       "    <tr>\n",
       "      <th>29524</th>\n",
       "      <td>1</td>\n",
       "      <td>2.64</td>\n",
       "      <td>f</td>\n",
       "      <td>w</td>\n",
       "      <td>n</td>\n",
       "      <td>1</td>\n",
       "      <td>d</td>\n",
       "      <td>c</td>\n",
       "      <td>n</td>\n",
       "      <td>2.25</td>\n",
       "      <td>4.61</td>\n",
       "      <td>n</td>\n",
       "      <td>n</td>\n",
       "      <td>0</td>\n",
       "      <td>f</td>\n",
       "      <td>d</td>\n",
       "      <td>a</td>\n",
       "      <td>-1</td>\n",
       "    </tr>\n",
       "    <tr>\n",
       "      <th>28397</th>\n",
       "      <td>1</td>\n",
       "      <td>13.65</td>\n",
       "      <td>x</td>\n",
       "      <td>t</td>\n",
       "      <td>n</td>\n",
       "      <td>1</td>\n",
       "      <td>d</td>\n",
       "      <td>c</td>\n",
       "      <td>n</td>\n",
       "      <td>4.83</td>\n",
       "      <td>24.38</td>\n",
       "      <td>r</td>\n",
       "      <td>r</td>\n",
       "      <td>0</td>\n",
       "      <td>f</td>\n",
       "      <td>g</td>\n",
       "      <td>a</td>\n",
       "      <td>-1</td>\n",
       "    </tr>\n",
       "    <tr>\n",
       "      <th>16455</th>\n",
       "      <td>0</td>\n",
       "      <td>5.27</td>\n",
       "      <td>f</td>\n",
       "      <td>y</td>\n",
       "      <td>n</td>\n",
       "      <td>0</td>\n",
       "      <td>s</td>\n",
       "      <td>d</td>\n",
       "      <td>w</td>\n",
       "      <td>5.07</td>\n",
       "      <td>8.23</td>\n",
       "      <td>w</td>\n",
       "      <td>w</td>\n",
       "      <td>0</td>\n",
       "      <td>f</td>\n",
       "      <td>d</td>\n",
       "      <td>a</td>\n",
       "      <td>-1</td>\n",
       "    </tr>\n",
       "  </tbody>\n",
       "</table>\n",
       "</div>"
      ],
      "text/plain": [
       "       class  cap-diameter cap-shape cap-surface cap-color  \\\n",
       "40673      1          3.96         x           t         n   \n",
       "45653      0          1.08         p           g         g   \n",
       "29524      1          2.64         f           w         n   \n",
       "28397      1         13.65         x           t         n   \n",
       "16455      0          5.27         f           y         n   \n",
       "\n",
       "       does-bruise-or-bleed gill-attachment gill-spacing gill-color  \\\n",
       "40673                     0               s            c          n   \n",
       "45653                     0               s            f          g   \n",
       "29524                     1               d            c          n   \n",
       "28397                     1               d            c          n   \n",
       "16455                     0               s            d          w   \n",
       "\n",
       "       stem-height  stem-width stem-color veil-color  has-ring ring-type  \\\n",
       "40673         5.80        9.52          w          n         1         z   \n",
       "45653         3.06        1.58          w          w         0         f   \n",
       "29524         2.25        4.61          n          n         0         f   \n",
       "28397         4.83       24.38          r          r         0         f   \n",
       "16455         5.07        8.23          w          w         0         f   \n",
       "\n",
       "      habitat season  class_test  \n",
       "40673       d      a          -1  \n",
       "45653       d      w          -1  \n",
       "29524       d      a          -1  \n",
       "28397       g      a          -1  \n",
       "16455       d      a          -1  "
      ]
     },
     "execution_count": 344,
     "metadata": {},
     "output_type": "execute_result"
    }
   ],
   "source": [
    "sample_train.head(5)"
   ]
  },
  {
   "cell_type": "code",
   "execution_count": 345,
   "id": "82dd2145",
   "metadata": {},
   "outputs": [],
   "source": [
    "sample_train.loc[sample_train['class_test']==-1, 'class_test'] = 0"
   ]
  },
  {
   "cell_type": "code",
   "execution_count": 346,
   "id": "9c811f7e",
   "metadata": {},
   "outputs": [
    {
     "data": {
      "text/html": [
       "<div>\n",
       "<style scoped>\n",
       "    .dataframe tbody tr th:only-of-type {\n",
       "        vertical-align: middle;\n",
       "    }\n",
       "\n",
       "    .dataframe tbody tr th {\n",
       "        vertical-align: top;\n",
       "    }\n",
       "\n",
       "    .dataframe thead th {\n",
       "        text-align: right;\n",
       "    }\n",
       "</style>\n",
       "<table border=\"1\" class=\"dataframe\">\n",
       "  <thead>\n",
       "    <tr style=\"text-align: right;\">\n",
       "      <th></th>\n",
       "      <th>class</th>\n",
       "      <th>cap-diameter</th>\n",
       "      <th>cap-shape</th>\n",
       "      <th>cap-surface</th>\n",
       "      <th>cap-color</th>\n",
       "      <th>does-bruise-or-bleed</th>\n",
       "      <th>gill-attachment</th>\n",
       "      <th>gill-spacing</th>\n",
       "      <th>gill-color</th>\n",
       "      <th>stem-height</th>\n",
       "      <th>stem-width</th>\n",
       "      <th>stem-color</th>\n",
       "      <th>veil-color</th>\n",
       "      <th>has-ring</th>\n",
       "      <th>ring-type</th>\n",
       "      <th>habitat</th>\n",
       "      <th>season</th>\n",
       "      <th>class_test</th>\n",
       "    </tr>\n",
       "  </thead>\n",
       "  <tbody>\n",
       "    <tr>\n",
       "      <th>9323</th>\n",
       "      <td>0</td>\n",
       "      <td>3.37</td>\n",
       "      <td>b</td>\n",
       "      <td>g</td>\n",
       "      <td>n</td>\n",
       "      <td>0</td>\n",
       "      <td>x</td>\n",
       "      <td>d</td>\n",
       "      <td>w</td>\n",
       "      <td>5.08</td>\n",
       "      <td>3.24</td>\n",
       "      <td>y</td>\n",
       "      <td>y</td>\n",
       "      <td>0</td>\n",
       "      <td>f</td>\n",
       "      <td>g</td>\n",
       "      <td>a</td>\n",
       "      <td>-1</td>\n",
       "    </tr>\n",
       "    <tr>\n",
       "      <th>15612</th>\n",
       "      <td>1</td>\n",
       "      <td>6.47</td>\n",
       "      <td>x</td>\n",
       "      <td>s</td>\n",
       "      <td>r</td>\n",
       "      <td>1</td>\n",
       "      <td>s</td>\n",
       "      <td>d</td>\n",
       "      <td>w</td>\n",
       "      <td>5.98</td>\n",
       "      <td>16.74</td>\n",
       "      <td>n</td>\n",
       "      <td>n</td>\n",
       "      <td>0</td>\n",
       "      <td>f</td>\n",
       "      <td>d</td>\n",
       "      <td>a</td>\n",
       "      <td>-1</td>\n",
       "    </tr>\n",
       "    <tr>\n",
       "      <th>4895</th>\n",
       "      <td>0</td>\n",
       "      <td>1.67</td>\n",
       "      <td>x</td>\n",
       "      <td>l</td>\n",
       "      <td>b</td>\n",
       "      <td>0</td>\n",
       "      <td>e</td>\n",
       "      <td>d</td>\n",
       "      <td>u</td>\n",
       "      <td>5.07</td>\n",
       "      <td>4.21</td>\n",
       "      <td>w</td>\n",
       "      <td>w</td>\n",
       "      <td>0</td>\n",
       "      <td>f</td>\n",
       "      <td>d</td>\n",
       "      <td>u</td>\n",
       "      <td>-1</td>\n",
       "    </tr>\n",
       "    <tr>\n",
       "      <th>2857</th>\n",
       "      <td>0</td>\n",
       "      <td>15.51</td>\n",
       "      <td>p</td>\n",
       "      <td>y</td>\n",
       "      <td>w</td>\n",
       "      <td>0</td>\n",
       "      <td>s</td>\n",
       "      <td>d</td>\n",
       "      <td>w</td>\n",
       "      <td>25.65</td>\n",
       "      <td>19.34</td>\n",
       "      <td>n</td>\n",
       "      <td>n</td>\n",
       "      <td>1</td>\n",
       "      <td>m</td>\n",
       "      <td>m</td>\n",
       "      <td>u</td>\n",
       "      <td>-1</td>\n",
       "    </tr>\n",
       "    <tr>\n",
       "      <th>34571</th>\n",
       "      <td>1</td>\n",
       "      <td>1.75</td>\n",
       "      <td>f</td>\n",
       "      <td>h</td>\n",
       "      <td>n</td>\n",
       "      <td>0</td>\n",
       "      <td>s</td>\n",
       "      <td>f</td>\n",
       "      <td>n</td>\n",
       "      <td>8.26</td>\n",
       "      <td>2.83</td>\n",
       "      <td>y</td>\n",
       "      <td>y</td>\n",
       "      <td>0</td>\n",
       "      <td>f</td>\n",
       "      <td>g</td>\n",
       "      <td>a</td>\n",
       "      <td>-1</td>\n",
       "    </tr>\n",
       "  </tbody>\n",
       "</table>\n",
       "</div>"
      ],
      "text/plain": [
       "       class  cap-diameter cap-shape cap-surface cap-color  \\\n",
       "9323       0          3.37         b           g         n   \n",
       "15612      1          6.47         x           s         r   \n",
       "4895       0          1.67         x           l         b   \n",
       "2857       0         15.51         p           y         w   \n",
       "34571      1          1.75         f           h         n   \n",
       "\n",
       "       does-bruise-or-bleed gill-attachment gill-spacing gill-color  \\\n",
       "9323                      0               x            d          w   \n",
       "15612                     1               s            d          w   \n",
       "4895                      0               e            d          u   \n",
       "2857                      0               s            d          w   \n",
       "34571                     0               s            f          n   \n",
       "\n",
       "       stem-height  stem-width stem-color veil-color  has-ring ring-type  \\\n",
       "9323          5.08        3.24          y          y         0         f   \n",
       "15612         5.98       16.74          n          n         0         f   \n",
       "4895          5.07        4.21          w          w         0         f   \n",
       "2857         25.65       19.34          n          n         1         m   \n",
       "34571         8.26        2.83          y          y         0         f   \n",
       "\n",
       "      habitat season  class_test  \n",
       "9323        g      a          -1  \n",
       "15612       d      a          -1  \n",
       "4895        d      u          -1  \n",
       "2857        m      u          -1  \n",
       "34571       g      a          -1  "
      ]
     },
     "execution_count": 346,
     "metadata": {},
     "output_type": "execute_result"
    }
   ],
   "source": [
    "sample_test.head(5)"
   ]
  },
  {
   "cell_type": "markdown",
   "id": "cbf1315f",
   "metadata": {},
   "source": [
    "5. применить random negative sampling для построения классификатора в новых условиях"
   ]
  },
  {
   "cell_type": "code",
   "execution_count": 347,
   "id": "c9427bb5",
   "metadata": {},
   "outputs": [],
   "source": [
    "modelCB = modelCB.fit(sample_train.iloc[:,1:-1], sample_train.iloc[:, -1], cat_features=categorical_columns)\n",
    "y_predict = modelCB.predict(sample_test.iloc[:,1:-1])"
   ]
  },
  {
   "cell_type": "code",
   "execution_count": 348,
   "id": "ce582a95",
   "metadata": {},
   "outputs": [
    {
     "data": {
      "text/plain": [
       "array([0, 1, 0, ..., 0, 0, 0], dtype=int64)"
      ]
     },
     "execution_count": 348,
     "metadata": {},
     "output_type": "execute_result"
    }
   ],
   "source": [
    "y_predict"
   ]
  },
  {
   "cell_type": "code",
   "execution_count": 349,
   "id": "c4eb5433",
   "metadata": {},
   "outputs": [
    {
     "name": "stdout",
     "output_type": "stream",
     "text": [
      "Best Threshold=1, F-Score=0.866, Precision=0.931, Recall=0.809\n"
     ]
    }
   ],
   "source": [
    "precision, recall, thresholds = precision_recall_curve(sample_test.iloc[:,0], y_predict)\n",
    "\n",
    "fscore = (2 * precision * recall) / (precision + recall)\n",
    "ix = np.argmax(fscore)\n",
    "print(f'Best Threshold={thresholds[ix]}, F-Score={fscore[ix]:.3f}, Precision={precision[ix]:.3f}, Recall={recall[ix]:.3f}')"
   ]
  },
  {
   "cell_type": "code",
   "execution_count": 350,
   "id": "7bac59f8",
   "metadata": {},
   "outputs": [
    {
     "name": "stderr",
     "output_type": "stream",
     "text": [
      "C:\\Users\\ASUS\\AppData\\Local\\Temp\\ipykernel_8872\\3985584856.py:1: FutureWarning: The frame.append method is deprecated and will be removed from pandas in a future version. Use pandas.concat instead.\n",
      "  results = results.append({'Step': 'RNS 25%',\n"
     ]
    }
   ],
   "source": [
    "results = results.append({'Step': 'RNS 25%',\n",
    "                          'Fscore': fscore[ix],\n",
    "              'precision': precision[ix],\n",
    "              'recall': recall[ix],\n",
    "              'threshold': thresholds[ix]}, ignore_index=True)"
   ]
  },
  {
   "cell_type": "markdown",
   "id": "ea7c22c2",
   "metadata": {},
   "source": [
    "### <span style=\"color:#8B0000\"> Ниже решение аналогичное решению, предложенному в прикрепленном к ДЗ файле. Я с ним не согласна, т.к. модели там передаются для обучения *исходные* классы. В чём тогда смысл того, что мы создавали \"фиктивные\" unlabeled классы?</span>"
   ]
  },
  {
   "cell_type": "code",
   "execution_count": 351,
   "id": "fa6886b7",
   "metadata": {},
   "outputs": [],
   "source": [
    "modelCB = modelCB.fit(sample_train.iloc[:,1:-1], sample_train.iloc[:, 0], cat_features=categorical_columns)\n",
    "y_predict = modelCB.predict(sample_test.iloc[:,1:-1])"
   ]
  },
  {
   "cell_type": "code",
   "execution_count": 352,
   "id": "7650ff8e",
   "metadata": {},
   "outputs": [
    {
     "data": {
      "text/plain": [
       "array([0, 1, 0, ..., 0, 0, 0], dtype=int64)"
      ]
     },
     "execution_count": 352,
     "metadata": {},
     "output_type": "execute_result"
    }
   ],
   "source": [
    "y_predict"
   ]
  },
  {
   "cell_type": "code",
   "execution_count": 353,
   "id": "8264443f",
   "metadata": {},
   "outputs": [
    {
     "name": "stdout",
     "output_type": "stream",
     "text": [
      "Best Threshold=1, F-Score=0.888, Precision=0.814, Recall=0.977\n"
     ]
    }
   ],
   "source": [
    "precision, recall, thresholds = precision_recall_curve(sample_test.iloc[:,0], y_predict)\n",
    "\n",
    "fscore = (2 * precision * recall) / (precision + recall)\n",
    "ix = np.argmax(fscore)\n",
    "print(f'Best Threshold={thresholds[ix]}, F-Score={fscore[ix]:.3f}, Precision={precision[ix]:.3f}, Recall={recall[ix]:.3f}')"
   ]
  },
  {
   "cell_type": "code",
   "execution_count": 354,
   "id": "9a78285b",
   "metadata": {},
   "outputs": [
    {
     "name": "stderr",
     "output_type": "stream",
     "text": [
      "C:\\Users\\ASUS\\AppData\\Local\\Temp\\ipykernel_8872\\3371570068.py:1: FutureWarning: The frame.append method is deprecated and will be removed from pandas in a future version. Use pandas.concat instead.\n",
      "  results = results.append({'Step': 'RNS 25%(like in example)',\n"
     ]
    }
   ],
   "source": [
    "results = results.append({'Step': 'RNS 25%(like in example)',\n",
    "                          'Fscore': fscore[ix],\n",
    "              'precision': precision[ix],\n",
    "              'recall': recall[ix],\n",
    "              'threshold': thresholds[ix]}, ignore_index=True)"
   ]
  },
  {
   "cell_type": "markdown",
   "id": "ea6c5bd7",
   "metadata": {},
   "source": [
    "6. сравнить качество с решением из пункта 4 (построить отчет - таблицу метрик)"
   ]
  },
  {
   "cell_type": "code",
   "execution_count": 355,
   "id": "c6991e72",
   "metadata": {},
   "outputs": [
    {
     "data": {
      "text/html": [
       "<div>\n",
       "<style scoped>\n",
       "    .dataframe tbody tr th:only-of-type {\n",
       "        vertical-align: middle;\n",
       "    }\n",
       "\n",
       "    .dataframe tbody tr th {\n",
       "        vertical-align: top;\n",
       "    }\n",
       "\n",
       "    .dataframe thead th {\n",
       "        text-align: right;\n",
       "    }\n",
       "</style>\n",
       "<table border=\"1\" class=\"dataframe\">\n",
       "  <thead>\n",
       "    <tr style=\"text-align: right;\">\n",
       "      <th></th>\n",
       "      <th>0</th>\n",
       "      <th>1</th>\n",
       "      <th>2</th>\n",
       "    </tr>\n",
       "  </thead>\n",
       "  <tbody>\n",
       "    <tr>\n",
       "      <th>Step</th>\n",
       "      <td>Usual Classification with labeled data</td>\n",
       "      <td>RNS 25%</td>\n",
       "      <td>RNS 25%(like in example)</td>\n",
       "    </tr>\n",
       "    <tr>\n",
       "      <th>Fscore</th>\n",
       "      <td>0.952281</td>\n",
       "      <td>0.865639</td>\n",
       "      <td>0.888017</td>\n",
       "    </tr>\n",
       "    <tr>\n",
       "      <th>precision</th>\n",
       "      <td>0.944657</td>\n",
       "      <td>0.930761</td>\n",
       "      <td>0.81388</td>\n",
       "    </tr>\n",
       "    <tr>\n",
       "      <th>recall</th>\n",
       "      <td>0.960028</td>\n",
       "      <td>0.809035</td>\n",
       "      <td>0.977015</td>\n",
       "    </tr>\n",
       "    <tr>\n",
       "      <th>threshold</th>\n",
       "      <td>0.501502</td>\n",
       "      <td>1.0</td>\n",
       "      <td>1.0</td>\n",
       "    </tr>\n",
       "  </tbody>\n",
       "</table>\n",
       "</div>"
      ],
      "text/plain": [
       "                                                0         1  \\\n",
       "Step       Usual Classification with labeled data   RNS 25%   \n",
       "Fscore                                   0.952281  0.865639   \n",
       "precision                                0.944657  0.930761   \n",
       "recall                                   0.960028  0.809035   \n",
       "threshold                                0.501502       1.0   \n",
       "\n",
       "                                  2  \n",
       "Step       RNS 25%(like in example)  \n",
       "Fscore                     0.888017  \n",
       "precision                   0.81388  \n",
       "recall                     0.977015  \n",
       "threshold                       1.0  "
      ]
     },
     "execution_count": 355,
     "metadata": {},
     "output_type": "execute_result"
    }
   ],
   "source": [
    "results.T"
   ]
  },
  {
   "cell_type": "markdown",
   "id": "145ce393",
   "metadata": {},
   "source": [
    "7. поэкспериментировать с долей P на шаге 6 (как будет меняться качество модели при уменьшении/увеличении размера P)"
   ]
  },
  {
   "cell_type": "markdown",
   "id": "8fa839fb",
   "metadata": {},
   "source": [
    "### 35%"
   ]
  },
  {
   "cell_type": "code",
   "execution_count": 356,
   "id": "9d6936a2",
   "metadata": {},
   "outputs": [
    {
     "name": "stdout",
     "output_type": "stream",
     "text": [
      "Use 11860/33888 as positives\n"
     ]
    }
   ],
   "source": [
    "mod_df = df.copy()\n",
    "pos_ind = np.where(mod_df.iloc[:,0].values == 1)[0] #отбираем индексы только positives\n",
    "np.random.shuffle(pos_ind) #перемешиваем их\n",
    "pos_sample_len = int(0.35*len(pos_ind)) #устанавливаем кол-во новых positives (только 35% от элементов класса 1)\n",
    "print(f'Use {pos_sample_len}/{len(pos_ind)} as positives')\n",
    "pos_sample = pos_ind[:pos_sample_len] #отбираем 25% от элементов класса 1"
   ]
  },
  {
   "cell_type": "code",
   "execution_count": 357,
   "id": "2ad2b3cc",
   "metadata": {},
   "outputs": [
    {
     "name": "stdout",
     "output_type": "stream",
     "text": [
      "Target:\n",
      " -1    49209\n",
      " 1    11860\n",
      "Name: class_test, dtype: int64\n"
     ]
    }
   ],
   "source": [
    "mod_df['class_test'] = -1 #ВСЕ элементы помечаем как unlabeled\n",
    "mod_df.loc[pos_sample, 'class_test'] = 1 #по отобранным ранее индексам 11860 эл-та помечаем как positive\n",
    "print(f'Target:\\n', mod_df.iloc[:,-1].value_counts())"
   ]
  },
  {
   "cell_type": "code",
   "execution_count": 358,
   "id": "76fdd70e",
   "metadata": {},
   "outputs": [],
   "source": [
    "mod_df = mod_df.sample(frac=1) #перемешиваем\n",
    "neg_sample = mod_df[mod_df['class_test']==-1][:len(mod_df[mod_df['class_test']==1])] #sample с unlabeled эл-тами 11860шт\n",
    "sample_test = mod_df[mod_df['class_test']==-1][len(mod_df[mod_df['class_test']==1]):] #sample с остальными unlabeled эл-тами\n",
    "pos_sample = mod_df[mod_df['class_test']==1] #sample с positive эл-тами 11860шт\n",
    "sample_train = pd.concat([neg_sample, pos_sample]).sample(frac=1)"
   ]
  },
  {
   "cell_type": "code",
   "execution_count": 359,
   "id": "0ebd6fe4",
   "metadata": {},
   "outputs": [],
   "source": [
    "sample_train.loc[sample_train['class_test']==-1, 'class_test'] = 0"
   ]
  },
  {
   "cell_type": "code",
   "execution_count": 360,
   "id": "bdd5e5b1",
   "metadata": {},
   "outputs": [],
   "source": [
    "modelCB = modelCB.fit(sample_train.iloc[:,1:-1], sample_train.iloc[:, -1], cat_features=categorical_columns)\n",
    "y_predict = modelCB.predict(sample_test.iloc[:,1:-1])"
   ]
  },
  {
   "cell_type": "code",
   "execution_count": 361,
   "id": "d3dd3531",
   "metadata": {},
   "outputs": [
    {
     "name": "stdout",
     "output_type": "stream",
     "text": [
      "Best Threshold=1, F-Score=0.883, Precision=0.932, Recall=0.840\n"
     ]
    }
   ],
   "source": [
    "precision, recall, thresholds = precision_recall_curve(sample_test.iloc[:,0], y_predict)\n",
    "\n",
    "fscore = (2 * precision * recall) / (precision + recall)\n",
    "ix = np.argmax(fscore)\n",
    "print(f'Best Threshold={thresholds[ix]}, F-Score={fscore[ix]:.3f}, Precision={precision[ix]:.3f}, Recall={recall[ix]:.3f}')"
   ]
  },
  {
   "cell_type": "code",
   "execution_count": 362,
   "id": "edfb2fde",
   "metadata": {},
   "outputs": [
    {
     "name": "stderr",
     "output_type": "stream",
     "text": [
      "C:\\Users\\ASUS\\AppData\\Local\\Temp\\ipykernel_8872\\2822183774.py:1: FutureWarning: The frame.append method is deprecated and will be removed from pandas in a future version. Use pandas.concat instead.\n",
      "  results = results.append({'Step': 'RNS 35%',\n"
     ]
    }
   ],
   "source": [
    "results = results.append({'Step': 'RNS 35%',\n",
    "                          'Fscore': fscore[ix],\n",
    "              'precision': precision[ix],\n",
    "              'recall': recall[ix],\n",
    "              'threshold': thresholds[ix]}, ignore_index=True)"
   ]
  },
  {
   "cell_type": "markdown",
   "id": "26aa73e5",
   "metadata": {},
   "source": [
    "### 50%"
   ]
  },
  {
   "cell_type": "code",
   "execution_count": 363,
   "id": "a24d69c3",
   "metadata": {},
   "outputs": [
    {
     "name": "stdout",
     "output_type": "stream",
     "text": [
      "Use 16944/33888 as positives\n",
      "Target:\n",
      " -1    44125\n",
      " 1    16944\n",
      "Name: class_test, dtype: int64\n",
      "Best Threshold=1, F-Score=0.914, Precision=0.948, Recall=0.882\n"
     ]
    },
    {
     "name": "stderr",
     "output_type": "stream",
     "text": [
      "C:\\Users\\ASUS\\AppData\\Local\\Temp\\ipykernel_8872\\1278626661.py:28: FutureWarning: The frame.append method is deprecated and will be removed from pandas in a future version. Use pandas.concat instead.\n",
      "  results = results.append({'Step': 'RNS 50%',\n"
     ]
    }
   ],
   "source": [
    "mod_df = df.copy()\n",
    "pos_ind = np.where(mod_df.iloc[:,0].values == 1)[0] #отбираем индексы только positives\n",
    "np.random.shuffle(pos_ind) #перемешиваем их\n",
    "pos_sample_len = int(0.5*len(pos_ind)) #устанавливаем кол-во новых positives (только 50% от элементов класса 1)\n",
    "print(f'Use {pos_sample_len}/{len(pos_ind)} as positives')\n",
    "pos_sample = pos_ind[:pos_sample_len] #отбираем 50% от элементов класса 1\n",
    "\n",
    "mod_df['class_test'] = -1 #ВСЕ элементы помечаем как unlabeled\n",
    "mod_df.loc[pos_sample, 'class_test'] = 1 #по отобранным ранее индексам 16944 эл-та помечаем как positive\n",
    "print(f'Target:\\n', mod_df.iloc[:,-1].value_counts())\n",
    "\n",
    "mod_df = mod_df.sample(frac=1) #перемешиваем\n",
    "neg_sample = mod_df[mod_df['class_test']==-1][:len(mod_df[mod_df['class_test']==1])] #sample с unlabeled эл-тами 16944шт\n",
    "sample_test = mod_df[mod_df['class_test']==-1][len(mod_df[mod_df['class_test']==1]):] #sample с остальными unlabeled эл-тами\n",
    "pos_sample = mod_df[mod_df['class_test']==1] #sample с positive эл-тами 16944шт\n",
    "sample_train = pd.concat([neg_sample, pos_sample]).sample(frac=1)\n",
    "sample_train.loc[sample_train['class_test']==-1, 'class_test'] = 0\n",
    "\n",
    "modelCB = modelCB.fit(sample_train.iloc[:,1:-1], sample_train.iloc[:, -1], cat_features=categorical_columns)\n",
    "y_predict = modelCB.predict(sample_test.iloc[:,1:-1])\n",
    "\n",
    "precision, recall, thresholds = precision_recall_curve(sample_test.iloc[:,0], y_predict)\n",
    "\n",
    "fscore = (2 * precision * recall) / (precision + recall)\n",
    "ix = np.argmax(fscore)\n",
    "print(f'Best Threshold={thresholds[ix]}, F-Score={fscore[ix]:.3f}, Precision={precision[ix]:.3f}, Recall={recall[ix]:.3f}')\n",
    "\n",
    "results = results.append({'Step': 'RNS 50%',\n",
    "                          'Fscore': fscore[ix],\n",
    "              'precision': precision[ix],\n",
    "              'recall': recall[ix],\n",
    "              'threshold': thresholds[ix]}, ignore_index=True)"
   ]
  },
  {
   "cell_type": "markdown",
   "id": "d559464e",
   "metadata": {},
   "source": [
    "### 75%"
   ]
  },
  {
   "cell_type": "code",
   "execution_count": 364,
   "id": "e586ee25",
   "metadata": {},
   "outputs": [
    {
     "name": "stdout",
     "output_type": "stream",
     "text": [
      "Use 25416/33888 as positives\n",
      "Target:\n",
      " -1    35653\n",
      " 1    25416\n",
      "Name: class_test, dtype: int64\n",
      "Best Threshold=1, F-Score=0.895, Precision=0.878, Recall=0.914\n"
     ]
    },
    {
     "name": "stderr",
     "output_type": "stream",
     "text": [
      "C:\\Users\\ASUS\\AppData\\Local\\Temp\\ipykernel_8872\\3548564607.py:28: FutureWarning: The frame.append method is deprecated and will be removed from pandas in a future version. Use pandas.concat instead.\n",
      "  results = results.append({'Step': 'RNS 75%',\n"
     ]
    }
   ],
   "source": [
    "mod_df = df.copy()\n",
    "pos_ind = np.where(mod_df.iloc[:,0].values == 1)[0] #отбираем индексы только positives\n",
    "np.random.shuffle(pos_ind) #перемешиваем их\n",
    "pos_sample_len = int(0.75*len(pos_ind)) #устанавливаем кол-во новых positives (только 75% от элементов класса 1)\n",
    "print(f'Use {pos_sample_len}/{len(pos_ind)} as positives')\n",
    "pos_sample = pos_ind[:pos_sample_len] #отбираем 75% от элементов класса 1\n",
    "\n",
    "mod_df['class_test'] = -1 #ВСЕ элементы помечаем как unlabeled\n",
    "mod_df.loc[pos_sample, 'class_test'] = 1 #по отобранным ранее индексам 25416 эл-та помечаем как positive\n",
    "print(f'Target:\\n', mod_df.iloc[:,-1].value_counts())\n",
    "\n",
    "mod_df = mod_df.sample(frac=1) #перемешиваем\n",
    "neg_sample = mod_df[mod_df['class_test']==-1][:len(mod_df[mod_df['class_test']==1])] #sample с unlabeled эл-тами 25416шт\n",
    "sample_test = mod_df[mod_df['class_test']==-1][len(mod_df[mod_df['class_test']==1]):] #sample с остальными unlabeled эл-тами\n",
    "pos_sample = mod_df[mod_df['class_test']==1] #sample с positive эл-тами 25416шт\n",
    "sample_train = pd.concat([neg_sample, pos_sample]).sample(frac=1)\n",
    "sample_train.loc[sample_train['class_test']==-1, 'class_test'] = 0\n",
    "\n",
    "modelCB = modelCB.fit(sample_train.iloc[:,1:-1], sample_train.iloc[:, -1], cat_features=categorical_columns)\n",
    "y_predict = modelCB.predict(sample_test.iloc[:,1:-1])\n",
    "\n",
    "precision, recall, thresholds = precision_recall_curve(sample_test.iloc[:,0], y_predict)\n",
    "\n",
    "fscore = (2 * precision * recall) / (precision + recall)\n",
    "ix = np.argmax(fscore)\n",
    "print(f'Best Threshold={thresholds[ix]}, F-Score={fscore[ix]:.3f}, Precision={precision[ix]:.3f}, Recall={recall[ix]:.3f}')\n",
    "\n",
    "results = results.append({'Step': 'RNS 75%',\n",
    "                          'Fscore': fscore[ix],\n",
    "              'precision': precision[ix],\n",
    "              'recall': recall[ix],\n",
    "              'threshold': thresholds[ix]}, ignore_index=True)"
   ]
  },
  {
   "cell_type": "markdown",
   "id": "41ef0e10",
   "metadata": {},
   "source": [
    "### 10%"
   ]
  },
  {
   "cell_type": "code",
   "execution_count": 365,
   "id": "31cdab14",
   "metadata": {},
   "outputs": [
    {
     "name": "stdout",
     "output_type": "stream",
     "text": [
      "Use 3388/33888 as positives\n",
      "Target:\n",
      " -1    57681\n",
      " 1     3388\n",
      "Name: class_test, dtype: int64\n",
      "Best Threshold=1, F-Score=0.835, Precision=0.923, Recall=0.762\n"
     ]
    },
    {
     "name": "stderr",
     "output_type": "stream",
     "text": [
      "C:\\Users\\ASUS\\AppData\\Local\\Temp\\ipykernel_8872\\2112670908.py:28: FutureWarning: The frame.append method is deprecated and will be removed from pandas in a future version. Use pandas.concat instead.\n",
      "  results = results.append({'Step': 'RNS 10%',\n"
     ]
    }
   ],
   "source": [
    "mod_df = df.copy()\n",
    "pos_ind = np.where(mod_df.iloc[:,0].values == 1)[0] #отбираем индексы только positives\n",
    "np.random.shuffle(pos_ind) #перемешиваем их\n",
    "pos_sample_len = int(0.1*len(pos_ind)) #устанавливаем кол-во новых positives (только 10% от элементов класса 1)\n",
    "print(f'Use {pos_sample_len}/{len(pos_ind)} as positives')\n",
    "pos_sample = pos_ind[:pos_sample_len] #отбираем 10% от элементов класса 1\n",
    "\n",
    "mod_df['class_test'] = -1 #ВСЕ элементы помечаем как unlabeled\n",
    "mod_df.loc[pos_sample, 'class_test'] = 1 #по отобранным ранее индексам 3388 эл-та помечаем как positive\n",
    "print(f'Target:\\n', mod_df.iloc[:,-1].value_counts())\n",
    "\n",
    "mod_df = mod_df.sample(frac=1) #перемешиваем\n",
    "neg_sample = mod_df[mod_df['class_test']==-1][:len(mod_df[mod_df['class_test']==1])] #sample с unlabeled эл-тами 3388шт\n",
    "sample_test = mod_df[mod_df['class_test']==-1][len(mod_df[mod_df['class_test']==1]):] #sample с остальными unlabeled эл-тами\n",
    "pos_sample = mod_df[mod_df['class_test']==1] #sample с positive эл-тами 3388шт\n",
    "sample_train = pd.concat([neg_sample, pos_sample]).sample(frac=1)\n",
    "sample_train.loc[sample_train['class_test']==-1, 'class_test'] = 0\n",
    "\n",
    "modelCB = modelCB.fit(sample_train.iloc[:,1:-1], sample_train.iloc[:, -1], cat_features=categorical_columns)\n",
    "y_predict = modelCB.predict(sample_test.iloc[:,1:-1])\n",
    "\n",
    "precision, recall, thresholds = precision_recall_curve(sample_test.iloc[:,0], y_predict)\n",
    "\n",
    "fscore = (2 * precision * recall) / (precision + recall)\n",
    "ix = np.argmax(fscore)\n",
    "print(f'Best Threshold={thresholds[ix]}, F-Score={fscore[ix]:.3f}, Precision={precision[ix]:.3f}, Recall={recall[ix]:.3f}')\n",
    "\n",
    "results = results.append({'Step': 'RNS 10%',\n",
    "                          'Fscore': fscore[ix],\n",
    "              'precision': precision[ix],\n",
    "              'recall': recall[ix],\n",
    "              'threshold': thresholds[ix]}, ignore_index=True)"
   ]
  },
  {
   "cell_type": "code",
   "execution_count": 366,
   "id": "74405e2e",
   "metadata": {},
   "outputs": [],
   "source": [
    "results = results.T\n",
    "results = results[[0,2,6,1,3,4,5]]"
   ]
  },
  {
   "cell_type": "code",
   "execution_count": 367,
   "id": "d3a562d7",
   "metadata": {},
   "outputs": [
    {
     "data": {
      "text/html": [
       "<div>\n",
       "<style scoped>\n",
       "    .dataframe tbody tr th:only-of-type {\n",
       "        vertical-align: middle;\n",
       "    }\n",
       "\n",
       "    .dataframe tbody tr th {\n",
       "        vertical-align: top;\n",
       "    }\n",
       "\n",
       "    .dataframe thead th {\n",
       "        text-align: right;\n",
       "    }\n",
       "</style>\n",
       "<table border=\"1\" class=\"dataframe\">\n",
       "  <thead>\n",
       "    <tr style=\"text-align: right;\">\n",
       "      <th></th>\n",
       "      <th>0</th>\n",
       "      <th>2</th>\n",
       "      <th>6</th>\n",
       "      <th>1</th>\n",
       "      <th>3</th>\n",
       "      <th>4</th>\n",
       "      <th>5</th>\n",
       "    </tr>\n",
       "  </thead>\n",
       "  <tbody>\n",
       "    <tr>\n",
       "      <th>Step</th>\n",
       "      <td>Usual Classification with labeled data</td>\n",
       "      <td>RNS 25%(like in example)</td>\n",
       "      <td>RNS 10%</td>\n",
       "      <td>RNS 25%</td>\n",
       "      <td>RNS 35%</td>\n",
       "      <td>RNS 50%</td>\n",
       "      <td>RNS 75%</td>\n",
       "    </tr>\n",
       "    <tr>\n",
       "      <th>Fscore</th>\n",
       "      <td>0.952281</td>\n",
       "      <td>0.888017</td>\n",
       "      <td>0.834514</td>\n",
       "      <td>0.865639</td>\n",
       "      <td>0.883395</td>\n",
       "      <td>0.913529</td>\n",
       "      <td>0.895314</td>\n",
       "    </tr>\n",
       "    <tr>\n",
       "      <th>precision</th>\n",
       "      <td>0.944657</td>\n",
       "      <td>0.81388</td>\n",
       "      <td>0.922807</td>\n",
       "      <td>0.930761</td>\n",
       "      <td>0.931909</td>\n",
       "      <td>0.947714</td>\n",
       "      <td>0.877639</td>\n",
       "    </tr>\n",
       "    <tr>\n",
       "      <th>recall</th>\n",
       "      <td>0.960028</td>\n",
       "      <td>0.977015</td>\n",
       "      <td>0.761641</td>\n",
       "      <td>0.809035</td>\n",
       "      <td>0.839682</td>\n",
       "      <td>0.881725</td>\n",
       "      <td>0.913716</td>\n",
       "    </tr>\n",
       "    <tr>\n",
       "      <th>threshold</th>\n",
       "      <td>0.501502</td>\n",
       "      <td>1.0</td>\n",
       "      <td>1.0</td>\n",
       "      <td>1.0</td>\n",
       "      <td>1.0</td>\n",
       "      <td>1.0</td>\n",
       "      <td>1.0</td>\n",
       "    </tr>\n",
       "  </tbody>\n",
       "</table>\n",
       "</div>"
      ],
      "text/plain": [
       "                                                0                         2  \\\n",
       "Step       Usual Classification with labeled data  RNS 25%(like in example)   \n",
       "Fscore                                   0.952281                  0.888017   \n",
       "precision                                0.944657                   0.81388   \n",
       "recall                                   0.960028                  0.977015   \n",
       "threshold                                0.501502                       1.0   \n",
       "\n",
       "                  6         1         3         4         5  \n",
       "Step        RNS 10%   RNS 25%   RNS 35%   RNS 50%   RNS 75%  \n",
       "Fscore     0.834514  0.865639  0.883395  0.913529  0.895314  \n",
       "precision  0.922807  0.930761  0.931909  0.947714  0.877639  \n",
       "recall     0.761641  0.809035  0.839682  0.881725  0.913716  \n",
       "threshold       1.0       1.0       1.0       1.0       1.0  "
      ]
     },
     "execution_count": 367,
     "metadata": {},
     "output_type": "execute_result"
    }
   ],
   "source": [
    "results"
   ]
  },
  {
   "cell_type": "markdown",
   "id": "b086be0d",
   "metadata": {},
   "source": [
    "<span style=\"color:#8B0000\">Отсечка везде получилась 1 - модель абсолютна уверена в своих решениях с вероятностью 1. Чуть вероятность меньше 1 - это уже скорее класс 0.<br><br>\n",
    "Наилучшие показатели (причем все) наблюдаются тогда, когда от позитивов берётся только 35%.<br>\n",
    "Более слабые результаты на отметке 10% легко объяснить. У модели не так много данных для обучения + больше вероятность, что в Unlabeled класс попадут Positives (т.к. мы от них взяли только 10%, 90% осталось)<br>\n",
    "Падение метрик при отметке 75% затрудняюсь объяснить: по идее у модели теперь много данных + в Unlabeled будет мало positives, должны быть хорошие метрики. Вероятно, дело в том, что на Test Sample осталось слишком мало данных.<br>\n",
    "Следовательно, золотая середина - 35%.<br><br></span>\n",
    "\n",
    "<span style=\"color:#8B0000\">В целом результаты получились довольно неплохие, даже если брать 10%. Мне приходят в голову 3 причины:<br>\n",
    "* Модель CatBoost хороша\n",
    "* Классы 0 и 1 достаточно отличаются друг от друга (удачный датасет)\n",
    "* Данных много </span>"
   ]
  }
 ],
 "metadata": {
  "kernelspec": {
   "display_name": "gpu2",
   "language": "python",
   "name": "gpu2"
  },
  "language_info": {
   "codemirror_mode": {
    "name": "ipython",
    "version": 3
   },
   "file_extension": ".py",
   "mimetype": "text/x-python",
   "name": "python",
   "nbconvert_exporter": "python",
   "pygments_lexer": "ipython3",
   "version": "3.9.15"
  }
 },
 "nbformat": 4,
 "nbformat_minor": 5
}
