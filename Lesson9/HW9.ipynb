{
 "cells": [
  {
   "cell_type": "markdown",
   "id": "99556542",
   "metadata": {},
   "source": [
    "Импорт библиотек"
   ]
  },
  {
   "cell_type": "code",
   "execution_count": 1,
   "id": "1dc3629a",
   "metadata": {},
   "outputs": [],
   "source": [
    "import pandas as pd\n",
    "import numpy as np\n",
    "import dill\n",
    "import random\n",
    "from sklearn.model_selection import train_test_split, GridSearchCV\n",
    "from sklearn.base import BaseEstimator, TransformerMixin\n",
    "from sklearn.pipeline import Pipeline, FeatureUnion\n",
    "from sklearn.ensemble import GradientBoostingClassifier\n",
    "from sklearn.preprocessing import MinMaxScaler\n",
    "from sklearn.metrics import f1_score, roc_auc_score, precision_score, classification_report, precision_recall_curve, confusion_matrix\n",
    "\n",
    "import matplotlib.pyplot as plt\n",
    "\n",
    "%matplotlib inline"
   ]
  },
  {
   "cell_type": "markdown",
   "id": "2f32b416",
   "metadata": {},
   "source": [
    "Загрузка данных"
   ]
  },
  {
   "cell_type": "code",
   "execution_count": 2,
   "id": "b8ef3e1d",
   "metadata": {},
   "outputs": [
    {
     "data": {
      "text/html": [
       "<div>\n",
       "<style scoped>\n",
       "    .dataframe tbody tr th:only-of-type {\n",
       "        vertical-align: middle;\n",
       "    }\n",
       "\n",
       "    .dataframe tbody tr th {\n",
       "        vertical-align: top;\n",
       "    }\n",
       "\n",
       "    .dataframe thead th {\n",
       "        text-align: right;\n",
       "    }\n",
       "</style>\n",
       "<table border=\"1\" class=\"dataframe\">\n",
       "  <thead>\n",
       "    <tr style=\"text-align: right;\">\n",
       "      <th></th>\n",
       "      <th>RowNumber</th>\n",
       "      <th>CustomerId</th>\n",
       "      <th>Surname</th>\n",
       "      <th>CreditScore</th>\n",
       "      <th>Geography</th>\n",
       "      <th>Gender</th>\n",
       "      <th>Age</th>\n",
       "      <th>Tenure</th>\n",
       "      <th>Balance</th>\n",
       "      <th>NumOfProducts</th>\n",
       "      <th>HasCrCard</th>\n",
       "      <th>IsActiveMember</th>\n",
       "      <th>EstimatedSalary</th>\n",
       "      <th>Exited</th>\n",
       "    </tr>\n",
       "  </thead>\n",
       "  <tbody>\n",
       "    <tr>\n",
       "      <th>0</th>\n",
       "      <td>1</td>\n",
       "      <td>15634602</td>\n",
       "      <td>Hargrave</td>\n",
       "      <td>619</td>\n",
       "      <td>France</td>\n",
       "      <td>Female</td>\n",
       "      <td>42</td>\n",
       "      <td>2</td>\n",
       "      <td>0.00</td>\n",
       "      <td>1</td>\n",
       "      <td>1</td>\n",
       "      <td>1</td>\n",
       "      <td>101348.88</td>\n",
       "      <td>1</td>\n",
       "    </tr>\n",
       "    <tr>\n",
       "      <th>1</th>\n",
       "      <td>2</td>\n",
       "      <td>15647311</td>\n",
       "      <td>Hill</td>\n",
       "      <td>608</td>\n",
       "      <td>Spain</td>\n",
       "      <td>Female</td>\n",
       "      <td>41</td>\n",
       "      <td>1</td>\n",
       "      <td>83807.86</td>\n",
       "      <td>1</td>\n",
       "      <td>0</td>\n",
       "      <td>1</td>\n",
       "      <td>112542.58</td>\n",
       "      <td>0</td>\n",
       "    </tr>\n",
       "    <tr>\n",
       "      <th>2</th>\n",
       "      <td>3</td>\n",
       "      <td>15619304</td>\n",
       "      <td>Onio</td>\n",
       "      <td>502</td>\n",
       "      <td>France</td>\n",
       "      <td>Female</td>\n",
       "      <td>42</td>\n",
       "      <td>8</td>\n",
       "      <td>159660.80</td>\n",
       "      <td>3</td>\n",
       "      <td>1</td>\n",
       "      <td>0</td>\n",
       "      <td>113931.57</td>\n",
       "      <td>1</td>\n",
       "    </tr>\n",
       "  </tbody>\n",
       "</table>\n",
       "</div>"
      ],
      "text/plain": [
       "   RowNumber  CustomerId   Surname  CreditScore Geography  Gender  Age  \\\n",
       "0          1    15634602  Hargrave          619    France  Female   42   \n",
       "1          2    15647311      Hill          608     Spain  Female   41   \n",
       "2          3    15619304      Onio          502    France  Female   42   \n",
       "\n",
       "   Tenure    Balance  NumOfProducts  HasCrCard  IsActiveMember  \\\n",
       "0       2       0.00              1          1               1   \n",
       "1       1   83807.86              1          0               1   \n",
       "2       8  159660.80              3          1               0   \n",
       "\n",
       "   EstimatedSalary  Exited  \n",
       "0        101348.88       1  \n",
       "1        112542.58       0  \n",
       "2        113931.57       1  "
      ]
     },
     "execution_count": 2,
     "metadata": {},
     "output_type": "execute_result"
    }
   ],
   "source": [
    "df = pd.read_csv(\"churn_data.csv\")\n",
    "df.head(3)"
   ]
  },
  {
   "cell_type": "code",
   "execution_count": 3,
   "id": "c2d48b98",
   "metadata": {},
   "outputs": [],
   "source": [
    "#разделим данные на train/test\n",
    "X_train, X_test, y_train, y_test = train_test_split(df, df['Exited'], random_state=26)\n",
    "\n",
    "X_test.to_csv(\"X_test.csv\", index=None)\n",
    "y_test.to_csv(\"y_test.csv\", index=None)\n",
    "\n",
    "X_train.to_csv(\"X_train.csv\", index=None)\n",
    "y_train.to_csv(\"y_train.csv\", index=None)"
   ]
  },
  {
   "cell_type": "code",
   "execution_count": 4,
   "id": "d39caac4",
   "metadata": {},
   "outputs": [],
   "source": [
    "#обработчики данных\n",
    "class FeatureSelector(BaseEstimator, TransformerMixin):\n",
    "    def __init__(self, column):\n",
    "        self.column = column\n",
    "\n",
    "    def fit(self, X, y=None):\n",
    "        return self\n",
    "\n",
    "    def transform(self, X, y=None):\n",
    "        return X[self.column]\n",
    "    \n",
    "class NumberSelector(BaseEstimator, TransformerMixin):\n",
    "    \"\"\"\n",
    "    Transformer to select a single column from the data frame to perform additional transformations on\n",
    "    Use on numeric columns in the data\n",
    "    \"\"\"\n",
    "    def __init__(self, key):\n",
    "        self.key = key\n",
    "        self.balance = []\n",
    "\n",
    "    def fit(self, X, y=None):\n",
    "        if self.key == 'Balance':\n",
    "            balance_data=list(X['Balance'].unique())\n",
    "            balance_data.remove(0.0)\n",
    "            self.balance = balance_data\n",
    "        return self\n",
    "\n",
    "    def transform(self, X):\n",
    "        if self.key == 'Balance':\n",
    "            X['Balance'] = X['Balance'].apply(lambda x: x if x!=0.0 else random.choice(self.balance))\n",
    "        return X[[self.key]]\n",
    "    \n",
    "class OHEEncoder(BaseEstimator, TransformerMixin):\n",
    "    def __init__(self, key):\n",
    "        self.key = key\n",
    "        self.columns = []\n",
    "\n",
    "    def fit(self, X, y=None):\n",
    "        self.columns = [col for col in pd.get_dummies(X, prefix=self.key).columns]\n",
    "        return self\n",
    "\n",
    "    def transform(self, X):\n",
    "        X = pd.get_dummies(X, prefix=self.key)\n",
    "        test_columns = [col for col in X.columns]\n",
    "        for col_ in self.columns:\n",
    "            if col_ not in test_columns:\n",
    "                X[col_] = 0\n",
    "        return X[self.columns]"
   ]
  },
  {
   "cell_type": "code",
   "execution_count": 5,
   "id": "8b40d9e6",
   "metadata": {},
   "outputs": [],
   "source": [
    "categorical_columns = ['Geography', 'Gender', 'Tenure', 'HasCrCard', 'IsActiveMember']\n",
    "continuous_columns = ['Balance', 'NumOfProducts', 'EstimatedSalary','CreditScore', 'Age']"
   ]
  },
  {
   "cell_type": "code",
   "execution_count": 6,
   "id": "d716283f",
   "metadata": {},
   "outputs": [],
   "source": [
    "final_transformers = list()\n",
    "\n",
    "for cat_col in categorical_columns:\n",
    "    cat_transformer = Pipeline([\n",
    "                ('selector', FeatureSelector(column=cat_col)),\n",
    "                ('ohe', OHEEncoder(key=cat_col))\n",
    "            ])\n",
    "    final_transformers.append((cat_col, cat_transformer))\n",
    "    \n",
    "for cont_col in continuous_columns:\n",
    "    cont_transformer = Pipeline([\n",
    "                ('selector', NumberSelector(key=cont_col))\n",
    "            ])\n",
    "    final_transformers.append((cont_col, cont_transformer))"
   ]
  },
  {
   "cell_type": "code",
   "execution_count": 7,
   "id": "aebaa9cd",
   "metadata": {},
   "outputs": [
    {
     "data": {
      "text/plain": [
       "[('Geography',\n",
       "  Pipeline(steps=[('selector', FeatureSelector(column='Geography')),\n",
       "                  ('ohe', OHEEncoder(key='Geography'))])),\n",
       " ('Gender',\n",
       "  Pipeline(steps=[('selector', FeatureSelector(column='Gender')),\n",
       "                  ('ohe', OHEEncoder(key='Gender'))])),\n",
       " ('Tenure',\n",
       "  Pipeline(steps=[('selector', FeatureSelector(column='Tenure')),\n",
       "                  ('ohe', OHEEncoder(key='Tenure'))])),\n",
       " ('HasCrCard',\n",
       "  Pipeline(steps=[('selector', FeatureSelector(column='HasCrCard')),\n",
       "                  ('ohe', OHEEncoder(key='HasCrCard'))])),\n",
       " ('IsActiveMember',\n",
       "  Pipeline(steps=[('selector', FeatureSelector(column='IsActiveMember')),\n",
       "                  ('ohe', OHEEncoder(key='IsActiveMember'))])),\n",
       " ('Balance', Pipeline(steps=[('selector', NumberSelector(key='Balance'))])),\n",
       " ('NumOfProducts',\n",
       "  Pipeline(steps=[('selector', NumberSelector(key='NumOfProducts'))])),\n",
       " ('EstimatedSalary',\n",
       "  Pipeline(steps=[('selector', NumberSelector(key='EstimatedSalary'))])),\n",
       " ('CreditScore',\n",
       "  Pipeline(steps=[('selector', NumberSelector(key='CreditScore'))])),\n",
       " ('Age', Pipeline(steps=[('selector', NumberSelector(key='Age'))]))]"
      ]
     },
     "execution_count": 7,
     "metadata": {},
     "output_type": "execute_result"
    }
   ],
   "source": [
    "final_transformers"
   ]
  },
  {
   "cell_type": "code",
   "execution_count": 8,
   "id": "b7a722d0",
   "metadata": {},
   "outputs": [],
   "source": [
    "feats = FeatureUnion(final_transformers)\n",
    "\n",
    "feature_processing = Pipeline([('feats', feats)])"
   ]
  },
  {
   "cell_type": "code",
   "execution_count": 9,
   "id": "a38867a2",
   "metadata": {},
   "outputs": [],
   "source": [
    "pipelineGB = Pipeline([\n",
    "    ('features',feats),\n",
    "    ('classifier', GradientBoostingClassifier(random_state = 26,\n",
    "                                              max_depth=4, max_features=0.3, min_samples_leaf=3, min_samples_split=2)),\n",
    "])\n",
    "pipelineGB.fit(X_train, y_train)\n",
    "preds = pipelineGB.predict_proba(X_test)[:, 1]"
   ]
  },
  {
   "cell_type": "code",
   "execution_count": 10,
   "id": "fd610221",
   "metadata": {},
   "outputs": [
    {
     "data": {
      "text/plain": [
       "[('features',\n",
       "  FeatureUnion(transformer_list=[('Geography',\n",
       "                                  Pipeline(steps=[('selector',\n",
       "                                                   FeatureSelector(column='Geography')),\n",
       "                                                  ('ohe',\n",
       "                                                   OHEEncoder(key='Geography'))])),\n",
       "                                 ('Gender',\n",
       "                                  Pipeline(steps=[('selector',\n",
       "                                                   FeatureSelector(column='Gender')),\n",
       "                                                  ('ohe',\n",
       "                                                   OHEEncoder(key='Gender'))])),\n",
       "                                 ('Tenure',\n",
       "                                  Pipeline(steps=[('selector',\n",
       "                                                   FeatureSelector(column='Tenure')),\n",
       "                                                  ('ohe',\n",
       "                                                   OHEEncoder(key=...\n",
       "                                                   NumberSelector(key='Balance'))])),\n",
       "                                 ('NumOfProducts',\n",
       "                                  Pipeline(steps=[('selector',\n",
       "                                                   NumberSelector(key='NumOfProducts'))])),\n",
       "                                 ('EstimatedSalary',\n",
       "                                  Pipeline(steps=[('selector',\n",
       "                                                   NumberSelector(key='EstimatedSalary'))])),\n",
       "                                 ('CreditScore',\n",
       "                                  Pipeline(steps=[('selector',\n",
       "                                                   NumberSelector(key='CreditScore'))])),\n",
       "                                 ('Age',\n",
       "                                  Pipeline(steps=[('selector',\n",
       "                                                   NumberSelector(key='Age'))]))])),\n",
       " ('classifier',\n",
       "  GradientBoostingClassifier(max_depth=4, max_features=0.3, min_samples_leaf=3,\n",
       "                             random_state=26))]"
      ]
     },
     "execution_count": 10,
     "metadata": {},
     "output_type": "execute_result"
    }
   ],
   "source": [
    "pipelineGB.steps"
   ]
  },
  {
   "cell_type": "code",
   "execution_count": 11,
   "id": "2ef3b406",
   "metadata": {},
   "outputs": [],
   "source": [
    "#сохраняем пайплайн\n",
    "with open('gradboost_pipeline.dill', 'wb') as f:\n",
    "    dill.dump(pipelineGB, f)"
   ]
  },
  {
   "cell_type": "code",
   "execution_count": 12,
   "id": "098e56c5",
   "metadata": {},
   "outputs": [],
   "source": [
    "#подгружаем данные и модель\n",
    "X_test = pd.read_csv(\"X_test.csv\")\n",
    "X_train = pd.read_csv(\"y_test.csv\")"
   ]
  },
  {
   "cell_type": "code",
   "execution_count": 13,
   "id": "3acae113",
   "metadata": {},
   "outputs": [
    {
     "data": {
      "text/html": [
       "<div>\n",
       "<style scoped>\n",
       "    .dataframe tbody tr th:only-of-type {\n",
       "        vertical-align: middle;\n",
       "    }\n",
       "\n",
       "    .dataframe tbody tr th {\n",
       "        vertical-align: top;\n",
       "    }\n",
       "\n",
       "    .dataframe thead th {\n",
       "        text-align: right;\n",
       "    }\n",
       "</style>\n",
       "<table border=\"1\" class=\"dataframe\">\n",
       "  <thead>\n",
       "    <tr style=\"text-align: right;\">\n",
       "      <th></th>\n",
       "      <th>RowNumber</th>\n",
       "      <th>CustomerId</th>\n",
       "      <th>Surname</th>\n",
       "      <th>CreditScore</th>\n",
       "      <th>Geography</th>\n",
       "      <th>Gender</th>\n",
       "      <th>Age</th>\n",
       "      <th>Tenure</th>\n",
       "      <th>Balance</th>\n",
       "      <th>NumOfProducts</th>\n",
       "      <th>HasCrCard</th>\n",
       "      <th>IsActiveMember</th>\n",
       "      <th>EstimatedSalary</th>\n",
       "      <th>Exited</th>\n",
       "    </tr>\n",
       "  </thead>\n",
       "  <tbody>\n",
       "    <tr>\n",
       "      <th>0</th>\n",
       "      <td>8885</td>\n",
       "      <td>15749583</td>\n",
       "      <td>Bellucci</td>\n",
       "      <td>686</td>\n",
       "      <td>Germany</td>\n",
       "      <td>Female</td>\n",
       "      <td>38</td>\n",
       "      <td>2</td>\n",
       "      <td>93569.86</td>\n",
       "      <td>3</td>\n",
       "      <td>0</td>\n",
       "      <td>0</td>\n",
       "      <td>10137.34</td>\n",
       "      <td>1</td>\n",
       "    </tr>\n",
       "    <tr>\n",
       "      <th>1</th>\n",
       "      <td>4630</td>\n",
       "      <td>15687153</td>\n",
       "      <td>Graham</td>\n",
       "      <td>850</td>\n",
       "      <td>Germany</td>\n",
       "      <td>Male</td>\n",
       "      <td>49</td>\n",
       "      <td>8</td>\n",
       "      <td>98649.55</td>\n",
       "      <td>1</td>\n",
       "      <td>1</td>\n",
       "      <td>0</td>\n",
       "      <td>119174.88</td>\n",
       "      <td>1</td>\n",
       "    </tr>\n",
       "    <tr>\n",
       "      <th>2</th>\n",
       "      <td>727</td>\n",
       "      <td>15673570</td>\n",
       "      <td>Olsen</td>\n",
       "      <td>580</td>\n",
       "      <td>France</td>\n",
       "      <td>Male</td>\n",
       "      <td>37</td>\n",
       "      <td>9</td>\n",
       "      <td>0.00</td>\n",
       "      <td>2</td>\n",
       "      <td>0</td>\n",
       "      <td>1</td>\n",
       "      <td>77108.66</td>\n",
       "      <td>0</td>\n",
       "    </tr>\n",
       "    <tr>\n",
       "      <th>3</th>\n",
       "      <td>3891</td>\n",
       "      <td>15719579</td>\n",
       "      <td>McIntosh</td>\n",
       "      <td>670</td>\n",
       "      <td>Germany</td>\n",
       "      <td>Female</td>\n",
       "      <td>33</td>\n",
       "      <td>9</td>\n",
       "      <td>84521.48</td>\n",
       "      <td>2</td>\n",
       "      <td>0</td>\n",
       "      <td>1</td>\n",
       "      <td>198017.05</td>\n",
       "      <td>0</td>\n",
       "    </tr>\n",
       "    <tr>\n",
       "      <th>4</th>\n",
       "      <td>712</td>\n",
       "      <td>15650288</td>\n",
       "      <td>Summers</td>\n",
       "      <td>634</td>\n",
       "      <td>Germany</td>\n",
       "      <td>Male</td>\n",
       "      <td>35</td>\n",
       "      <td>6</td>\n",
       "      <td>116269.01</td>\n",
       "      <td>1</td>\n",
       "      <td>1</td>\n",
       "      <td>0</td>\n",
       "      <td>129964.94</td>\n",
       "      <td>0</td>\n",
       "    </tr>\n",
       "  </tbody>\n",
       "</table>\n",
       "</div>"
      ],
      "text/plain": [
       "   RowNumber  CustomerId   Surname  CreditScore Geography  Gender  Age  \\\n",
       "0       8885    15749583  Bellucci          686   Germany  Female   38   \n",
       "1       4630    15687153    Graham          850   Germany    Male   49   \n",
       "2        727    15673570     Olsen          580    France    Male   37   \n",
       "3       3891    15719579  McIntosh          670   Germany  Female   33   \n",
       "4        712    15650288   Summers          634   Germany    Male   35   \n",
       "\n",
       "   Tenure    Balance  NumOfProducts  HasCrCard  IsActiveMember  \\\n",
       "0       2   93569.86              3          0               0   \n",
       "1       8   98649.55              1          1               0   \n",
       "2       9       0.00              2          0               1   \n",
       "3       9   84521.48              2          0               1   \n",
       "4       6  116269.01              1          1               0   \n",
       "\n",
       "   EstimatedSalary  Exited  \n",
       "0         10137.34       1  \n",
       "1        119174.88       1  \n",
       "2         77108.66       0  \n",
       "3        198017.05       0  \n",
       "4        129964.94       0  "
      ]
     },
     "execution_count": 13,
     "metadata": {},
     "output_type": "execute_result"
    }
   ],
   "source": [
    "X_test.head()"
   ]
  },
  {
   "cell_type": "code",
   "execution_count": 14,
   "id": "badd077f",
   "metadata": {},
   "outputs": [],
   "source": [
    "with open('gradboost_pipeline.dill', 'rb') as f:\n",
    "    pipeline = dill.load(f)"
   ]
  },
  {
   "cell_type": "code",
   "execution_count": 15,
   "id": "00230a63",
   "metadata": {},
   "outputs": [
    {
     "data": {
      "text/plain": [
       "Pipeline(steps=[('features',\n",
       "                 FeatureUnion(transformer_list=[('Geography',\n",
       "                                                 Pipeline(steps=[('selector',\n",
       "                                                                  FeatureSelector(column='Geography')),\n",
       "                                                                 ('ohe',\n",
       "                                                                  OHEEncoder(key='Geography'))])),\n",
       "                                                ('Gender',\n",
       "                                                 Pipeline(steps=[('selector',\n",
       "                                                                  FeatureSelector(column='Gender')),\n",
       "                                                                 ('ohe',\n",
       "                                                                  OHEEncoder(key='Gender'))])),\n",
       "                                                ('Tenure',\n",
       "                                                 Pipeline(steps=[('selector',\n",
       "                                                                  FeatureSelector(column='Tenu...\n",
       "                                                                  NumberSelector(key='NumOfProducts'))])),\n",
       "                                                ('EstimatedSalary',\n",
       "                                                 Pipeline(steps=[('selector',\n",
       "                                                                  NumberSelector(key='EstimatedSalary'))])),\n",
       "                                                ('CreditScore',\n",
       "                                                 Pipeline(steps=[('selector',\n",
       "                                                                  NumberSelector(key='CreditScore'))])),\n",
       "                                                ('Age',\n",
       "                                                 Pipeline(steps=[('selector',\n",
       "                                                                  NumberSelector(key='Age'))]))])),\n",
       "                ('classifier',\n",
       "                 GradientBoostingClassifier(max_depth=4, max_features=0.3,\n",
       "                                            min_samples_leaf=3,\n",
       "                                            random_state=26))])"
      ]
     },
     "execution_count": 15,
     "metadata": {},
     "output_type": "execute_result"
    }
   ],
   "source": [
    "pipeline"
   ]
  },
  {
   "cell_type": "code",
   "execution_count": 16,
   "id": "d362a8d8",
   "metadata": {},
   "outputs": [],
   "source": [
    "#тестируем пайплайн\n",
    "preds = pipeline.predict_proba(X_test)[:,1]\n",
    "\n",
    "pred_df = pd.DataFrame({'preds':preds})\n",
    "pred_df.to_csv(\"test_predictions.csv\", index=None)"
   ]
  },
  {
   "cell_type": "code",
   "execution_count": 17,
   "id": "d05bbcd8",
   "metadata": {},
   "outputs": [
    {
     "data": {
      "text/plain": [
       "array([0.74108133, 0.69898457, 0.02166155, 0.02004377, 0.35596888,\n",
       "       0.41686125, 0.26229759, 0.10847401, 0.36091553, 0.41793982])"
      ]
     },
     "execution_count": 17,
     "metadata": {},
     "output_type": "execute_result"
    }
   ],
   "source": [
    "preds[:10]"
   ]
  },
  {
   "cell_type": "code",
   "execution_count": 18,
   "id": "4ab22dc6",
   "metadata": {},
   "outputs": [
    {
     "name": "stdout",
     "output_type": "stream",
     "text": [
      "Best Threshold=0.3732355037097012, F-Score=0.627, Precision=0.655, Recall=0.602\n"
     ]
    }
   ],
   "source": [
    "precision, recall, thresholds = precision_recall_curve(y_test, preds)\n",
    "\n",
    "fscore = (2 * precision * recall) / (precision + recall)\n",
    "ix = np.argmax(fscore)\n",
    "print(f'Best Threshold={thresholds[ix]}, F-Score={fscore[ix]:.3f}, Precision={precision[ix]:.3f}, Recall={recall[ix]:.3f}')"
   ]
  },
  {
   "cell_type": "code",
   "execution_count": 19,
   "id": "59d5f47a",
   "metadata": {},
   "outputs": [],
   "source": [
    "from flask import Flask, request, jsonify"
   ]
  },
  {
   "cell_type": "code",
   "execution_count": 20,
   "id": "a1a3f9eb",
   "metadata": {},
   "outputs": [],
   "source": [
    "#подгружаем модель и данные\n",
    "with open('gradboost_pipeline.dill', 'rb') as f:\n",
    "    model = dill.load(f)"
   ]
  },
  {
   "cell_type": "code",
   "execution_count": 21,
   "id": "c376ab44",
   "metadata": {},
   "outputs": [],
   "source": [
    "X_test = pd.read_csv(\"X_test.csv\")\n",
    "y_test = pd.read_csv('y_test.csv')"
   ]
  },
  {
   "cell_type": "code",
   "execution_count": null,
   "id": "a9871526",
   "metadata": {},
   "outputs": [
    {
     "name": "stdout",
     "output_type": "stream",
     "text": [
      " * Serving Flask app '__main__'\n",
      " * Debug mode: off\n"
     ]
    },
    {
     "name": "stderr",
     "output_type": "stream",
     "text": [
      "WARNING: This is a development server. Do not use it in a production deployment. Use a production WSGI server instead.\n",
      " * Running on http://127.0.0.1:5000\n",
      "Press CTRL+C to quit\n",
      "127.0.0.1 - - [20/Feb/2023 22:13:08] \"POST /predict HTTP/1.1\" 200 -\n"
     ]
    },
    {
     "name": "stdout",
     "output_type": "stream",
     "text": [
      "OK\n"
     ]
    },
    {
     "name": "stderr",
     "output_type": "stream",
     "text": [
      "127.0.0.1 - - [20/Feb/2023 22:13:11] \"POST /predict HTTP/1.1\" 200 -\n"
     ]
    },
    {
     "name": "stdout",
     "output_type": "stream",
     "text": [
      "OK\n"
     ]
    },
    {
     "name": "stderr",
     "output_type": "stream",
     "text": [
      "127.0.0.1 - - [20/Feb/2023 22:13:15] \"POST /predict HTTP/1.1\" 200 -\n",
      "127.0.0.1 - - [20/Feb/2023 22:13:15] \"POST /predict HTTP/1.1\" 200 -\n"
     ]
    },
    {
     "name": "stdout",
     "output_type": "stream",
     "text": [
      "OK\n",
      "OK\n"
     ]
    },
    {
     "name": "stderr",
     "output_type": "stream",
     "text": [
      "127.0.0.1 - - [20/Feb/2023 22:13:19] \"POST /predict HTTP/1.1\" 200 -\n",
      "127.0.0.1 - - [20/Feb/2023 22:13:19] \"POST /predict HTTP/1.1\" 200 -\n",
      "127.0.0.1 - - [20/Feb/2023 22:13:19] \"POST /predict HTTP/1.1\" 200 -\n",
      "127.0.0.1 - - [20/Feb/2023 22:13:19] \"POST /predict HTTP/1.1\" 200 -\n",
      "127.0.0.1 - - [20/Feb/2023 22:13:19] \"POST /predict HTTP/1.1\" 200 -\n",
      "127.0.0.1 - - [20/Feb/2023 22:13:19] \"POST /predict HTTP/1.1\" 200 -\n",
      "127.0.0.1 - - [20/Feb/2023 22:13:19] \"POST /predict HTTP/1.1\" 200 -\n",
      "127.0.0.1 - - [20/Feb/2023 22:13:19] \"POST /predict HTTP/1.1\" 200 -\n"
     ]
    },
    {
     "name": "stdout",
     "output_type": "stream",
     "text": [
      "OK\n",
      "OK\n",
      "OK\n",
      "OK\n",
      "OK\n",
      "OK\n",
      "OK\n",
      "OK\n"
     ]
    },
    {
     "name": "stderr",
     "output_type": "stream",
     "text": [
      "127.0.0.1 - - [20/Feb/2023 22:13:19] \"POST /predict HTTP/1.1\" 200 -\n",
      "127.0.0.1 - - [20/Feb/2023 22:13:19] \"POST /predict HTTP/1.1\" 200 -\n"
     ]
    },
    {
     "name": "stdout",
     "output_type": "stream",
     "text": [
      "OK\n",
      "OK\n"
     ]
    },
    {
     "name": "stderr",
     "output_type": "stream",
     "text": [
      "127.0.0.1 - - [20/Feb/2023 22:13:41] \"POST /predict HTTP/1.1\" 200 -\n",
      "127.0.0.1 - - [20/Feb/2023 22:13:41] \"POST /predict HTTP/1.1\" 200 -\n",
      "127.0.0.1 - - [20/Feb/2023 22:13:41] \"POST /predict HTTP/1.1\" 200 -\n",
      "127.0.0.1 - - [20/Feb/2023 22:13:41] \"POST /predict HTTP/1.1\" 200 -\n",
      "127.0.0.1 - - [20/Feb/2023 22:13:41] \"POST /predict HTTP/1.1\" 200 -\n",
      "127.0.0.1 - - [20/Feb/2023 22:13:41] \"POST /predict HTTP/1.1\" 200 -\n",
      "127.0.0.1 - - [20/Feb/2023 22:13:42] \"POST /predict HTTP/1.1\" 200 -\n",
      "127.0.0.1 - - [20/Feb/2023 22:13:42] \"POST /predict HTTP/1.1\" 200 -\n"
     ]
    },
    {
     "name": "stdout",
     "output_type": "stream",
     "text": [
      "OK\n",
      "OK\n",
      "OK\n",
      "OK\n",
      "OK\n",
      "OK\n",
      "OK\n",
      "OK\n",
      "OK"
     ]
    },
    {
     "name": "stderr",
     "output_type": "stream",
     "text": [
      "127.0.0.1 - - [20/Feb/2023 22:13:42] \"POST /predict HTTP/1.1\" 200 -\n",
      "127.0.0.1 - - [20/Feb/2023 22:13:42] \"POST /predict HTTP/1.1\" 200 -\n",
      "127.0.0.1 - - [20/Feb/2023 22:13:42] \"POST /predict HTTP/1.1\" 200 -\n",
      "127.0.0.1 - - [20/Feb/2023 22:13:42] \"POST /predict HTTP/1.1\" 200 -\n",
      "127.0.0.1 - - [20/Feb/2023 22:13:42] \"POST /predict HTTP/1.1\" 200 -\n",
      "127.0.0.1 - - [20/Feb/2023 22:13:42] \"POST /predict HTTP/1.1\" 200 -\n",
      "127.0.0.1 - - [20/Feb/2023 22:13:42] \"POST /predict HTTP/1.1\" 200 -\n",
      "127.0.0.1 - - [20/Feb/2023 22:13:42] \"POST /predict HTTP/1.1\" 200 -\n"
     ]
    },
    {
     "name": "stdout",
     "output_type": "stream",
     "text": [
      "\n",
      "OK\n",
      "OK\n",
      "OK\n",
      "OK\n",
      "OK\n",
      "OK\n",
      "OK\n"
     ]
    },
    {
     "name": "stderr",
     "output_type": "stream",
     "text": [
      "127.0.0.1 - - [20/Feb/2023 22:13:42] \"POST /predict HTTP/1.1\" 200 -\n",
      "127.0.0.1 - - [20/Feb/2023 22:13:42] \"POST /predict HTTP/1.1\" 200 -\n",
      "127.0.0.1 - - [20/Feb/2023 22:13:42] \"POST /predict HTTP/1.1\" 200 -\n",
      "127.0.0.1 - - [20/Feb/2023 22:13:42] \"POST /predict HTTP/1.1\" 200 -\n",
      "127.0.0.1 - - [20/Feb/2023 22:13:42] \"POST /predict HTTP/1.1\" 200 -\n",
      "127.0.0.1 - - [20/Feb/2023 22:13:42] \"POST /predict HTTP/1.1\" 200 -\n",
      "127.0.0.1 - - [20/Feb/2023 22:13:42] \"POST /predict HTTP/1.1\" 200 -\n",
      "127.0.0.1 - - [20/Feb/2023 22:13:42] \"POST /predict HTTP/1.1\" 200 -\n"
     ]
    },
    {
     "name": "stdout",
     "output_type": "stream",
     "text": [
      "OK\n",
      "OK\n",
      "OK\n",
      "OK\n",
      "OK\n",
      "OK\n",
      "OK\n",
      "OK\n"
     ]
    },
    {
     "name": "stderr",
     "output_type": "stream",
     "text": [
      "127.0.0.1 - - [20/Feb/2023 22:13:42] \"POST /predict HTTP/1.1\" 200 -\n",
      "127.0.0.1 - - [20/Feb/2023 22:13:42] \"POST /predict HTTP/1.1\" 200 -\n",
      "127.0.0.1 - - [20/Feb/2023 22:13:42] \"POST /predict HTTP/1.1\" 200 -\n",
      "127.0.0.1 - - [20/Feb/2023 22:13:42] \"POST /predict HTTP/1.1\" 200 -\n",
      "127.0.0.1 - - [20/Feb/2023 22:13:42] \"POST /predict HTTP/1.1\" 200 -\n",
      "127.0.0.1 - - [20/Feb/2023 22:13:42] \"POST /predict HTTP/1.1\" 200 -\n",
      "127.0.0.1 - - [20/Feb/2023 22:13:42] \"POST /predict HTTP/1.1\" 200 -\n"
     ]
    },
    {
     "name": "stdout",
     "output_type": "stream",
     "text": [
      "OK\n",
      "OK\n",
      "OK\n",
      "OK\n",
      "OK\n",
      "OK\n",
      "OK\n"
     ]
    },
    {
     "name": "stderr",
     "output_type": "stream",
     "text": [
      "127.0.0.1 - - [20/Feb/2023 22:13:42] \"POST /predict HTTP/1.1\" 200 -\n",
      "127.0.0.1 - - [20/Feb/2023 22:13:42] \"POST /predict HTTP/1.1\" 200 -\n",
      "127.0.0.1 - - [20/Feb/2023 22:13:42] \"POST /predict HTTP/1.1\" 200 -\n",
      "127.0.0.1 - - [20/Feb/2023 22:13:42] \"POST /predict HTTP/1.1\" 200 -\n",
      "127.0.0.1 - - [20/Feb/2023 22:13:42] \"POST /predict HTTP/1.1\" 200 -\n",
      "127.0.0.1 - - [20/Feb/2023 22:13:42] \"POST /predict HTTP/1.1\" 200 -\n"
     ]
    },
    {
     "name": "stdout",
     "output_type": "stream",
     "text": [
      "OK\n",
      "OK\n",
      "OK\n",
      "OK\n",
      "OK\n",
      "OK\n"
     ]
    },
    {
     "name": "stderr",
     "output_type": "stream",
     "text": [
      "127.0.0.1 - - [20/Feb/2023 22:13:42] \"POST /predict HTTP/1.1\" 200 -\n",
      "127.0.0.1 - - [20/Feb/2023 22:13:43] \"POST /predict HTTP/1.1\" 200 -\n",
      "127.0.0.1 - - [20/Feb/2023 22:13:43] \"POST /predict HTTP/1.1\" 200 -\n",
      "127.0.0.1 - - [20/Feb/2023 22:13:43] \"POST /predict HTTP/1.1\" 200 -\n",
      "127.0.0.1 - - [20/Feb/2023 22:13:43] \"POST /predict HTTP/1.1\" 200 -\n",
      "127.0.0.1 - - [20/Feb/2023 22:13:43] \"POST /predict HTTP/1.1\" 200 -\n",
      "127.0.0.1 - - [20/Feb/2023 22:13:43] \"POST /predict HTTP/1.1\" 200 -\n"
     ]
    },
    {
     "name": "stdout",
     "output_type": "stream",
     "text": [
      "OK\n",
      "OK\n",
      "OK\n",
      "OK\n",
      "OK\n",
      "OK\n",
      "OK\n",
      "OK"
     ]
    },
    {
     "name": "stderr",
     "output_type": "stream",
     "text": [
      "127.0.0.1 - - [20/Feb/2023 22:13:43] \"POST /predict HTTP/1.1\" 200 -\n",
      "127.0.0.1 - - [20/Feb/2023 22:13:43] \"POST /predict HTTP/1.1\" 200 -\n",
      "127.0.0.1 - - [20/Feb/2023 22:13:43] \"POST /predict HTTP/1.1\" 200 -\n",
      "127.0.0.1 - - [20/Feb/2023 22:13:43] \"POST /predict HTTP/1.1\" 200 -\n",
      "127.0.0.1 - - [20/Feb/2023 22:13:43] \"POST /predict HTTP/1.1\" 200 -\n",
      "127.0.0.1 - - [20/Feb/2023 22:13:43] \"POST /predict HTTP/1.1\" 200 -\n"
     ]
    },
    {
     "name": "stdout",
     "output_type": "stream",
     "text": [
      "\n",
      "OK\n",
      "OK\n",
      "OK\n",
      "OK\n",
      "OK\n"
     ]
    }
   ],
   "source": [
    "#запускаем сервер\n",
    "app = Flask(__name__)\n",
    "\n",
    "@app.route(\"/\", methods=['GET'])\n",
    "def general():\n",
    "    return \"Welcome to prediction process\"\n",
    "\n",
    "@app.route(\"/predict\", methods=[\"POST\"])\n",
    "def predict():\n",
    "    data = {'success': False}\n",
    "    \n",
    "    request_json = request.get_json()\n",
    "\n",
    "    geography, gender = '',''\n",
    "    balance,  estimatedsalary = 0.0, 0.0\n",
    "    creditscore, age, tenure,numofproducts,hascrcard, isactivemember = 0,0,0,0,0,0\n",
    "    if request_json['Geography']:\n",
    "        geography = request_json['Geography']\n",
    "    if request_json['Gender']:\n",
    "        gender = request_json['Gender']\n",
    "    if request_json['Tenure']:\n",
    "        tenure = request_json['Tenure']\n",
    "    if request_json['HasCrCard']:\n",
    "        hascrcard = request_json['HasCrCard']\n",
    "    if request_json['IsActiveMember']:\n",
    "        isactivemember = request_json['IsActiveMember']\n",
    "    if request_json['CreditScore']:\n",
    "        creditscore = request_json['CreditScore']\n",
    "    if request_json['Age']:\n",
    "        age = request_json['Age']\n",
    "    if request_json['Balance']:\n",
    "        balance = request_json['Balance']\n",
    "    if request_json['NumOfProducts']:\n",
    "        numofproducts = request_json['NumOfProducts']\n",
    "    if request_json['EstimatedSalary']:\n",
    "        estimatedsalary = request_json['EstimatedSalary']\n",
    "    \n",
    "    preds = model.predict_proba(pd.DataFrame({'Geography': [geography],\n",
    "                                            'Gender': [gender],\n",
    "                                            'Tenure': [tenure],\n",
    "                                            'HasCrCard': [hascrcard],\n",
    "                                            'IsActiveMember': [isactivemember],\n",
    "                                            'CreditScore': [creditscore],\n",
    "                                            'Age': [age],\n",
    "                                            'Balance': [balance],\n",
    "                                            'NumOfProducts': [numofproducts],\n",
    "                                            'EstimatedSalary': [estimatedsalary]}))\n",
    "    data['predictions'] = preds[:, 1][0]\n",
    "    data['success'] = True\n",
    "    print('OK')\n",
    "    \n",
    "    return jsonify(data)\n",
    "\n",
    "if __name__ == '__main__':\n",
    "    app.run()"
   ]
  }
 ],
 "metadata": {
  "kernelspec": {
   "display_name": "gpu2",
   "language": "python",
   "name": "gpu2"
  },
  "language_info": {
   "codemirror_mode": {
    "name": "ipython",
    "version": 3
   },
   "file_extension": ".py",
   "mimetype": "text/x-python",
   "name": "python",
   "nbconvert_exporter": "python",
   "pygments_lexer": "ipython3",
   "version": "3.9.15"
  }
 },
 "nbformat": 4,
 "nbformat_minor": 5
}
