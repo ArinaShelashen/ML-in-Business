{
 "cells": [
  {
   "cell_type": "markdown",
   "id": "99556542",
   "metadata": {},
   "source": [
    "1. Для нашего пайплайна (Case1) поэкспериментировать с разными моделями: 1 - бустинг, 2 - логистическая регрессия (не забудьте здесь добавить в cont_transformer стандартизацию - нормирование вещественных признаков)\n"
   ]
  },
  {
   "cell_type": "code",
   "execution_count": 1,
   "id": "1dc3629a",
   "metadata": {},
   "outputs": [],
   "source": [
    "import pandas as pd\n",
    "import numpy as np\n",
    "import dill\n",
    "import random\n",
    "from sklearn.model_selection import train_test_split, GridSearchCV\n",
    "from sklearn.base import BaseEstimator, TransformerMixin\n",
    "from sklearn.pipeline import Pipeline, FeatureUnion\n",
    "from sklearn.ensemble import GradientBoostingClassifier\n",
    "from sklearn.preprocessing import MinMaxScaler\n",
    "from sklearn.metrics import f1_score, roc_auc_score, precision_score, classification_report, precision_recall_curve, confusion_matrix\n",
    "\n",
    "import matplotlib.pyplot as plt\n",
    "\n",
    "%matplotlib inline"
   ]
  },
  {
   "cell_type": "code",
   "execution_count": 2,
   "id": "b8ef3e1d",
   "metadata": {},
   "outputs": [
    {
     "data": {
      "text/html": [
       "<div>\n",
       "<style scoped>\n",
       "    .dataframe tbody tr th:only-of-type {\n",
       "        vertical-align: middle;\n",
       "    }\n",
       "\n",
       "    .dataframe tbody tr th {\n",
       "        vertical-align: top;\n",
       "    }\n",
       "\n",
       "    .dataframe thead th {\n",
       "        text-align: right;\n",
       "    }\n",
       "</style>\n",
       "<table border=\"1\" class=\"dataframe\">\n",
       "  <thead>\n",
       "    <tr style=\"text-align: right;\">\n",
       "      <th></th>\n",
       "      <th>RowNumber</th>\n",
       "      <th>CustomerId</th>\n",
       "      <th>Surname</th>\n",
       "      <th>CreditScore</th>\n",
       "      <th>Geography</th>\n",
       "      <th>Gender</th>\n",
       "      <th>Age</th>\n",
       "      <th>Tenure</th>\n",
       "      <th>Balance</th>\n",
       "      <th>NumOfProducts</th>\n",
       "      <th>HasCrCard</th>\n",
       "      <th>IsActiveMember</th>\n",
       "      <th>EstimatedSalary</th>\n",
       "      <th>Exited</th>\n",
       "    </tr>\n",
       "  </thead>\n",
       "  <tbody>\n",
       "    <tr>\n",
       "      <th>0</th>\n",
       "      <td>1</td>\n",
       "      <td>15634602</td>\n",
       "      <td>Hargrave</td>\n",
       "      <td>619</td>\n",
       "      <td>France</td>\n",
       "      <td>Female</td>\n",
       "      <td>42</td>\n",
       "      <td>2</td>\n",
       "      <td>0.00</td>\n",
       "      <td>1</td>\n",
       "      <td>1</td>\n",
       "      <td>1</td>\n",
       "      <td>101348.88</td>\n",
       "      <td>1</td>\n",
       "    </tr>\n",
       "    <tr>\n",
       "      <th>1</th>\n",
       "      <td>2</td>\n",
       "      <td>15647311</td>\n",
       "      <td>Hill</td>\n",
       "      <td>608</td>\n",
       "      <td>Spain</td>\n",
       "      <td>Female</td>\n",
       "      <td>41</td>\n",
       "      <td>1</td>\n",
       "      <td>83807.86</td>\n",
       "      <td>1</td>\n",
       "      <td>0</td>\n",
       "      <td>1</td>\n",
       "      <td>112542.58</td>\n",
       "      <td>0</td>\n",
       "    </tr>\n",
       "    <tr>\n",
       "      <th>2</th>\n",
       "      <td>3</td>\n",
       "      <td>15619304</td>\n",
       "      <td>Onio</td>\n",
       "      <td>502</td>\n",
       "      <td>France</td>\n",
       "      <td>Female</td>\n",
       "      <td>42</td>\n",
       "      <td>8</td>\n",
       "      <td>159660.80</td>\n",
       "      <td>3</td>\n",
       "      <td>1</td>\n",
       "      <td>0</td>\n",
       "      <td>113931.57</td>\n",
       "      <td>1</td>\n",
       "    </tr>\n",
       "  </tbody>\n",
       "</table>\n",
       "</div>"
      ],
      "text/plain": [
       "   RowNumber  CustomerId   Surname  CreditScore Geography  Gender  Age  \\\n",
       "0          1    15634602  Hargrave          619    France  Female   42   \n",
       "1          2    15647311      Hill          608     Spain  Female   41   \n",
       "2          3    15619304      Onio          502    France  Female   42   \n",
       "\n",
       "   Tenure    Balance  NumOfProducts  HasCrCard  IsActiveMember  \\\n",
       "0       2       0.00              1          1               1   \n",
       "1       1   83807.86              1          0               1   \n",
       "2       8  159660.80              3          1               0   \n",
       "\n",
       "   EstimatedSalary  Exited  \n",
       "0        101348.88       1  \n",
       "1        112542.58       0  \n",
       "2        113931.57       1  "
      ]
     },
     "execution_count": 2,
     "metadata": {},
     "output_type": "execute_result"
    }
   ],
   "source": [
    "df = pd.read_csv(\"churn_data.csv\")\n",
    "df.head(3)"
   ]
  },
  {
   "cell_type": "code",
   "execution_count": 3,
   "id": "c2d48b98",
   "metadata": {},
   "outputs": [],
   "source": [
    "#разделим данные на train/test\n",
    "X_train, X_test, y_train, y_test = train_test_split(df, df['Exited'], random_state=26)\n",
    "\n",
    "X_test.to_csv(\"X_test.csv\", index=None)\n",
    "y_test.to_csv(\"y_test.csv\", index=None)\n",
    "\n",
    "X_train.to_csv(\"X_train.csv\", index=None)\n",
    "y_train.to_csv(\"y_train.csv\", index=None)"
   ]
  },
  {
   "cell_type": "code",
   "execution_count": 4,
   "id": "d39caac4",
   "metadata": {},
   "outputs": [],
   "source": [
    "class FeatureSelector(BaseEstimator, TransformerMixin):\n",
    "    def __init__(self, column):\n",
    "        self.column = column\n",
    "\n",
    "    def fit(self, X, y=None):\n",
    "        return self\n",
    "\n",
    "    def transform(self, X, y=None):\n",
    "        return X[self.column]\n",
    "    \n",
    "class NumberSelector(BaseEstimator, TransformerMixin):\n",
    "    \"\"\"\n",
    "    Transformer to select a single column from the data frame to perform additional transformations on\n",
    "    Use on numeric columns in the data\n",
    "    \"\"\"\n",
    "    def __init__(self, key):\n",
    "        self.key = key\n",
    "        self.balance = []\n",
    "\n",
    "    def fit(self, X, y=None):\n",
    "        if self.key == 'Balance':\n",
    "            balance_data=list(X['Balance'].unique())\n",
    "            balance_data.remove(0.0)\n",
    "            self.balance = balance_data\n",
    "        return self\n",
    "\n",
    "    def transform(self, X):\n",
    "        if self.key == 'Balance':\n",
    "            X['Balance'] = X['Balance'].apply(lambda x: x if x!=0.0 else random.choice(self.balance))\n",
    "        return X[[self.key]]\n",
    "    \n",
    "class OHEEncoder(BaseEstimator, TransformerMixin):\n",
    "    def __init__(self, key):\n",
    "        self.key = key\n",
    "        self.columns = []\n",
    "\n",
    "    def fit(self, X, y=None):\n",
    "        self.columns = [col for col in pd.get_dummies(X, prefix=self.key).columns]\n",
    "        return self\n",
    "\n",
    "    def transform(self, X):\n",
    "        X = pd.get_dummies(X, prefix=self.key)\n",
    "        test_columns = [col for col in X.columns]\n",
    "        for col_ in self.columns:\n",
    "            if col_ not in test_columns:\n",
    "                X[col_] = 0\n",
    "        return X[self.columns]"
   ]
  },
  {
   "cell_type": "code",
   "execution_count": 5,
   "id": "8b40d9e6",
   "metadata": {},
   "outputs": [],
   "source": [
    "categorical_columns = ['Geography', 'Gender', 'Tenure', 'HasCrCard', 'IsActiveMember']\n",
    "continuous_columns = ['Balance', 'NumOfProducts', 'EstimatedSalary','CreditScore', 'Age']"
   ]
  },
  {
   "cell_type": "code",
   "execution_count": null,
   "id": "f1c67ac0",
   "metadata": {},
   "outputs": [],
   "source": []
  },
  {
   "cell_type": "code",
   "execution_count": 6,
   "id": "d716283f",
   "metadata": {},
   "outputs": [],
   "source": [
    "final_transformers = list()\n",
    "\n",
    "for cat_col in categorical_columns:\n",
    "    cat_transformer = Pipeline([\n",
    "                ('selector', FeatureSelector(column=cat_col)),\n",
    "                ('ohe', OHEEncoder(key=cat_col))\n",
    "            ])\n",
    "    final_transformers.append((cat_col, cat_transformer))\n",
    "    \n",
    "for cont_col in continuous_columns:\n",
    "    cont_transformer = Pipeline([\n",
    "                ('selector', NumberSelector(key=cont_col))\n",
    "            ])\n",
    "    final_transformers.append((cont_col, cont_transformer))"
   ]
  },
  {
   "cell_type": "code",
   "execution_count": 7,
   "id": "aebaa9cd",
   "metadata": {},
   "outputs": [
    {
     "data": {
      "text/plain": [
       "[('Geography',\n",
       "  Pipeline(steps=[('selector', FeatureSelector(column='Geography')),\n",
       "                  ('ohe', OHEEncoder(key='Geography'))])),\n",
       " ('Gender',\n",
       "  Pipeline(steps=[('selector', FeatureSelector(column='Gender')),\n",
       "                  ('ohe', OHEEncoder(key='Gender'))])),\n",
       " ('Tenure',\n",
       "  Pipeline(steps=[('selector', FeatureSelector(column='Tenure')),\n",
       "                  ('ohe', OHEEncoder(key='Tenure'))])),\n",
       " ('HasCrCard',\n",
       "  Pipeline(steps=[('selector', FeatureSelector(column='HasCrCard')),\n",
       "                  ('ohe', OHEEncoder(key='HasCrCard'))])),\n",
       " ('IsActiveMember',\n",
       "  Pipeline(steps=[('selector', FeatureSelector(column='IsActiveMember')),\n",
       "                  ('ohe', OHEEncoder(key='IsActiveMember'))])),\n",
       " ('Balance', Pipeline(steps=[('selector', NumberSelector(key='Balance'))])),\n",
       " ('NumOfProducts',\n",
       "  Pipeline(steps=[('selector', NumberSelector(key='NumOfProducts'))])),\n",
       " ('EstimatedSalary',\n",
       "  Pipeline(steps=[('selector', NumberSelector(key='EstimatedSalary'))])),\n",
       " ('CreditScore',\n",
       "  Pipeline(steps=[('selector', NumberSelector(key='CreditScore'))])),\n",
       " ('Age', Pipeline(steps=[('selector', NumberSelector(key='Age'))]))]"
      ]
     },
     "execution_count": 7,
     "metadata": {},
     "output_type": "execute_result"
    }
   ],
   "source": [
    "final_transformers"
   ]
  },
  {
   "cell_type": "code",
   "execution_count": 8,
   "id": "b7a722d0",
   "metadata": {},
   "outputs": [],
   "source": [
    "feats = FeatureUnion(final_transformers)\n",
    "\n",
    "feature_processing = Pipeline([('feats', feats)])"
   ]
  },
  {
   "cell_type": "code",
   "execution_count": 9,
   "id": "a38867a2",
   "metadata": {},
   "outputs": [],
   "source": [
    "pipelineGB = Pipeline([\n",
    "    ('features',feats),\n",
    "    ('classifier', GradientBoostingClassifier(random_state = 26,\n",
    "                                              max_depth=4, max_features=0.3, min_samples_leaf=3, min_samples_split=2)),\n",
    "])\n",
    "pipelineGB.fit(X_train, y_train)\n",
    "preds = pipelineGB.predict_proba(X_test)[:, 1]"
   ]
  },
  {
   "cell_type": "code",
   "execution_count": 10,
   "id": "fd610221",
   "metadata": {},
   "outputs": [
    {
     "data": {
      "text/plain": [
       "[('features',\n",
       "  FeatureUnion(transformer_list=[('Geography',\n",
       "                                  Pipeline(steps=[('selector',\n",
       "                                                   FeatureSelector(column='Geography')),\n",
       "                                                  ('ohe',\n",
       "                                                   OHEEncoder(key='Geography'))])),\n",
       "                                 ('Gender',\n",
       "                                  Pipeline(steps=[('selector',\n",
       "                                                   FeatureSelector(column='Gender')),\n",
       "                                                  ('ohe',\n",
       "                                                   OHEEncoder(key='Gender'))])),\n",
       "                                 ('Tenure',\n",
       "                                  Pipeline(steps=[('selector',\n",
       "                                                   FeatureSelector(column='Tenure')),\n",
       "                                                  ('ohe',\n",
       "                                                   OHEEncoder(key=...\n",
       "                                                   NumberSelector(key='Balance'))])),\n",
       "                                 ('NumOfProducts',\n",
       "                                  Pipeline(steps=[('selector',\n",
       "                                                   NumberSelector(key='NumOfProducts'))])),\n",
       "                                 ('EstimatedSalary',\n",
       "                                  Pipeline(steps=[('selector',\n",
       "                                                   NumberSelector(key='EstimatedSalary'))])),\n",
       "                                 ('CreditScore',\n",
       "                                  Pipeline(steps=[('selector',\n",
       "                                                   NumberSelector(key='CreditScore'))])),\n",
       "                                 ('Age',\n",
       "                                  Pipeline(steps=[('selector',\n",
       "                                                   NumberSelector(key='Age'))]))])),\n",
       " ('classifier',\n",
       "  GradientBoostingClassifier(max_depth=4, max_features=0.3, min_samples_leaf=3,\n",
       "                             random_state=26))]"
      ]
     },
     "execution_count": 10,
     "metadata": {},
     "output_type": "execute_result"
    }
   ],
   "source": [
    "pipelineGB.steps"
   ]
  },
  {
   "cell_type": "code",
   "execution_count": 11,
   "id": "2ef3b406",
   "metadata": {},
   "outputs": [],
   "source": [
    "with open('gradboost_pipeline.dill', 'wb') as f:\n",
    "    dill.dump(pipelineGB, f)"
   ]
  },
  {
   "cell_type": "code",
   "execution_count": 12,
   "id": "098e56c5",
   "metadata": {},
   "outputs": [],
   "source": [
    "X_test = pd.read_csv(\"X_test.csv\")\n",
    "X_train = pd.read_csv(\"y_test.csv\")"
   ]
  },
  {
   "cell_type": "code",
   "execution_count": 13,
   "id": "3acae113",
   "metadata": {},
   "outputs": [
    {
     "data": {
      "text/html": [
       "<div>\n",
       "<style scoped>\n",
       "    .dataframe tbody tr th:only-of-type {\n",
       "        vertical-align: middle;\n",
       "    }\n",
       "\n",
       "    .dataframe tbody tr th {\n",
       "        vertical-align: top;\n",
       "    }\n",
       "\n",
       "    .dataframe thead th {\n",
       "        text-align: right;\n",
       "    }\n",
       "</style>\n",
       "<table border=\"1\" class=\"dataframe\">\n",
       "  <thead>\n",
       "    <tr style=\"text-align: right;\">\n",
       "      <th></th>\n",
       "      <th>RowNumber</th>\n",
       "      <th>CustomerId</th>\n",
       "      <th>Surname</th>\n",
       "      <th>CreditScore</th>\n",
       "      <th>Geography</th>\n",
       "      <th>Gender</th>\n",
       "      <th>Age</th>\n",
       "      <th>Tenure</th>\n",
       "      <th>Balance</th>\n",
       "      <th>NumOfProducts</th>\n",
       "      <th>HasCrCard</th>\n",
       "      <th>IsActiveMember</th>\n",
       "      <th>EstimatedSalary</th>\n",
       "      <th>Exited</th>\n",
       "    </tr>\n",
       "  </thead>\n",
       "  <tbody>\n",
       "    <tr>\n",
       "      <th>0</th>\n",
       "      <td>8885</td>\n",
       "      <td>15749583</td>\n",
       "      <td>Bellucci</td>\n",
       "      <td>686</td>\n",
       "      <td>Germany</td>\n",
       "      <td>Female</td>\n",
       "      <td>38</td>\n",
       "      <td>2</td>\n",
       "      <td>93569.86</td>\n",
       "      <td>3</td>\n",
       "      <td>0</td>\n",
       "      <td>0</td>\n",
       "      <td>10137.34</td>\n",
       "      <td>1</td>\n",
       "    </tr>\n",
       "    <tr>\n",
       "      <th>1</th>\n",
       "      <td>4630</td>\n",
       "      <td>15687153</td>\n",
       "      <td>Graham</td>\n",
       "      <td>850</td>\n",
       "      <td>Germany</td>\n",
       "      <td>Male</td>\n",
       "      <td>49</td>\n",
       "      <td>8</td>\n",
       "      <td>98649.55</td>\n",
       "      <td>1</td>\n",
       "      <td>1</td>\n",
       "      <td>0</td>\n",
       "      <td>119174.88</td>\n",
       "      <td>1</td>\n",
       "    </tr>\n",
       "    <tr>\n",
       "      <th>2</th>\n",
       "      <td>727</td>\n",
       "      <td>15673570</td>\n",
       "      <td>Olsen</td>\n",
       "      <td>580</td>\n",
       "      <td>France</td>\n",
       "      <td>Male</td>\n",
       "      <td>37</td>\n",
       "      <td>9</td>\n",
       "      <td>0.00</td>\n",
       "      <td>2</td>\n",
       "      <td>0</td>\n",
       "      <td>1</td>\n",
       "      <td>77108.66</td>\n",
       "      <td>0</td>\n",
       "    </tr>\n",
       "    <tr>\n",
       "      <th>3</th>\n",
       "      <td>3891</td>\n",
       "      <td>15719579</td>\n",
       "      <td>McIntosh</td>\n",
       "      <td>670</td>\n",
       "      <td>Germany</td>\n",
       "      <td>Female</td>\n",
       "      <td>33</td>\n",
       "      <td>9</td>\n",
       "      <td>84521.48</td>\n",
       "      <td>2</td>\n",
       "      <td>0</td>\n",
       "      <td>1</td>\n",
       "      <td>198017.05</td>\n",
       "      <td>0</td>\n",
       "    </tr>\n",
       "    <tr>\n",
       "      <th>4</th>\n",
       "      <td>712</td>\n",
       "      <td>15650288</td>\n",
       "      <td>Summers</td>\n",
       "      <td>634</td>\n",
       "      <td>Germany</td>\n",
       "      <td>Male</td>\n",
       "      <td>35</td>\n",
       "      <td>6</td>\n",
       "      <td>116269.01</td>\n",
       "      <td>1</td>\n",
       "      <td>1</td>\n",
       "      <td>0</td>\n",
       "      <td>129964.94</td>\n",
       "      <td>0</td>\n",
       "    </tr>\n",
       "  </tbody>\n",
       "</table>\n",
       "</div>"
      ],
      "text/plain": [
       "   RowNumber  CustomerId   Surname  CreditScore Geography  Gender  Age  \\\n",
       "0       8885    15749583  Bellucci          686   Germany  Female   38   \n",
       "1       4630    15687153    Graham          850   Germany    Male   49   \n",
       "2        727    15673570     Olsen          580    France    Male   37   \n",
       "3       3891    15719579  McIntosh          670   Germany  Female   33   \n",
       "4        712    15650288   Summers          634   Germany    Male   35   \n",
       "\n",
       "   Tenure    Balance  NumOfProducts  HasCrCard  IsActiveMember  \\\n",
       "0       2   93569.86              3          0               0   \n",
       "1       8   98649.55              1          1               0   \n",
       "2       9       0.00              2          0               1   \n",
       "3       9   84521.48              2          0               1   \n",
       "4       6  116269.01              1          1               0   \n",
       "\n",
       "   EstimatedSalary  Exited  \n",
       "0         10137.34       1  \n",
       "1        119174.88       1  \n",
       "2         77108.66       0  \n",
       "3        198017.05       0  \n",
       "4        129964.94       0  "
      ]
     },
     "execution_count": 13,
     "metadata": {},
     "output_type": "execute_result"
    }
   ],
   "source": [
    "X_test.head()"
   ]
  },
  {
   "cell_type": "code",
   "execution_count": 14,
   "id": "badd077f",
   "metadata": {},
   "outputs": [],
   "source": [
    "with open('gradboost_pipeline.dill', 'rb') as f:\n",
    "    pipeline = dill.load(f)"
   ]
  },
  {
   "cell_type": "code",
   "execution_count": 15,
   "id": "00230a63",
   "metadata": {},
   "outputs": [
    {
     "data": {
      "text/plain": [
       "Pipeline(steps=[('features',\n",
       "                 FeatureUnion(transformer_list=[('Geography',\n",
       "                                                 Pipeline(steps=[('selector',\n",
       "                                                                  FeatureSelector(column='Geography')),\n",
       "                                                                 ('ohe',\n",
       "                                                                  OHEEncoder(key='Geography'))])),\n",
       "                                                ('Gender',\n",
       "                                                 Pipeline(steps=[('selector',\n",
       "                                                                  FeatureSelector(column='Gender')),\n",
       "                                                                 ('ohe',\n",
       "                                                                  OHEEncoder(key='Gender'))])),\n",
       "                                                ('Tenure',\n",
       "                                                 Pipeline(steps=[('selector',\n",
       "                                                                  FeatureSelector(column='Tenu...\n",
       "                                                                  NumberSelector(key='NumOfProducts'))])),\n",
       "                                                ('EstimatedSalary',\n",
       "                                                 Pipeline(steps=[('selector',\n",
       "                                                                  NumberSelector(key='EstimatedSalary'))])),\n",
       "                                                ('CreditScore',\n",
       "                                                 Pipeline(steps=[('selector',\n",
       "                                                                  NumberSelector(key='CreditScore'))])),\n",
       "                                                ('Age',\n",
       "                                                 Pipeline(steps=[('selector',\n",
       "                                                                  NumberSelector(key='Age'))]))])),\n",
       "                ('classifier',\n",
       "                 GradientBoostingClassifier(max_depth=4, max_features=0.3,\n",
       "                                            min_samples_leaf=3,\n",
       "                                            random_state=26))])"
      ]
     },
     "execution_count": 15,
     "metadata": {},
     "output_type": "execute_result"
    }
   ],
   "source": [
    "pipeline"
   ]
  },
  {
   "cell_type": "code",
   "execution_count": 16,
   "id": "d362a8d8",
   "metadata": {},
   "outputs": [],
   "source": [
    "preds = pipeline.predict_proba(X_test)[:,1]\n",
    "\n",
    "pred_df = pd.DataFrame({'preds':preds})\n",
    "pred_df.to_csv(\"test_predictions.csv\", index=None)"
   ]
  },
  {
   "cell_type": "code",
   "execution_count": 17,
   "id": "d05bbcd8",
   "metadata": {},
   "outputs": [
    {
     "data": {
      "text/plain": [
       "array([0.80796085, 0.78210165, 0.0296932 , 0.02068209, 0.30586347,\n",
       "       0.44818763, 0.19291307, 0.10225029, 0.39568321, 0.53273383])"
      ]
     },
     "execution_count": 17,
     "metadata": {},
     "output_type": "execute_result"
    }
   ],
   "source": [
    "preds[:10]"
   ]
  },
  {
   "cell_type": "code",
   "execution_count": 18,
   "id": "4ab22dc6",
   "metadata": {},
   "outputs": [
    {
     "name": "stdout",
     "output_type": "stream",
     "text": [
      "Best Threshold=0.31440712481323124, F-Score=0.631, Precision=0.622, Recall=0.641\n"
     ]
    }
   ],
   "source": [
    "precision, recall, thresholds = precision_recall_curve(y_test, preds)\n",
    "\n",
    "fscore = (2 * precision * recall) / (precision + recall)\n",
    "ix = np.argmax(fscore)\n",
    "print(f'Best Threshold={thresholds[ix]}, F-Score={fscore[ix]:.3f}, Precision={precision[ix]:.3f}, Recall={recall[ix]:.3f}')"
   ]
  },
  {
   "cell_type": "code",
   "execution_count": 19,
   "id": "59d5f47a",
   "metadata": {},
   "outputs": [],
   "source": [
    "from flask import Flask, request, jsonify"
   ]
  },
  {
   "cell_type": "code",
   "execution_count": null,
   "id": "e6275f65",
   "metadata": {},
   "outputs": [],
   "source": [
    "# app = Flask(__name__)\n",
    "# # run(app)\n",
    "\n",
    "# @app.route('/a')\n",
    "# def hello():\n",
    "#     return('Hello world')\n",
    "\n",
    "# if __name__ == '__main__':\n",
    "#     app.run()"
   ]
  },
  {
   "cell_type": "code",
   "execution_count": 20,
   "id": "a1a3f9eb",
   "metadata": {},
   "outputs": [],
   "source": [
    "with open('gradboost_pipeline.dill', 'rb') as f:\n",
    "    model = dill.load(f)"
   ]
  },
  {
   "cell_type": "code",
   "execution_count": 21,
   "id": "c376ab44",
   "metadata": {},
   "outputs": [],
   "source": [
    "X_test = pd.read_csv(\"X_test.csv\")\n",
    "y_test = pd.read_csv('y_test.csv')"
   ]
  },
  {
   "cell_type": "code",
   "execution_count": 22,
   "id": "681492dc",
   "metadata": {},
   "outputs": [],
   "source": [
    "x =  (600, 'Germany', 'Male', 50, 8, 100000.0, 1, 1, 1, 100000.0)"
   ]
  },
  {
   "cell_type": "code",
   "execution_count": 23,
   "id": "db9a3b20",
   "metadata": {},
   "outputs": [],
   "source": [
    "creditscore = x[0]\n",
    "geography = x[1]\n",
    "gender = x[2]\n",
    "age = x[3]\n",
    "tenure = x[4]\n",
    "balance = x[5]\n",
    "numofproducts = x[6]\n",
    "hascrcard  = x[7]\n",
    "isactivemember = x[8]\n",
    "estimatedsalary = x[9]"
   ]
  },
  {
   "cell_type": "code",
   "execution_count": 24,
   "id": "fdcb1e3a",
   "metadata": {},
   "outputs": [],
   "source": [
    "preds = model.predict_proba(pd.DataFrame({'Geography': [geography],\n",
    "                                            'Gender': [gender],\n",
    "                                            'Tenure': [tenure],\n",
    "                                            'HasCrCard': [hascrcard],\n",
    "                                            'IsActiveMember': [isactivemember],\n",
    "                                            'CreditScore': [creditscore],\n",
    "                                            'Age': [age],\n",
    "                                            'Balance': [balance],\n",
    "                                            'NumOfProducts': [numofproducts],\n",
    "                                            'EstimatedSalary': [estimatedsalary]}))"
   ]
  },
  {
   "cell_type": "code",
   "execution_count": 25,
   "id": "6c60aa99",
   "metadata": {},
   "outputs": [
    {
     "data": {
      "text/plain": [
       "array([[0.5451641, 0.4548359]])"
      ]
     },
     "execution_count": 25,
     "metadata": {},
     "output_type": "execute_result"
    }
   ],
   "source": [
    "preds"
   ]
  },
  {
   "cell_type": "code",
   "execution_count": 26,
   "id": "43ad10c3",
   "metadata": {},
   "outputs": [],
   "source": [
    "preds = model.predict_proba(X_test)"
   ]
  },
  {
   "cell_type": "code",
   "execution_count": 27,
   "id": "a9826dc7",
   "metadata": {},
   "outputs": [
    {
     "data": {
      "text/html": [
       "<div>\n",
       "<style scoped>\n",
       "    .dataframe tbody tr th:only-of-type {\n",
       "        vertical-align: middle;\n",
       "    }\n",
       "\n",
       "    .dataframe tbody tr th {\n",
       "        vertical-align: top;\n",
       "    }\n",
       "\n",
       "    .dataframe thead th {\n",
       "        text-align: right;\n",
       "    }\n",
       "</style>\n",
       "<table border=\"1\" class=\"dataframe\">\n",
       "  <thead>\n",
       "    <tr style=\"text-align: right;\">\n",
       "      <th></th>\n",
       "      <th>RowNumber</th>\n",
       "      <th>CustomerId</th>\n",
       "      <th>Surname</th>\n",
       "      <th>CreditScore</th>\n",
       "      <th>Geography</th>\n",
       "      <th>Gender</th>\n",
       "      <th>Age</th>\n",
       "      <th>Tenure</th>\n",
       "      <th>Balance</th>\n",
       "      <th>NumOfProducts</th>\n",
       "      <th>HasCrCard</th>\n",
       "      <th>IsActiveMember</th>\n",
       "      <th>EstimatedSalary</th>\n",
       "      <th>Exited</th>\n",
       "    </tr>\n",
       "  </thead>\n",
       "  <tbody>\n",
       "    <tr>\n",
       "      <th>0</th>\n",
       "      <td>8885</td>\n",
       "      <td>15749583</td>\n",
       "      <td>Bellucci</td>\n",
       "      <td>686</td>\n",
       "      <td>Germany</td>\n",
       "      <td>Female</td>\n",
       "      <td>38</td>\n",
       "      <td>2</td>\n",
       "      <td>93569.86</td>\n",
       "      <td>3</td>\n",
       "      <td>0</td>\n",
       "      <td>0</td>\n",
       "      <td>10137.34</td>\n",
       "      <td>1</td>\n",
       "    </tr>\n",
       "    <tr>\n",
       "      <th>1</th>\n",
       "      <td>4630</td>\n",
       "      <td>15687153</td>\n",
       "      <td>Graham</td>\n",
       "      <td>850</td>\n",
       "      <td>Germany</td>\n",
       "      <td>Male</td>\n",
       "      <td>49</td>\n",
       "      <td>8</td>\n",
       "      <td>98649.55</td>\n",
       "      <td>1</td>\n",
       "      <td>1</td>\n",
       "      <td>0</td>\n",
       "      <td>119174.88</td>\n",
       "      <td>1</td>\n",
       "    </tr>\n",
       "    <tr>\n",
       "      <th>2</th>\n",
       "      <td>727</td>\n",
       "      <td>15673570</td>\n",
       "      <td>Olsen</td>\n",
       "      <td>580</td>\n",
       "      <td>France</td>\n",
       "      <td>Male</td>\n",
       "      <td>37</td>\n",
       "      <td>9</td>\n",
       "      <td>104016.88</td>\n",
       "      <td>2</td>\n",
       "      <td>0</td>\n",
       "      <td>1</td>\n",
       "      <td>77108.66</td>\n",
       "      <td>0</td>\n",
       "    </tr>\n",
       "    <tr>\n",
       "      <th>3</th>\n",
       "      <td>3891</td>\n",
       "      <td>15719579</td>\n",
       "      <td>McIntosh</td>\n",
       "      <td>670</td>\n",
       "      <td>Germany</td>\n",
       "      <td>Female</td>\n",
       "      <td>33</td>\n",
       "      <td>9</td>\n",
       "      <td>84521.48</td>\n",
       "      <td>2</td>\n",
       "      <td>0</td>\n",
       "      <td>1</td>\n",
       "      <td>198017.05</td>\n",
       "      <td>0</td>\n",
       "    </tr>\n",
       "    <tr>\n",
       "      <th>4</th>\n",
       "      <td>712</td>\n",
       "      <td>15650288</td>\n",
       "      <td>Summers</td>\n",
       "      <td>634</td>\n",
       "      <td>Germany</td>\n",
       "      <td>Male</td>\n",
       "      <td>35</td>\n",
       "      <td>6</td>\n",
       "      <td>116269.01</td>\n",
       "      <td>1</td>\n",
       "      <td>1</td>\n",
       "      <td>0</td>\n",
       "      <td>129964.94</td>\n",
       "      <td>0</td>\n",
       "    </tr>\n",
       "    <tr>\n",
       "      <th>...</th>\n",
       "      <td>...</td>\n",
       "      <td>...</td>\n",
       "      <td>...</td>\n",
       "      <td>...</td>\n",
       "      <td>...</td>\n",
       "      <td>...</td>\n",
       "      <td>...</td>\n",
       "      <td>...</td>\n",
       "      <td>...</td>\n",
       "      <td>...</td>\n",
       "      <td>...</td>\n",
       "      <td>...</td>\n",
       "      <td>...</td>\n",
       "      <td>...</td>\n",
       "    </tr>\n",
       "    <tr>\n",
       "      <th>2495</th>\n",
       "      <td>3733</td>\n",
       "      <td>15689598</td>\n",
       "      <td>Dean</td>\n",
       "      <td>722</td>\n",
       "      <td>France</td>\n",
       "      <td>Male</td>\n",
       "      <td>46</td>\n",
       "      <td>6</td>\n",
       "      <td>107508.93</td>\n",
       "      <td>1</td>\n",
       "      <td>1</td>\n",
       "      <td>1</td>\n",
       "      <td>93917.68</td>\n",
       "      <td>1</td>\n",
       "    </tr>\n",
       "    <tr>\n",
       "      <th>2496</th>\n",
       "      <td>2839</td>\n",
       "      <td>15646196</td>\n",
       "      <td>Yeh</td>\n",
       "      <td>850</td>\n",
       "      <td>Spain</td>\n",
       "      <td>Female</td>\n",
       "      <td>36</td>\n",
       "      <td>2</td>\n",
       "      <td>155180.56</td>\n",
       "      <td>2</td>\n",
       "      <td>0</td>\n",
       "      <td>0</td>\n",
       "      <td>169415.54</td>\n",
       "      <td>0</td>\n",
       "    </tr>\n",
       "    <tr>\n",
       "      <th>2497</th>\n",
       "      <td>4464</td>\n",
       "      <td>15778975</td>\n",
       "      <td>Nnonso</td>\n",
       "      <td>850</td>\n",
       "      <td>Germany</td>\n",
       "      <td>Female</td>\n",
       "      <td>70</td>\n",
       "      <td>1</td>\n",
       "      <td>96947.58</td>\n",
       "      <td>3</td>\n",
       "      <td>1</td>\n",
       "      <td>0</td>\n",
       "      <td>62282.99</td>\n",
       "      <td>1</td>\n",
       "    </tr>\n",
       "    <tr>\n",
       "      <th>2498</th>\n",
       "      <td>1379</td>\n",
       "      <td>15682834</td>\n",
       "      <td>Johnstone</td>\n",
       "      <td>715</td>\n",
       "      <td>Spain</td>\n",
       "      <td>Female</td>\n",
       "      <td>35</td>\n",
       "      <td>4</td>\n",
       "      <td>40169.88</td>\n",
       "      <td>2</td>\n",
       "      <td>1</td>\n",
       "      <td>1</td>\n",
       "      <td>199857.47</td>\n",
       "      <td>0</td>\n",
       "    </tr>\n",
       "    <tr>\n",
       "      <th>2499</th>\n",
       "      <td>4194</td>\n",
       "      <td>15802362</td>\n",
       "      <td>Newland</td>\n",
       "      <td>550</td>\n",
       "      <td>Spain</td>\n",
       "      <td>Male</td>\n",
       "      <td>45</td>\n",
       "      <td>0</td>\n",
       "      <td>106518.52</td>\n",
       "      <td>2</td>\n",
       "      <td>0</td>\n",
       "      <td>1</td>\n",
       "      <td>70399.71</td>\n",
       "      <td>0</td>\n",
       "    </tr>\n",
       "  </tbody>\n",
       "</table>\n",
       "<p>2500 rows × 14 columns</p>\n",
       "</div>"
      ],
      "text/plain": [
       "      RowNumber  CustomerId    Surname  CreditScore Geography  Gender  Age  \\\n",
       "0          8885    15749583   Bellucci          686   Germany  Female   38   \n",
       "1          4630    15687153     Graham          850   Germany    Male   49   \n",
       "2           727    15673570      Olsen          580    France    Male   37   \n",
       "3          3891    15719579   McIntosh          670   Germany  Female   33   \n",
       "4           712    15650288    Summers          634   Germany    Male   35   \n",
       "...         ...         ...        ...          ...       ...     ...  ...   \n",
       "2495       3733    15689598       Dean          722    France    Male   46   \n",
       "2496       2839    15646196        Yeh          850     Spain  Female   36   \n",
       "2497       4464    15778975     Nnonso          850   Germany  Female   70   \n",
       "2498       1379    15682834  Johnstone          715     Spain  Female   35   \n",
       "2499       4194    15802362    Newland          550     Spain    Male   45   \n",
       "\n",
       "      Tenure    Balance  NumOfProducts  HasCrCard  IsActiveMember  \\\n",
       "0          2   93569.86              3          0               0   \n",
       "1          8   98649.55              1          1               0   \n",
       "2          9  104016.88              2          0               1   \n",
       "3          9   84521.48              2          0               1   \n",
       "4          6  116269.01              1          1               0   \n",
       "...      ...        ...            ...        ...             ...   \n",
       "2495       6  107508.93              1          1               1   \n",
       "2496       2  155180.56              2          0               0   \n",
       "2497       1   96947.58              3          1               0   \n",
       "2498       4   40169.88              2          1               1   \n",
       "2499       0  106518.52              2          0               1   \n",
       "\n",
       "      EstimatedSalary  Exited  \n",
       "0            10137.34       1  \n",
       "1           119174.88       1  \n",
       "2            77108.66       0  \n",
       "3           198017.05       0  \n",
       "4           129964.94       0  \n",
       "...               ...     ...  \n",
       "2495         93917.68       1  \n",
       "2496        169415.54       0  \n",
       "2497         62282.99       1  \n",
       "2498        199857.47       0  \n",
       "2499         70399.71       0  \n",
       "\n",
       "[2500 rows x 14 columns]"
      ]
     },
     "execution_count": 27,
     "metadata": {},
     "output_type": "execute_result"
    }
   ],
   "source": [
    "X_test"
   ]
  },
  {
   "cell_type": "code",
   "execution_count": 28,
   "id": "2223b661",
   "metadata": {},
   "outputs": [
    {
     "data": {
      "text/plain": [
       "array([[0.19203915, 0.80796085],\n",
       "       [0.21789835, 0.78210165],\n",
       "       [0.97436675, 0.02563325],\n",
       "       ...,\n",
       "       [0.07076337, 0.92923663],\n",
       "       [0.95437051, 0.04562949],\n",
       "       [0.90901741, 0.09098259]])"
      ]
     },
     "execution_count": 28,
     "metadata": {},
     "output_type": "execute_result"
    }
   ],
   "source": [
    "preds"
   ]
  },
  {
   "cell_type": "code",
   "execution_count": null,
   "id": "a9871526",
   "metadata": {},
   "outputs": [
    {
     "name": "stdout",
     "output_type": "stream",
     "text": [
      " * Serving Flask app '__main__'\n",
      " * Debug mode: off\n"
     ]
    },
    {
     "name": "stderr",
     "output_type": "stream",
     "text": [
      "WARNING: This is a development server. Do not use it in a production deployment. Use a production WSGI server instead.\n",
      " * Running on http://127.0.0.1:5000\n",
      "Press CTRL+C to quit\n",
      "127.0.0.1 - - [18/Feb/2023 01:46:47] \"POST /predict HTTP/1.1\" 200 -\n"
     ]
    },
    {
     "name": "stdout",
     "output_type": "stream",
     "text": [
      "OK\n"
     ]
    },
    {
     "name": "stderr",
     "output_type": "stream",
     "text": [
      "127.0.0.1 - - [18/Feb/2023 01:46:51] \"POST /predict HTTP/1.1\" 200 -\n"
     ]
    },
    {
     "name": "stdout",
     "output_type": "stream",
     "text": [
      "OK\n"
     ]
    },
    {
     "name": "stderr",
     "output_type": "stream",
     "text": [
      "127.0.0.1 - - [18/Feb/2023 01:46:56] \"POST /predict HTTP/1.1\" 200 -\n",
      "127.0.0.1 - - [18/Feb/2023 01:46:56] \"POST /predict HTTP/1.1\" 200 -\n"
     ]
    },
    {
     "name": "stdout",
     "output_type": "stream",
     "text": [
      "OK\n",
      "OK\n"
     ]
    },
    {
     "name": "stderr",
     "output_type": "stream",
     "text": [
      "127.0.0.1 - - [18/Feb/2023 01:47:03] \"POST /predict HTTP/1.1\" 200 -\n",
      "127.0.0.1 - - [18/Feb/2023 01:47:03] \"POST /predict HTTP/1.1\" 200 -\n",
      "[2023-02-18 01:47:03,778] ERROR in app: Exception on /predict [POST]\n",
      "Traceback (most recent call last):\n",
      "  File \"C:\\Users\\ASUS\\anaconda3\\envs\\gpu2\\lib\\site-packages\\flask\\app.py\", line 2525, in wsgi_app\n",
      "    response = self.full_dispatch_request()\n",
      "  File \"C:\\Users\\ASUS\\anaconda3\\envs\\gpu2\\lib\\site-packages\\flask\\app.py\", line 1822, in full_dispatch_request\n",
      "    rv = self.handle_user_exception(e)\n",
      "  File \"C:\\Users\\ASUS\\anaconda3\\envs\\gpu2\\lib\\site-packages\\flask\\app.py\", line 1820, in full_dispatch_request\n",
      "    rv = self.dispatch_request()\n",
      "  File \"C:\\Users\\ASUS\\anaconda3\\envs\\gpu2\\lib\\site-packages\\flask\\app.py\", line 1796, in dispatch_request\n",
      "    return self.ensure_sync(self.view_functions[rule.endpoint])(**view_args)\n",
      "  File \"C:\\Users\\ASUS\\AppData\\Local\\Temp\\ipykernel_5440\\1717074721.py\", line 37, in predict\n",
      "    preds = model.predict_proba(pd.DataFrame({'Geography': [geography],\n",
      "  File \"C:\\Users\\ASUS\\anaconda3\\envs\\gpu2\\lib\\site-packages\\sklearn\\utils\\metaestimators.py\", line 113, in <lambda>\n",
      "    out = lambda *args, **kwargs: self.fn(obj, *args, **kwargs)  # noqa\n",
      "  File \"C:\\Users\\ASUS\\anaconda3\\envs\\gpu2\\lib\\site-packages\\sklearn\\pipeline.py\", line 536, in predict_proba\n",
      "    return self.steps[-1][1].predict_proba(Xt, **predict_proba_params)\n",
      "  File \"C:\\Users\\ASUS\\anaconda3\\envs\\gpu2\\lib\\site-packages\\sklearn\\ensemble\\_gb.py\", line 1406, in predict_proba\n",
      "    raw_predictions = self.decision_function(X)\n",
      "  File \"C:\\Users\\ASUS\\anaconda3\\envs\\gpu2\\lib\\site-packages\\sklearn\\ensemble\\_gb.py\", line 1312, in decision_function\n",
      "    X = self._validate_data(\n",
      "  File \"C:\\Users\\ASUS\\anaconda3\\envs\\gpu2\\lib\\site-packages\\sklearn\\base.py\", line 566, in _validate_data\n",
      "    X = check_array(X, **check_params)\n",
      "  File \"C:\\Users\\ASUS\\anaconda3\\envs\\gpu2\\lib\\site-packages\\sklearn\\utils\\validation.py\", line 746, in check_array\n",
      "    array = np.asarray(array, order=order, dtype=dtype)\n",
      "ValueError: could not convert string to float: ''\n",
      "127.0.0.1 - - [18/Feb/2023 01:47:03] \"POST /predict HTTP/1.1\" 500 -\n"
     ]
    },
    {
     "name": "stdout",
     "output_type": "stream",
     "text": [
      "OK\n",
      "OK\n"
     ]
    },
    {
     "name": "stderr",
     "output_type": "stream",
     "text": [
      "127.0.0.1 - - [18/Feb/2023 01:49:18] \"POST /predict HTTP/1.1\" 200 -\n",
      "127.0.0.1 - - [18/Feb/2023 01:49:18] \"POST /predict HTTP/1.1\" 200 -\n",
      "[2023-02-18 01:49:18,247] ERROR in app: Exception on /predict [POST]\n",
      "Traceback (most recent call last):\n",
      "  File \"C:\\Users\\ASUS\\anaconda3\\envs\\gpu2\\lib\\site-packages\\flask\\app.py\", line 2525, in wsgi_app\n",
      "    response = self.full_dispatch_request()\n",
      "  File \"C:\\Users\\ASUS\\anaconda3\\envs\\gpu2\\lib\\site-packages\\flask\\app.py\", line 1822, in full_dispatch_request\n",
      "    rv = self.handle_user_exception(e)\n",
      "  File \"C:\\Users\\ASUS\\anaconda3\\envs\\gpu2\\lib\\site-packages\\flask\\app.py\", line 1820, in full_dispatch_request\n",
      "    rv = self.dispatch_request()\n",
      "  File \"C:\\Users\\ASUS\\anaconda3\\envs\\gpu2\\lib\\site-packages\\flask\\app.py\", line 1796, in dispatch_request\n",
      "    return self.ensure_sync(self.view_functions[rule.endpoint])(**view_args)\n",
      "  File \"C:\\Users\\ASUS\\AppData\\Local\\Temp\\ipykernel_5440\\1717074721.py\", line 37, in predict\n",
      "    preds = model.predict_proba(pd.DataFrame({'Geography': [geography],\n",
      "  File \"C:\\Users\\ASUS\\anaconda3\\envs\\gpu2\\lib\\site-packages\\sklearn\\utils\\metaestimators.py\", line 113, in <lambda>\n",
      "    out = lambda *args, **kwargs: self.fn(obj, *args, **kwargs)  # noqa\n",
      "  File \"C:\\Users\\ASUS\\anaconda3\\envs\\gpu2\\lib\\site-packages\\sklearn\\pipeline.py\", line 536, in predict_proba\n",
      "    return self.steps[-1][1].predict_proba(Xt, **predict_proba_params)\n",
      "  File \"C:\\Users\\ASUS\\anaconda3\\envs\\gpu2\\lib\\site-packages\\sklearn\\ensemble\\_gb.py\", line 1406, in predict_proba\n",
      "    raw_predictions = self.decision_function(X)\n",
      "  File \"C:\\Users\\ASUS\\anaconda3\\envs\\gpu2\\lib\\site-packages\\sklearn\\ensemble\\_gb.py\", line 1312, in decision_function\n",
      "    X = self._validate_data(\n",
      "  File \"C:\\Users\\ASUS\\anaconda3\\envs\\gpu2\\lib\\site-packages\\sklearn\\base.py\", line 566, in _validate_data\n",
      "    X = check_array(X, **check_params)\n",
      "  File \"C:\\Users\\ASUS\\anaconda3\\envs\\gpu2\\lib\\site-packages\\sklearn\\utils\\validation.py\", line 746, in check_array\n",
      "    array = np.asarray(array, order=order, dtype=dtype)\n",
      "ValueError: could not convert string to float: ''\n",
      "127.0.0.1 - - [18/Feb/2023 01:49:18] \"POST /predict HTTP/1.1\" 500 -\n"
     ]
    },
    {
     "name": "stdout",
     "output_type": "stream",
     "text": [
      "OK\n",
      "OK\n"
     ]
    },
    {
     "name": "stderr",
     "output_type": "stream",
     "text": [
      "127.0.0.1 - - [18/Feb/2023 01:50:28] \"POST /predict HTTP/1.1\" 200 -\n",
      "127.0.0.1 - - [18/Feb/2023 01:50:28] \"POST /predict HTTP/1.1\" 200 -\n"
     ]
    },
    {
     "name": "stdout",
     "output_type": "stream",
     "text": [
      "OK\n",
      "OK\n"
     ]
    },
    {
     "name": "stderr",
     "output_type": "stream",
     "text": [
      "127.0.0.1 - - [18/Feb/2023 01:50:51] \"POST /predict HTTP/1.1\" 200 -\n",
      "127.0.0.1 - - [18/Feb/2023 01:50:51] \"POST /predict HTTP/1.1\" 200 -\n",
      "[2023-02-18 01:50:51,122] ERROR in app: Exception on /predict [POST]\n",
      "Traceback (most recent call last):\n",
      "  File \"C:\\Users\\ASUS\\anaconda3\\envs\\gpu2\\lib\\site-packages\\flask\\app.py\", line 2525, in wsgi_app\n",
      "    response = self.full_dispatch_request()\n",
      "  File \"C:\\Users\\ASUS\\anaconda3\\envs\\gpu2\\lib\\site-packages\\flask\\app.py\", line 1822, in full_dispatch_request\n",
      "    rv = self.handle_user_exception(e)\n",
      "  File \"C:\\Users\\ASUS\\anaconda3\\envs\\gpu2\\lib\\site-packages\\flask\\app.py\", line 1820, in full_dispatch_request\n",
      "    rv = self.dispatch_request()\n",
      "  File \"C:\\Users\\ASUS\\anaconda3\\envs\\gpu2\\lib\\site-packages\\flask\\app.py\", line 1796, in dispatch_request\n",
      "    return self.ensure_sync(self.view_functions[rule.endpoint])(**view_args)\n",
      "  File \"C:\\Users\\ASUS\\AppData\\Local\\Temp\\ipykernel_5440\\1717074721.py\", line 37, in predict\n",
      "    preds = model.predict_proba(pd.DataFrame({'Geography': [geography],\n",
      "  File \"C:\\Users\\ASUS\\anaconda3\\envs\\gpu2\\lib\\site-packages\\sklearn\\utils\\metaestimators.py\", line 113, in <lambda>\n",
      "    out = lambda *args, **kwargs: self.fn(obj, *args, **kwargs)  # noqa\n",
      "  File \"C:\\Users\\ASUS\\anaconda3\\envs\\gpu2\\lib\\site-packages\\sklearn\\pipeline.py\", line 536, in predict_proba\n",
      "    return self.steps[-1][1].predict_proba(Xt, **predict_proba_params)\n",
      "  File \"C:\\Users\\ASUS\\anaconda3\\envs\\gpu2\\lib\\site-packages\\sklearn\\ensemble\\_gb.py\", line 1406, in predict_proba\n",
      "    raw_predictions = self.decision_function(X)\n",
      "  File \"C:\\Users\\ASUS\\anaconda3\\envs\\gpu2\\lib\\site-packages\\sklearn\\ensemble\\_gb.py\", line 1312, in decision_function\n",
      "    X = self._validate_data(\n",
      "  File \"C:\\Users\\ASUS\\anaconda3\\envs\\gpu2\\lib\\site-packages\\sklearn\\base.py\", line 566, in _validate_data\n",
      "    X = check_array(X, **check_params)\n",
      "  File \"C:\\Users\\ASUS\\anaconda3\\envs\\gpu2\\lib\\site-packages\\sklearn\\utils\\validation.py\", line 746, in check_array\n",
      "    array = np.asarray(array, order=order, dtype=dtype)\n",
      "ValueError: could not convert string to float: ''\n",
      "127.0.0.1 - - [18/Feb/2023 01:50:51] \"POST /predict HTTP/1.1\" 500 -\n"
     ]
    },
    {
     "name": "stdout",
     "output_type": "stream",
     "text": [
      "OK\n",
      "OK\n"
     ]
    }
   ],
   "source": [
    "app = Flask(__name__)\n",
    "\n",
    "@app.route(\"/\", methods=['GET'])\n",
    "def general():\n",
    "    return \"Welcome to prediction process\"\n",
    "\n",
    "@app.route(\"/predict\", methods=[\"POST\"])\n",
    "def predict():\n",
    "    data = {'success': False}\n",
    "    \n",
    "    request_json = request.get_json()\n",
    "    geography, gender, tenure = '','',''\n",
    "    balance, numofproducts, estimatedsalary, age = \"\",'','', ''\n",
    "    creditscore, age = '',''\n",
    "    hascrcard, isactivemember = \"\",''\n",
    "    if request_json['Geography']:\n",
    "        geography = request_json['Geography']\n",
    "    if request_json['Gender']:\n",
    "        gender = request_json['Gender']\n",
    "    if request_json['Tenure']:\n",
    "        tenure = request_json['Tenure']\n",
    "    if request_json['HasCrCard']:\n",
    "        hascrcard = request_json['HasCrCard']\n",
    "    if request_json['IsActiveMember']:\n",
    "        isactivemember = request_json['IsActiveMember']\n",
    "    if request_json['CreditScore']:\n",
    "        creditscore = request_json['CreditScore']\n",
    "    if request_json['Age']:\n",
    "        age = request_json['Age']\n",
    "    if request_json['Balance']:\n",
    "        balance = request_json['Balance']\n",
    "    if request_json['NumOfProducts']:\n",
    "        numofproducts = request_json['NumOfProducts']\n",
    "    if request_json['EstimatedSalary']:\n",
    "        estimatedsalary = request_json['EstimatedSalary']\n",
    "    \n",
    "    preds = model.predict_proba(pd.DataFrame({'Geography': [geography],\n",
    "                                            'Gender': [gender],\n",
    "                                            'Tenure': [tenure],\n",
    "                                            'HasCrCard': [hascrcard],\n",
    "                                            'IsActiveMember': [isactivemember],\n",
    "                                            'CreditScore': [creditscore],\n",
    "                                            'Age': [age],\n",
    "                                            'Balance': [balance],\n",
    "                                            'NumOfProducts': [numofproducts],\n",
    "                                            'EstimatedSalary': [estimatedsalary]}))\n",
    "    data['predictions'] = preds[:, 1][0]\n",
    "    data['success'] = True\n",
    "    print('OK')\n",
    "    \n",
    "    return jsonify(data)\n",
    "\n",
    "if __name__ == '__main__':\n",
    "    app.run()"
   ]
  }
 ],
 "metadata": {
  "kernelspec": {
   "display_name": "gpu2",
   "language": "python",
   "name": "gpu2"
  },
  "language_info": {
   "codemirror_mode": {
    "name": "ipython",
    "version": 3
   },
   "file_extension": ".py",
   "mimetype": "text/x-python",
   "name": "python",
   "nbconvert_exporter": "python",
   "pygments_lexer": "ipython3",
   "version": "3.9.15"
  }
 },
 "nbformat": 4,
 "nbformat_minor": 5
}
