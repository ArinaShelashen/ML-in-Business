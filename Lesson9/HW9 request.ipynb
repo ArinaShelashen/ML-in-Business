{
 "cells": [
  {
   "cell_type": "code",
   "execution_count": 1,
   "id": "6cf49ade",
   "metadata": {},
   "outputs": [],
   "source": [
    "import requests\n",
    "import urllib.request\n",
    "import json\n",
    "import pandas as pd\n",
    "import numpy as np"
   ]
  },
  {
   "cell_type": "code",
   "execution_count": 2,
   "id": "ac83bf86",
   "metadata": {},
   "outputs": [],
   "source": [
    "#создаем фиктивные данные для проверки работы модели\n",
    "data = (600, 'Germany', 'Male', 50, 8, 100000.0, 1, 1, 1, 100000.0)"
   ]
  },
  {
   "cell_type": "code",
   "execution_count": 3,
   "id": "9cc3b151",
   "metadata": {},
   "outputs": [],
   "source": [
    "def send_json(x):\n",
    "    for i in range(len(x)):\n",
    "        if isinstance(x[i], np.integer):\n",
    "            x[i] = int(x[i])\n",
    "        elif isinstance(x[i], np.floating):\n",
    "            x[i] = float(x[i])\n",
    "        elif isinstance(x[i], np.ndarray):\n",
    "            x[i] = x[i].tolist()\n",
    "    creditscore = x[0]\n",
    "    geography = x[1]\n",
    "    gender = x[2]\n",
    "    age = x[3]\n",
    "    tenure = x[4]\n",
    "    balance = x[5]\n",
    "    numofproducts = x[6]\n",
    "    hascrcard  = x[7]\n",
    "    isactivemember = x[8]\n",
    "    estimatedsalary = x[9]\n",
    "    body = {'Geography': geography,\n",
    "            'Gender': gender,\n",
    "            'Tenure': tenure,\n",
    "            'HasCrCard': hascrcard,\n",
    "            'IsActiveMember': isactivemember,\n",
    "            'CreditScore': creditscore,\n",
    "            'Age': age,\n",
    "            'Balance': balance,\n",
    "            'NumOfProducts': numofproducts,\n",
    "            'EstimatedSalary': estimatedsalary}\n",
    "    myurl = 'http://127.0.0.1:5000/' + 'predict'\n",
    "    headers = {'content-type': 'application/json; charset=utf-8'}\n",
    "    response = requests.post(myurl, json=body, headers=headers)\n",
    "    return response.json()['predictions']\n"
   ]
  },
  {
   "cell_type": "code",
   "execution_count": 4,
   "id": "b41c9b06",
   "metadata": {},
   "outputs": [
    {
     "name": "stdout",
     "output_type": "stream",
     "text": [
      "Предсказание 0.41253895149327063\n"
     ]
    }
   ],
   "source": [
    "#проверка работы сервера на фиктивных данных\n",
    "response = send_json(data)\n",
    "print('Предсказание', response)"
   ]
  },
  {
   "cell_type": "code",
   "execution_count": 5,
   "id": "6155da25",
   "metadata": {},
   "outputs": [],
   "source": [
    "X_test = pd.read_csv(\"X_test.csv\")"
   ]
  },
  {
   "cell_type": "code",
   "execution_count": 6,
   "id": "e5427c06",
   "metadata": {},
   "outputs": [],
   "source": [
    "#проверка работы сервера на тестовых данных (1 строка)\n",
    "response = send_json(X_test[['CreditScore','Geography', 'Gender', 'Age', 'Tenure', 'Balance','NumOfProducts','HasCrCard', 'IsActiveMember', 'EstimatedSalary']].iloc[0,:])"
   ]
  },
  {
   "cell_type": "code",
   "execution_count": 7,
   "id": "ccfce90a",
   "metadata": {},
   "outputs": [
    {
     "data": {
      "text/plain": [
       "0.7410813336913679"
      ]
     },
     "execution_count": 7,
     "metadata": {},
     "output_type": "execute_result"
    }
   ],
   "source": [
    "response"
   ]
  },
  {
   "cell_type": "code",
   "execution_count": 8,
   "id": "c4f92a1b",
   "metadata": {},
   "outputs": [],
   "source": [
    "#проверка работы на двух строках\n",
    "N =2"
   ]
  },
  {
   "cell_type": "code",
   "execution_count": 9,
   "id": "b14fa8f5",
   "metadata": {},
   "outputs": [
    {
     "name": "stdout",
     "output_type": "stream",
     "text": [
      "CPU times: total: 0 ns\n",
      "Wall time: 59.4 ms\n"
     ]
    }
   ],
   "source": [
    "%%time\n",
    "predictions = X_test[\n",
    "    ['CreditScore','Geography', 'Gender', 'Age', 'Tenure', 'Balance','NumOfProducts','HasCrCard', 'IsActiveMember', 'EstimatedSalary']\n",
    "].iloc[:N].apply(lambda x: send_json(x), axis=1)"
   ]
  },
  {
   "cell_type": "code",
   "execution_count": 10,
   "id": "6d754c4f",
   "metadata": {},
   "outputs": [
    {
     "data": {
      "text/plain": [
       "0    0.741081\n",
       "1    0.698985\n",
       "dtype: float64"
      ]
     },
     "execution_count": 10,
     "metadata": {},
     "output_type": "execute_result"
    }
   ],
   "source": [
    "predictions"
   ]
  },
  {
   "cell_type": "markdown",
   "id": "dd71271b",
   "metadata": {},
   "source": [
    "**На трёх и более ломается:( (3 строка ломаная, не понимаю почему)**"
   ]
  },
  {
   "cell_type": "code",
   "execution_count": 14,
   "id": "28fbd04e",
   "metadata": {},
   "outputs": [],
   "source": [
    "N = 50"
   ]
  },
  {
   "cell_type": "code",
   "execution_count": 15,
   "id": "51900597",
   "metadata": {},
   "outputs": [
    {
     "name": "stdout",
     "output_type": "stream",
     "text": [
      "CPU times: total: 15.6 ms\n",
      "Wall time: 1.54 s\n"
     ]
    }
   ],
   "source": [
    "%%time\n",
    "predictions = X_test[\n",
    "    ['CreditScore','Geography', 'Gender', 'Age', 'Tenure', 'Balance','NumOfProducts','HasCrCard', 'IsActiveMember', 'EstimatedSalary']\n",
    "].iloc[:N].apply(lambda x: send_json(x), axis=1)"
   ]
  },
  {
   "cell_type": "code",
   "execution_count": 16,
   "id": "c65582c7",
   "metadata": {},
   "outputs": [
    {
     "data": {
      "text/plain": [
       "0     0.741081\n",
       "1     0.698985\n",
       "2     0.025858\n",
       "3     0.020044\n",
       "4     0.355969\n",
       "5     0.416861\n",
       "6     0.262298\n",
       "7     0.108474\n",
       "8     0.360916\n",
       "9     0.417940\n",
       "10    0.047120\n",
       "11    0.082764\n",
       "12    0.094864\n",
       "13    0.032480\n",
       "14    0.052499\n",
       "15    0.229919\n",
       "16    0.066603\n",
       "17    0.499657\n",
       "18    0.379812\n",
       "19    0.071245\n",
       "20    0.043522\n",
       "21    0.024751\n",
       "22    0.902124\n",
       "23    0.022593\n",
       "24    0.839940\n",
       "25    0.046253\n",
       "26    0.120797\n",
       "27    0.896502\n",
       "28    0.165892\n",
       "29    0.151011\n",
       "30    0.310959\n",
       "31    0.168284\n",
       "32    0.151380\n",
       "33    0.107545\n",
       "34    0.041012\n",
       "35    0.416371\n",
       "36    0.076794\n",
       "37    0.082785\n",
       "38    0.064139\n",
       "39    0.019635\n",
       "40    0.471396\n",
       "41    0.189619\n",
       "42    0.119469\n",
       "43    0.198565\n",
       "44    0.115265\n",
       "45    0.018929\n",
       "46    0.069673\n",
       "47    0.024420\n",
       "48    0.532983\n",
       "49    0.089026\n",
       "dtype: float64"
      ]
     },
     "execution_count": 16,
     "metadata": {},
     "output_type": "execute_result"
    }
   ],
   "source": [
    "predictions"
   ]
  }
 ],
 "metadata": {
  "kernelspec": {
   "display_name": "gpu2",
   "language": "python",
   "name": "gpu2"
  },
  "language_info": {
   "codemirror_mode": {
    "name": "ipython",
    "version": 3
   },
   "file_extension": ".py",
   "mimetype": "text/x-python",
   "name": "python",
   "nbconvert_exporter": "python",
   "pygments_lexer": "ipython3",
   "version": "3.9.15"
  }
 },
 "nbformat": 4,
 "nbformat_minor": 5
}
